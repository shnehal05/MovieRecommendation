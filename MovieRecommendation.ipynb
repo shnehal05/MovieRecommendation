{
 "cells": [
  {
   "cell_type": "code",
   "execution_count": 1,
   "id": "b0542f6b",
   "metadata": {},
   "outputs": [],
   "source": [
    "import pandas as pd\n",
    "import numpy as np\n",
    "import ast\n",
    "from sklearn.feature_extraction.text import TfidfVectorizer\n",
    "from sklearn.metrics.pairwise import cosine_similarity \n",
    "import pickle"
   ]
  },
  {
   "cell_type": "code",
   "execution_count": 2,
   "id": "b4637063",
   "metadata": {},
   "outputs": [
    {
     "name": "stdout",
     "output_type": "stream",
     "text": [
      "(4809, 23)\n",
      "      budget                                             genres  \\\n",
      "0  237000000  [{\"id\": 28, \"name\": \"Action\"}, {\"id\": 12, \"nam...   \n",
      "\n",
      "                      homepage     id  \\\n",
      "0  http://www.avatarmovie.com/  19995   \n",
      "\n",
      "                                            keywords original_language  \\\n",
      "0  [{\"id\": 1463, \"name\": \"culture clash\"}, {\"id\":...                en   \n",
      "\n",
      "  original_title                                           overview  \\\n",
      "0         Avatar  In the 22nd century, a paraplegic Marine is di...   \n",
      "\n",
      "   popularity                               production_companies  ... runtime  \\\n",
      "0  150.437577  [{\"name\": \"Ingenious Film Partners\", \"id\": 289...  ...   162.0   \n",
      "\n",
      "                                    spoken_languages    status  \\\n",
      "0  [{\"iso_639_1\": \"en\", \"name\": \"English\"}, {\"iso...  Released   \n",
      "\n",
      "                       tagline   title vote_average vote_count movie_id  \\\n",
      "0  Enter the World of Pandora.  Avatar          7.2      11800    19995   \n",
      "\n",
      "                                                cast  \\\n",
      "0  [{\"cast_id\": 242, \"character\": \"Jake Sully\", \"...   \n",
      "\n",
      "                                                crew  \n",
      "0  [{\"credit_id\": \"52fe48009251416c750aca23\", \"de...  \n",
      "\n",
      "[1 rows x 23 columns]\n"
     ]
    }
   ],
   "source": [
    "m=pd.read_csv(r\"C:\\Users\\Acer\\OneDrive\\Desktop\\College\\Projects\\Movie Recommendation\\tmdb_5000_movies.csv\")\n",
    "c=pd.read_csv(r\"C:\\Users\\Acer\\OneDrive\\Desktop\\College\\Projects\\Movie Recommendation\\tmdb_5000_credits.csv\")\n",
    "\n",
    "movies=m.merge(c, on='title') #merge dataset on the basis of Title of the mvoies\n",
    "print(movies.shape)\n",
    "print(movies.head(1))"
   ]
  },
  {
   "cell_type": "code",
   "execution_count": 3,
   "id": "b699a672",
   "metadata": {},
   "outputs": [
    {
     "name": "stdout",
     "output_type": "stream",
     "text": [
      "Index(['budget', 'genres', 'homepage', 'id', 'keywords', 'original_language',\n",
      "       'original_title', 'overview', 'popularity', 'production_companies',\n",
      "       'production_countries', 'release_date', 'revenue', 'runtime',\n",
      "       'spoken_languages', 'status', 'tagline', 'title', 'vote_average',\n",
      "       'vote_count', 'movie_id', 'cast', 'crew'],\n",
      "      dtype='object')\n",
      "      id                                     title  \\\n",
      "0  19995                                    Avatar   \n",
      "1    285  Pirates of the Caribbean: At World's End   \n",
      "\n",
      "                                            overview  \\\n",
      "0  In the 22nd century, a paraplegic Marine is di...   \n",
      "1  Captain Barbossa, long believed to be dead, ha...   \n",
      "\n",
      "                                            keywords  \\\n",
      "0  [{\"id\": 1463, \"name\": \"culture clash\"}, {\"id\":...   \n",
      "1  [{\"id\": 270, \"name\": \"ocean\"}, {\"id\": 726, \"na...   \n",
      "\n",
      "                                              genres  \\\n",
      "0  [{\"id\": 28, \"name\": \"Action\"}, {\"id\": 12, \"nam...   \n",
      "1  [{\"id\": 12, \"name\": \"Adventure\"}, {\"id\": 14, \"...   \n",
      "\n",
      "                                                cast  \\\n",
      "0  [{\"cast_id\": 242, \"character\": \"Jake Sully\", \"...   \n",
      "1  [{\"cast_id\": 4, \"character\": \"Captain Jack Spa...   \n",
      "\n",
      "                                                crew  \n",
      "0  [{\"credit_id\": \"52fe48009251416c750aca23\", \"de...  \n",
      "1  [{\"credit_id\": \"52fe4232c3a36847f800b579\", \"de...  \n"
     ]
    }
   ],
   "source": [
    "print(movies.columns)\n",
    "movies=movies[['id','title','overview','keywords','genres','cast','crew']] #selected coloumns for recommendation\n",
    "print(movies.head(2))"
   ]
  },
  {
   "cell_type": "code",
   "execution_count": 4,
   "id": "ade0cb46",
   "metadata": {},
   "outputs": [
    {
     "name": "stdout",
     "output_type": "stream",
     "text": [
      "id          0\n",
      "title       0\n",
      "overview    0\n",
      "keywords    0\n",
      "genres      0\n",
      "cast        0\n",
      "crew        0\n",
      "dtype: int64\n"
     ]
    },
    {
     "data": {
      "text/plain": [
       "0"
      ]
     },
     "execution_count": 4,
     "metadata": {},
     "output_type": "execute_result"
    }
   ],
   "source": [
    "# print(movies.isnull().sum())\n",
    "movies.dropna(inplace=True) # drop the empty rows\n",
    "print(movies.isnull().sum())\n",
    "\n",
    "movies.duplicated().sum()"
   ]
  },
  {
   "cell_type": "code",
   "execution_count": 5,
   "id": "2d1a0172",
   "metadata": {},
   "outputs": [
    {
     "data": {
      "text/plain": [
       "'[{\"id\": 28, \"name\": \"Action\"}, {\"id\": 12, \"name\": \"Adventure\"}, {\"id\": 14, \"name\": \"Fantasy\"}, {\"id\": 878, \"name\": \"Science Fiction\"}]'"
      ]
     },
     "execution_count": 5,
     "metadata": {},
     "output_type": "execute_result"
    }
   ],
   "source": [
    "movies['genres'].iloc[0]\n",
    "#desired format: [Action,Adventure,Science Fiction]\n"
   ]
  },
  {
   "cell_type": "code",
   "execution_count": 6,
   "id": "92d67f06",
   "metadata": {
    "scrolled": false
   },
   "outputs": [],
   "source": [
    "def convert(obj):\n",
    "    L = []\n",
    "    for i in ast.literal_eval(obj):  # literal_eval converts string to list\n",
    "        L.append(i['name'])\n",
    "    return L\n"
   ]
  },
  {
   "cell_type": "code",
   "execution_count": 7,
   "id": "60a933b1",
   "metadata": {
    "scrolled": true
   },
   "outputs": [],
   "source": [
    "movies['genres']=movies['genres'].apply(convert) #apply function is used to apply a function on a coloumn of a dataset"
   ]
  },
  {
   "cell_type": "code",
   "execution_count": 8,
   "id": "51e62ba1",
   "metadata": {},
   "outputs": [
    {
     "data": {
      "text/html": [
       "<div>\n",
       "<style scoped>\n",
       "    .dataframe tbody tr th:only-of-type {\n",
       "        vertical-align: middle;\n",
       "    }\n",
       "\n",
       "    .dataframe tbody tr th {\n",
       "        vertical-align: top;\n",
       "    }\n",
       "\n",
       "    .dataframe thead th {\n",
       "        text-align: right;\n",
       "    }\n",
       "</style>\n",
       "<table border=\"1\" class=\"dataframe\">\n",
       "  <thead>\n",
       "    <tr style=\"text-align: right;\">\n",
       "      <th></th>\n",
       "      <th>id</th>\n",
       "      <th>title</th>\n",
       "      <th>overview</th>\n",
       "      <th>keywords</th>\n",
       "      <th>genres</th>\n",
       "      <th>cast</th>\n",
       "      <th>crew</th>\n",
       "    </tr>\n",
       "  </thead>\n",
       "  <tbody>\n",
       "    <tr>\n",
       "      <th>0</th>\n",
       "      <td>19995</td>\n",
       "      <td>Avatar</td>\n",
       "      <td>In the 22nd century, a paraplegic Marine is di...</td>\n",
       "      <td>[{\"id\": 1463, \"name\": \"culture clash\"}, {\"id\":...</td>\n",
       "      <td>[Action, Adventure, Fantasy, Science Fiction]</td>\n",
       "      <td>[{\"cast_id\": 242, \"character\": \"Jake Sully\", \"...</td>\n",
       "      <td>[{\"credit_id\": \"52fe48009251416c750aca23\", \"de...</td>\n",
       "    </tr>\n",
       "  </tbody>\n",
       "</table>\n",
       "</div>"
      ],
      "text/plain": [
       "      id   title                                           overview  \\\n",
       "0  19995  Avatar  In the 22nd century, a paraplegic Marine is di...   \n",
       "\n",
       "                                            keywords  \\\n",
       "0  [{\"id\": 1463, \"name\": \"culture clash\"}, {\"id\":...   \n",
       "\n",
       "                                          genres  \\\n",
       "0  [Action, Adventure, Fantasy, Science Fiction]   \n",
       "\n",
       "                                                cast  \\\n",
       "0  [{\"cast_id\": 242, \"character\": \"Jake Sully\", \"...   \n",
       "\n",
       "                                                crew  \n",
       "0  [{\"credit_id\": \"52fe48009251416c750aca23\", \"de...  "
      ]
     },
     "execution_count": 8,
     "metadata": {},
     "output_type": "execute_result"
    }
   ],
   "source": [
    "movies.head(1)"
   ]
  },
  {
   "cell_type": "code",
   "execution_count": 9,
   "id": "0b3c60c0",
   "metadata": {},
   "outputs": [],
   "source": [
    "movies['keywords']=movies['keywords'].apply(convert)"
   ]
  },
  {
   "cell_type": "code",
   "execution_count": 10,
   "id": "60c95dc0",
   "metadata": {},
   "outputs": [
    {
     "data": {
      "text/html": [
       "<div>\n",
       "<style scoped>\n",
       "    .dataframe tbody tr th:only-of-type {\n",
       "        vertical-align: middle;\n",
       "    }\n",
       "\n",
       "    .dataframe tbody tr th {\n",
       "        vertical-align: top;\n",
       "    }\n",
       "\n",
       "    .dataframe thead th {\n",
       "        text-align: right;\n",
       "    }\n",
       "</style>\n",
       "<table border=\"1\" class=\"dataframe\">\n",
       "  <thead>\n",
       "    <tr style=\"text-align: right;\">\n",
       "      <th></th>\n",
       "      <th>id</th>\n",
       "      <th>title</th>\n",
       "      <th>overview</th>\n",
       "      <th>keywords</th>\n",
       "      <th>genres</th>\n",
       "      <th>cast</th>\n",
       "      <th>crew</th>\n",
       "    </tr>\n",
       "  </thead>\n",
       "  <tbody>\n",
       "    <tr>\n",
       "      <th>0</th>\n",
       "      <td>19995</td>\n",
       "      <td>Avatar</td>\n",
       "      <td>In the 22nd century, a paraplegic Marine is di...</td>\n",
       "      <td>[culture clash, future, space war, space colon...</td>\n",
       "      <td>[Action, Adventure, Fantasy, Science Fiction]</td>\n",
       "      <td>[{\"cast_id\": 242, \"character\": \"Jake Sully\", \"...</td>\n",
       "      <td>[{\"credit_id\": \"52fe48009251416c750aca23\", \"de...</td>\n",
       "    </tr>\n",
       "  </tbody>\n",
       "</table>\n",
       "</div>"
      ],
      "text/plain": [
       "      id   title                                           overview  \\\n",
       "0  19995  Avatar  In the 22nd century, a paraplegic Marine is di...   \n",
       "\n",
       "                                            keywords  \\\n",
       "0  [culture clash, future, space war, space colon...   \n",
       "\n",
       "                                          genres  \\\n",
       "0  [Action, Adventure, Fantasy, Science Fiction]   \n",
       "\n",
       "                                                cast  \\\n",
       "0  [{\"cast_id\": 242, \"character\": \"Jake Sully\", \"...   \n",
       "\n",
       "                                                crew  \n",
       "0  [{\"credit_id\": \"52fe48009251416c750aca23\", \"de...  "
      ]
     },
     "execution_count": 10,
     "metadata": {},
     "output_type": "execute_result"
    }
   ],
   "source": [
    "movies.head(1)"
   ]
  },
  {
   "cell_type": "code",
   "execution_count": 11,
   "id": "8c21e368",
   "metadata": {},
   "outputs": [],
   "source": [
    "def convert1(obj):\n",
    "    L = []\n",
    "    counter=0\n",
    "    for i in ast.literal_eval(obj): \n",
    "        if counter!=3:          # as we only need the top 3 casts\n",
    "            L.append(i['name'])\n",
    "            counter+=1\n",
    "        else:\n",
    "            break\n",
    "    return L"
   ]
  },
  {
   "cell_type": "code",
   "execution_count": 12,
   "id": "e2aade04",
   "metadata": {},
   "outputs": [],
   "source": [
    "movies['cast']=movies['cast'].apply(convert1)"
   ]
  },
  {
   "cell_type": "code",
   "execution_count": 13,
   "id": "b72d38b2",
   "metadata": {},
   "outputs": [
    {
     "data": {
      "text/html": [
       "<div>\n",
       "<style scoped>\n",
       "    .dataframe tbody tr th:only-of-type {\n",
       "        vertical-align: middle;\n",
       "    }\n",
       "\n",
       "    .dataframe tbody tr th {\n",
       "        vertical-align: top;\n",
       "    }\n",
       "\n",
       "    .dataframe thead th {\n",
       "        text-align: right;\n",
       "    }\n",
       "</style>\n",
       "<table border=\"1\" class=\"dataframe\">\n",
       "  <thead>\n",
       "    <tr style=\"text-align: right;\">\n",
       "      <th></th>\n",
       "      <th>id</th>\n",
       "      <th>title</th>\n",
       "      <th>overview</th>\n",
       "      <th>keywords</th>\n",
       "      <th>genres</th>\n",
       "      <th>cast</th>\n",
       "      <th>crew</th>\n",
       "    </tr>\n",
       "  </thead>\n",
       "  <tbody>\n",
       "    <tr>\n",
       "      <th>0</th>\n",
       "      <td>19995</td>\n",
       "      <td>Avatar</td>\n",
       "      <td>In the 22nd century, a paraplegic Marine is di...</td>\n",
       "      <td>[culture clash, future, space war, space colon...</td>\n",
       "      <td>[Action, Adventure, Fantasy, Science Fiction]</td>\n",
       "      <td>[Sam Worthington, Zoe Saldana, Sigourney Weaver]</td>\n",
       "      <td>[{\"credit_id\": \"52fe48009251416c750aca23\", \"de...</td>\n",
       "    </tr>\n",
       "    <tr>\n",
       "      <th>1</th>\n",
       "      <td>285</td>\n",
       "      <td>Pirates of the Caribbean: At World's End</td>\n",
       "      <td>Captain Barbossa, long believed to be dead, ha...</td>\n",
       "      <td>[ocean, drug abuse, exotic island, east india ...</td>\n",
       "      <td>[Adventure, Fantasy, Action]</td>\n",
       "      <td>[Johnny Depp, Orlando Bloom, Keira Knightley]</td>\n",
       "      <td>[{\"credit_id\": \"52fe4232c3a36847f800b579\", \"de...</td>\n",
       "    </tr>\n",
       "  </tbody>\n",
       "</table>\n",
       "</div>"
      ],
      "text/plain": [
       "      id                                     title  \\\n",
       "0  19995                                    Avatar   \n",
       "1    285  Pirates of the Caribbean: At World's End   \n",
       "\n",
       "                                            overview  \\\n",
       "0  In the 22nd century, a paraplegic Marine is di...   \n",
       "1  Captain Barbossa, long believed to be dead, ha...   \n",
       "\n",
       "                                            keywords  \\\n",
       "0  [culture clash, future, space war, space colon...   \n",
       "1  [ocean, drug abuse, exotic island, east india ...   \n",
       "\n",
       "                                          genres  \\\n",
       "0  [Action, Adventure, Fantasy, Science Fiction]   \n",
       "1                   [Adventure, Fantasy, Action]   \n",
       "\n",
       "                                               cast  \\\n",
       "0  [Sam Worthington, Zoe Saldana, Sigourney Weaver]   \n",
       "1     [Johnny Depp, Orlando Bloom, Keira Knightley]   \n",
       "\n",
       "                                                crew  \n",
       "0  [{\"credit_id\": \"52fe48009251416c750aca23\", \"de...  \n",
       "1  [{\"credit_id\": \"52fe4232c3a36847f800b579\", \"de...  "
      ]
     },
     "execution_count": 13,
     "metadata": {},
     "output_type": "execute_result"
    }
   ],
   "source": [
    "movies.head(2)"
   ]
  },
  {
   "cell_type": "code",
   "execution_count": 14,
   "id": "f8e4a503",
   "metadata": {},
   "outputs": [
    {
     "data": {
      "text/plain": [
       "'[{\"credit_id\": \"52fe48009251416c750aca23\", \"department\": \"Editing\", \"gender\": 0, \"id\": 1721, \"job\": \"Editor\", \"name\": \"Stephen E. Rivkin\"}, {\"credit_id\": \"539c47ecc3a36810e3001f87\", \"department\": \"Art\", \"gender\": 2, \"id\": 496, \"job\": \"Production Design\", \"name\": \"Rick Carter\"}, {\"credit_id\": \"54491c89c3a3680fb4001cf7\", \"department\": \"Sound\", \"gender\": 0, \"id\": 900, \"job\": \"Sound Designer\", \"name\": \"Christopher Boyes\"}, {\"credit_id\": \"54491cb70e0a267480001bd0\", \"department\": \"Sound\", \"gender\": 0, \"id\": 900, \"job\": \"Supervising Sound Editor\", \"name\": \"Christopher Boyes\"}, {\"credit_id\": \"539c4a4cc3a36810c9002101\", \"department\": \"Production\", \"gender\": 1, \"id\": 1262, \"job\": \"Casting\", \"name\": \"Mali Finn\"}, {\"credit_id\": \"5544ee3b925141499f0008fc\", \"department\": \"Sound\", \"gender\": 2, \"id\": 1729, \"job\": \"Original Music Composer\", \"name\": \"James Horner\"}, {\"credit_id\": \"52fe48009251416c750ac9c3\", \"department\": \"Directing\", \"gender\": 2, \"id\": 2710, \"job\": \"Director\", \"name\": \"James Cameron\"}, {\"credit_id\": \"52fe48009251416c750ac9d9\", \"department\": \"Writing\", \"gender\": 2, \"id\": 2710, \"job\": \"Writer\", \"name\": \"James Cameron\"}, {\"credit_id\": \"52fe48009251416c750aca17\", \"department\": \"Editing\", \"gender\": 2, \"id\": 2710, \"job\": \"Editor\", \"name\": \"James Cameron\"}, {\"credit_id\": \"52fe48009251416c750aca29\", \"department\": \"Production\", \"gender\": 2, \"id\": 2710, \"job\": \"Producer\", \"name\": \"James Cameron\"}, {\"credit_id\": \"52fe48009251416c750aca3f\", \"department\": \"Writing\", \"gender\": 2, \"id\": 2710, \"job\": \"Screenplay\", \"name\": \"James Cameron\"}, {\"credit_id\": \"539c4987c3a36810ba0021a4\", \"department\": \"Art\", \"gender\": 2, \"id\": 7236, \"job\": \"Art Direction\", \"name\": \"Andrew Menzies\"}, {\"credit_id\": \"549598c3c3a3686ae9004383\", \"department\": \"Visual Effects\", \"gender\": 0, \"id\": 6690, \"job\": \"Visual Effects Producer\", \"name\": \"Jill Brooks\"}, {\"credit_id\": \"52fe48009251416c750aca4b\", \"department\": \"Production\", \"gender\": 1, \"id\": 6347, \"job\": \"Casting\", \"name\": \"Margery Simkin\"}, {\"credit_id\": \"570b6f419251417da70032fe\", \"department\": \"Art\", \"gender\": 2, \"id\": 6878, \"job\": \"Supervising Art Director\", \"name\": \"Kevin Ishioka\"}, {\"credit_id\": \"5495a0fac3a3686ae9004468\", \"department\": \"Sound\", \"gender\": 0, \"id\": 6883, \"job\": \"Music Editor\", \"name\": \"Dick Bernstein\"}, {\"credit_id\": \"54959706c3a3686af3003e81\", \"department\": \"Sound\", \"gender\": 0, \"id\": 8159, \"job\": \"Sound Effects Editor\", \"name\": \"Shannon Mills\"}, {\"credit_id\": \"54491d58c3a3680fb1001ccb\", \"department\": \"Sound\", \"gender\": 0, \"id\": 8160, \"job\": \"Foley\", \"name\": \"Dennie Thorpe\"}, {\"credit_id\": \"54491d6cc3a3680fa5001b2c\", \"department\": \"Sound\", \"gender\": 0, \"id\": 8163, \"job\": \"Foley\", \"name\": \"Jana Vance\"}, {\"credit_id\": \"52fe48009251416c750aca57\", \"department\": \"Costume & Make-Up\", \"gender\": 1, \"id\": 8527, \"job\": \"Costume Design\", \"name\": \"Deborah Lynn Scott\"}, {\"credit_id\": \"52fe48009251416c750aca2f\", \"department\": \"Production\", \"gender\": 2, \"id\": 8529, \"job\": \"Producer\", \"name\": \"Jon Landau\"}, {\"credit_id\": \"539c4937c3a36810ba002194\", \"department\": \"Art\", \"gender\": 0, \"id\": 9618, \"job\": \"Art Direction\", \"name\": \"Sean Haworth\"}, {\"credit_id\": \"539c49b6c3a36810c10020e6\", \"department\": \"Art\", \"gender\": 1, \"id\": 12653, \"job\": \"Set Decoration\", \"name\": \"Kim Sinclair\"}, {\"credit_id\": \"570b6f2f9251413a0e00020d\", \"department\": \"Art\", \"gender\": 1, \"id\": 12653, \"job\": \"Supervising Art Director\", \"name\": \"Kim Sinclair\"}, {\"credit_id\": \"54491a6c0e0a26748c001b19\", \"department\": \"Art\", \"gender\": 2, \"id\": 14350, \"job\": \"Set Designer\", \"name\": \"Richard F. Mays\"}, {\"credit_id\": \"56928cf4c3a3684cff0025c4\", \"department\": \"Production\", \"gender\": 1, \"id\": 20294, \"job\": \"Executive Producer\", \"name\": \"Laeta Kalogridis\"}, {\"credit_id\": \"52fe48009251416c750aca51\", \"department\": \"Costume & Make-Up\", \"gender\": 0, \"id\": 17675, \"job\": \"Costume Design\", \"name\": \"Mayes C. Rubeo\"}, {\"credit_id\": \"52fe48009251416c750aca11\", \"department\": \"Camera\", \"gender\": 2, \"id\": 18265, \"job\": \"Director of Photography\", \"name\": \"Mauro Fiore\"}, {\"credit_id\": \"5449194d0e0a26748f001b39\", \"department\": \"Art\", \"gender\": 0, \"id\": 42281, \"job\": \"Set Designer\", \"name\": \"Scott Herbertson\"}, {\"credit_id\": \"52fe48009251416c750aca05\", \"department\": \"Crew\", \"gender\": 0, \"id\": 42288, \"job\": \"Stunts\", \"name\": \"Woody Schultz\"}, {\"credit_id\": \"5592aefb92514152de0010f5\", \"department\": \"Costume & Make-Up\", \"gender\": 0, \"id\": 29067, \"job\": \"Makeup Artist\", \"name\": \"Linda DeVetta\"}, {\"credit_id\": \"5592afa492514152de00112c\", \"department\": \"Costume & Make-Up\", \"gender\": 0, \"id\": 29067, \"job\": \"Hairstylist\", \"name\": \"Linda DeVetta\"}, {\"credit_id\": \"54959ed592514130fc002e5d\", \"department\": \"Camera\", \"gender\": 2, \"id\": 33302, \"job\": \"Camera Operator\", \"name\": \"Richard Bluck\"}, {\"credit_id\": \"539c4891c3a36810ba002147\", \"department\": \"Art\", \"gender\": 2, \"id\": 33303, \"job\": \"Art Direction\", \"name\": \"Simon Bright\"}, {\"credit_id\": \"54959c069251417a81001f3a\", \"department\": \"Visual Effects\", \"gender\": 0, \"id\": 113145, \"job\": \"Visual Effects Supervisor\", \"name\": \"Richard Martin\"}, {\"credit_id\": \"54959a0dc3a3680ff5002c8d\", \"department\": \"Crew\", \"gender\": 2, \"id\": 58188, \"job\": \"Visual Effects Editor\", \"name\": \"Steve R. Moore\"}, {\"credit_id\": \"52fe48009251416c750aca1d\", \"department\": \"Editing\", \"gender\": 2, \"id\": 58871, \"job\": \"Editor\", \"name\": \"John Refoua\"}, {\"credit_id\": \"54491a4dc3a3680fc30018ca\", \"department\": \"Art\", \"gender\": 0, \"id\": 92359, \"job\": \"Set Designer\", \"name\": \"Karl J. Martin\"}, {\"credit_id\": \"52fe48009251416c750aca35\", \"department\": \"Camera\", \"gender\": 1, \"id\": 72201, \"job\": \"Director of Photography\", \"name\": \"Chiling Lin\"}, {\"credit_id\": \"52fe48009251416c750ac9ff\", \"department\": \"Crew\", \"gender\": 0, \"id\": 89714, \"job\": \"Stunts\", \"name\": \"Ilram Choi\"}, {\"credit_id\": \"54959c529251416e2b004394\", \"department\": \"Visual Effects\", \"gender\": 2, \"id\": 93214, \"job\": \"Visual Effects Supervisor\", \"name\": \"Steven Quale\"}, {\"credit_id\": \"54491edf0e0a267489001c37\", \"department\": \"Crew\", \"gender\": 1, \"id\": 122607, \"job\": \"Dialect Coach\", \"name\": \"Carla Meyer\"}, {\"credit_id\": \"539c485bc3a368653d001a3a\", \"department\": \"Art\", \"gender\": 2, \"id\": 132585, \"job\": \"Art Direction\", \"name\": \"Nick Bassett\"}, {\"credit_id\": \"539c4903c3a368653d001a74\", \"department\": \"Art\", \"gender\": 0, \"id\": 132596, \"job\": \"Art Direction\", \"name\": \"Jill Cormack\"}, {\"credit_id\": \"539c4967c3a368653d001a94\", \"department\": \"Art\", \"gender\": 0, \"id\": 132604, \"job\": \"Art Direction\", \"name\": \"Andy McLaren\"}, {\"credit_id\": \"52fe48009251416c750aca45\", \"department\": \"Crew\", \"gender\": 0, \"id\": 236696, \"job\": \"Motion Capture Artist\", \"name\": \"Terry Notary\"}, {\"credit_id\": \"54959e02c3a3680fc60027d2\", \"department\": \"Crew\", \"gender\": 2, \"id\": 956198, \"job\": \"Stunt Coordinator\", \"name\": \"Garrett Warren\"}, {\"credit_id\": \"54959ca3c3a3686ae300438c\", \"department\": \"Visual Effects\", \"gender\": 2, \"id\": 957874, \"job\": \"Visual Effects Supervisor\", \"name\": \"Jonathan Rothbart\"}, {\"credit_id\": \"570b6f519251412c74001b2f\", \"department\": \"Art\", \"gender\": 0, \"id\": 957889, \"job\": \"Supervising Art Director\", \"name\": \"Stefan Dechant\"}, {\"credit_id\": \"570b6f62c3a3680b77007460\", \"department\": \"Art\", \"gender\": 2, \"id\": 959555, \"job\": \"Supervising Art Director\", \"name\": \"Todd Cherniawsky\"}, {\"credit_id\": \"539c4a3ac3a36810da0021cc\", \"department\": \"Production\", \"gender\": 0, \"id\": 1016177, \"job\": \"Casting\", \"name\": \"Miranda Rivers\"}, {\"credit_id\": \"539c482cc3a36810c1002062\", \"department\": \"Art\", \"gender\": 0, \"id\": 1032536, \"job\": \"Production Design\", \"name\": \"Robert Stromberg\"}, {\"credit_id\": \"539c4b65c3a36810c9002125\", \"department\": \"Costume & Make-Up\", \"gender\": 2, \"id\": 1071680, \"job\": \"Costume Design\", \"name\": \"John Harding\"}, {\"credit_id\": \"54959e6692514130fc002e4e\", \"department\": \"Camera\", \"gender\": 0, \"id\": 1177364, \"job\": \"Steadicam Operator\", \"name\": \"Roberto De Angelis\"}, {\"credit_id\": \"539c49f1c3a368653d001aac\", \"department\": \"Costume & Make-Up\", \"gender\": 2, \"id\": 1202850, \"job\": \"Makeup Department Head\", \"name\": \"Mike Smithson\"}, {\"credit_id\": \"5495999ec3a3686ae100460c\", \"department\": \"Visual Effects\", \"gender\": 0, \"id\": 1204668, \"job\": \"Visual Effects Producer\", \"name\": \"Alain Lalanne\"}, {\"credit_id\": \"54959cdfc3a3681153002729\", \"department\": \"Visual Effects\", \"gender\": 0, \"id\": 1206410, \"job\": \"Visual Effects Supervisor\", \"name\": \"Lucas Salton\"}, {\"credit_id\": \"549596239251417a81001eae\", \"department\": \"Crew\", \"gender\": 0, \"id\": 1234266, \"job\": \"Post Production Supervisor\", \"name\": \"Janace Tashjian\"}, {\"credit_id\": \"54959c859251416e1e003efe\", \"department\": \"Visual Effects\", \"gender\": 0, \"id\": 1271932, \"job\": \"Visual Effects Supervisor\", \"name\": \"Stephen Rosenbaum\"}, {\"credit_id\": \"5592af28c3a368775a00105f\", \"department\": \"Costume & Make-Up\", \"gender\": 0, \"id\": 1310064, \"job\": \"Makeup Artist\", \"name\": \"Frankie Karena\"}, {\"credit_id\": \"539c4adfc3a36810e300203b\", \"department\": \"Costume & Make-Up\", \"gender\": 1, \"id\": 1319844, \"job\": \"Costume Supervisor\", \"name\": \"Lisa Lovaas\"}, {\"credit_id\": \"54959b579251416e2b004371\", \"department\": \"Visual Effects\", \"gender\": 0, \"id\": 1327028, \"job\": \"Visual Effects Supervisor\", \"name\": \"Jonathan Fawkner\"}, {\"credit_id\": \"539c48a7c3a36810b5001fa7\", \"department\": \"Art\", \"gender\": 0, \"id\": 1330561, \"job\": \"Art Direction\", \"name\": \"Robert Bavin\"}, {\"credit_id\": \"539c4a71c3a36810da0021e0\", \"department\": \"Costume & Make-Up\", \"gender\": 0, \"id\": 1330567, \"job\": \"Costume Supervisor\", \"name\": \"Anthony Almaraz\"}, {\"credit_id\": \"539c4a8ac3a36810ba0021e4\", \"department\": \"Costume & Make-Up\", \"gender\": 0, \"id\": 1330570, \"job\": \"Costume Supervisor\", \"name\": \"Carolyn M. Fenton\"}, {\"credit_id\": \"539c4ab6c3a36810da0021f0\", \"department\": \"Costume & Make-Up\", \"gender\": 0, \"id\": 1330574, \"job\": \"Costume Supervisor\", \"name\": \"Beth Koenigsberg\"}, {\"credit_id\": \"54491ab70e0a267480001ba2\", \"department\": \"Art\", \"gender\": 0, \"id\": 1336191, \"job\": \"Set Designer\", \"name\": \"Sam Page\"}, {\"credit_id\": \"544919d9c3a3680fc30018bd\", \"department\": \"Art\", \"gender\": 0, \"id\": 1339441, \"job\": \"Set Designer\", \"name\": \"Tex Kadonaga\"}, {\"credit_id\": \"54491cf50e0a267483001b0c\", \"department\": \"Editing\", \"gender\": 0, \"id\": 1352422, \"job\": \"Dialogue Editor\", \"name\": \"Kim Foscato\"}, {\"credit_id\": \"544919f40e0a26748c001b09\", \"department\": \"Art\", \"gender\": 0, \"id\": 1352962, \"job\": \"Set Designer\", \"name\": \"Tammy S. Lee\"}, {\"credit_id\": \"5495a115c3a3680ff5002d71\", \"department\": \"Crew\", \"gender\": 0, \"id\": 1357070, \"job\": \"Transportation Coordinator\", \"name\": \"Denny Caira\"}, {\"credit_id\": \"5495a12f92514130fc002e94\", \"department\": \"Crew\", \"gender\": 0, \"id\": 1357071, \"job\": \"Transportation Coordinator\", \"name\": \"James Waitkus\"}, {\"credit_id\": \"5495976fc3a36811530026b0\", \"department\": \"Sound\", \"gender\": 0, \"id\": 1360103, \"job\": \"Supervising Sound Editor\", \"name\": \"Addison Teague\"}, {\"credit_id\": \"54491837c3a3680fb1001c5a\", \"department\": \"Art\", \"gender\": 2, \"id\": 1376887, \"job\": \"Set Designer\", \"name\": \"C. Scott Baker\"}, {\"credit_id\": \"54491878c3a3680fb4001c9d\", \"department\": \"Art\", \"gender\": 0, \"id\": 1376888, \"job\": \"Set Designer\", \"name\": \"Luke Caska\"}, {\"credit_id\": \"544918dac3a3680fa5001ae0\", \"department\": \"Art\", \"gender\": 0, \"id\": 1376889, \"job\": \"Set Designer\", \"name\": \"David Chow\"}, {\"credit_id\": \"544919110e0a267486001b68\", \"department\": \"Art\", \"gender\": 0, \"id\": 1376890, \"job\": \"Set Designer\", \"name\": \"Jonathan Dyer\"}, {\"credit_id\": \"54491967c3a3680faa001b5e\", \"department\": \"Art\", \"gender\": 0, \"id\": 1376891, \"job\": \"Set Designer\", \"name\": \"Joseph Hiura\"}, {\"credit_id\": \"54491997c3a3680fb1001c8a\", \"department\": \"Art\", \"gender\": 0, \"id\": 1376892, \"job\": \"Art Department Coordinator\", \"name\": \"Rebecca Jellie\"}, {\"credit_id\": \"544919ba0e0a26748f001b42\", \"department\": \"Art\", \"gender\": 0, \"id\": 1376893, \"job\": \"Set Designer\", \"name\": \"Robert Andrew Johnson\"}, {\"credit_id\": \"54491b1dc3a3680faa001b8c\", \"department\": \"Art\", \"gender\": 0, \"id\": 1376895, \"job\": \"Assistant Art Director\", \"name\": \"Mike Stassi\"}, {\"credit_id\": \"54491b79c3a3680fbb001826\", \"department\": \"Art\", \"gender\": 0, \"id\": 1376897, \"job\": \"Construction Coordinator\", \"name\": \"John Villarino\"}, {\"credit_id\": \"54491baec3a3680fb4001ce6\", \"department\": \"Art\", \"gender\": 2, \"id\": 1376898, \"job\": \"Assistant Art Director\", \"name\": \"Jeffrey Wisniewski\"}, {\"credit_id\": \"54491d2fc3a3680fb4001d07\", \"department\": \"Editing\", \"gender\": 0, \"id\": 1376899, \"job\": \"Dialogue Editor\", \"name\": \"Cheryl Nardi\"}, {\"credit_id\": \"54491d86c3a3680fa5001b2f\", \"department\": \"Editing\", \"gender\": 0, \"id\": 1376901, \"job\": \"Dialogue Editor\", \"name\": \"Marshall Winn\"}, {\"credit_id\": \"54491d9dc3a3680faa001bb0\", \"department\": \"Sound\", \"gender\": 0, \"id\": 1376902, \"job\": \"Supervising Sound Editor\", \"name\": \"Gwendolyn Yates Whittle\"}, {\"credit_id\": \"54491dc10e0a267486001bce\", \"department\": \"Sound\", \"gender\": 0, \"id\": 1376903, \"job\": \"Sound Re-Recording Mixer\", \"name\": \"William Stein\"}, {\"credit_id\": \"54491f500e0a26747c001c07\", \"department\": \"Crew\", \"gender\": 0, \"id\": 1376909, \"job\": \"Choreographer\", \"name\": \"Lula Washington\"}, {\"credit_id\": \"549599239251412c4e002a2e\", \"department\": \"Visual Effects\", \"gender\": 0, \"id\": 1391692, \"job\": \"Visual Effects Producer\", \"name\": \"Chris Del Conte\"}, {\"credit_id\": \"54959d54c3a36831b8001d9a\", \"department\": \"Visual Effects\", \"gender\": 2, \"id\": 1391695, \"job\": \"Visual Effects Supervisor\", \"name\": \"R. Christopher White\"}, {\"credit_id\": \"54959bdf9251412c4e002a66\", \"department\": \"Visual Effects\", \"gender\": 0, \"id\": 1394070, \"job\": \"Visual Effects Supervisor\", \"name\": \"Dan Lemmon\"}, {\"credit_id\": \"5495971d92514132ed002922\", \"department\": \"Sound\", \"gender\": 0, \"id\": 1394129, \"job\": \"Sound Effects Editor\", \"name\": \"Tim Nielsen\"}, {\"credit_id\": \"5592b25792514152cc0011aa\", \"department\": \"Crew\", \"gender\": 0, \"id\": 1394286, \"job\": \"CG Supervisor\", \"name\": \"Michael Mulholland\"}, {\"credit_id\": \"54959a329251416e2b004355\", \"department\": \"Crew\", \"gender\": 0, \"id\": 1394750, \"job\": \"Visual Effects Editor\", \"name\": \"Thomas Nittmann\"}, {\"credit_id\": \"54959d6dc3a3686ae9004401\", \"department\": \"Visual Effects\", \"gender\": 0, \"id\": 1394755, \"job\": \"Visual Effects Supervisor\", \"name\": \"Edson Williams\"}, {\"credit_id\": \"5495a08fc3a3686ae300441c\", \"department\": \"Editing\", \"gender\": 0, \"id\": 1394953, \"job\": \"Digital Intermediate\", \"name\": \"Christine Carr\"}, {\"credit_id\": \"55402d659251413d6d000249\", \"department\": \"Visual Effects\", \"gender\": 0, \"id\": 1395269, \"job\": \"Visual Effects Supervisor\", \"name\": \"John Bruno\"}, {\"credit_id\": \"54959e7b9251416e1e003f3e\", \"department\": \"Camera\", \"gender\": 0, \"id\": 1398970, \"job\": \"Steadicam Operator\", \"name\": \"David Emmerichs\"}, {\"credit_id\": \"54959734c3a3686ae10045e0\", \"department\": \"Sound\", \"gender\": 0, \"id\": 1400906, \"job\": \"Sound Effects Editor\", \"name\": \"Christopher Scarabosio\"}, {\"credit_id\": \"549595dd92514130fc002d79\", \"department\": \"Production\", \"gender\": 0, \"id\": 1401784, \"job\": \"Production Supervisor\", \"name\": \"Jennifer Teves\"}, {\"credit_id\": \"549596009251413af70028cc\", \"department\": \"Production\", \"gender\": 0, \"id\": 1401785, \"job\": \"Production Manager\", \"name\": \"Brigitte Yorke\"}, {\"credit_id\": \"549596e892514130fc002d99\", \"department\": \"Sound\", \"gender\": 0, \"id\": 1401786, \"job\": \"Sound Effects Editor\", \"name\": \"Ken Fischer\"}, {\"credit_id\": \"549598229251412c4e002a1c\", \"department\": \"Crew\", \"gender\": 0, \"id\": 1401787, \"job\": \"Special Effects Coordinator\", \"name\": \"Iain Hutton\"}, {\"credit_id\": \"549598349251416e2b00432b\", \"department\": \"Crew\", \"gender\": 0, \"id\": 1401788, \"job\": \"Special Effects Coordinator\", \"name\": \"Steve Ingram\"}, {\"credit_id\": \"54959905c3a3686ae3004324\", \"department\": \"Visual Effects\", \"gender\": 0, \"id\": 1401789, \"job\": \"Visual Effects Producer\", \"name\": \"Joyce Cox\"}, {\"credit_id\": \"5495994b92514132ed002951\", \"department\": \"Visual Effects\", \"gender\": 0, \"id\": 1401790, \"job\": \"Visual Effects Producer\", \"name\": \"Jenny Foster\"}, {\"credit_id\": \"549599cbc3a3686ae1004613\", \"department\": \"Crew\", \"gender\": 0, \"id\": 1401791, \"job\": \"Visual Effects Editor\", \"name\": \"Christopher Marino\"}, {\"credit_id\": \"549599f2c3a3686ae100461e\", \"department\": \"Crew\", \"gender\": 0, \"id\": 1401792, \"job\": \"Visual Effects Editor\", \"name\": \"Jim Milton\"}, {\"credit_id\": \"54959a51c3a3686af3003eb5\", \"department\": \"Visual Effects\", \"gender\": 0, \"id\": 1401793, \"job\": \"Visual Effects Producer\", \"name\": \"Cyndi Ochs\"}, {\"credit_id\": \"54959a7cc3a36811530026f4\", \"department\": \"Crew\", \"gender\": 0, \"id\": 1401794, \"job\": \"Visual Effects Editor\", \"name\": \"Lucas Putnam\"}, {\"credit_id\": \"54959b91c3a3680ff5002cb4\", \"department\": \"Visual Effects\", \"gender\": 0, \"id\": 1401795, \"job\": \"Visual Effects Supervisor\", \"name\": \"Anthony \\'Max\\' Ivins\"}, {\"credit_id\": \"54959bb69251412c4e002a5f\", \"department\": \"Visual Effects\", \"gender\": 0, \"id\": 1401796, \"job\": \"Visual Effects Supervisor\", \"name\": \"John Knoll\"}, {\"credit_id\": \"54959cbbc3a3686ae3004391\", \"department\": \"Visual Effects\", \"gender\": 2, \"id\": 1401799, \"job\": \"Visual Effects Supervisor\", \"name\": \"Eric Saindon\"}, {\"credit_id\": \"54959d06c3a3686ae90043f6\", \"department\": \"Visual Effects\", \"gender\": 0, \"id\": 1401800, \"job\": \"Visual Effects Supervisor\", \"name\": \"Wayne Stables\"}, {\"credit_id\": \"54959d259251416e1e003f11\", \"department\": \"Visual Effects\", \"gender\": 0, \"id\": 1401801, \"job\": \"Visual Effects Supervisor\", \"name\": \"David Stinnett\"}, {\"credit_id\": \"54959db49251413af7002975\", \"department\": \"Visual Effects\", \"gender\": 0, \"id\": 1401803, \"job\": \"Visual Effects Supervisor\", \"name\": \"Guy Williams\"}, {\"credit_id\": \"54959de4c3a3681153002750\", \"department\": \"Crew\", \"gender\": 0, \"id\": 1401804, \"job\": \"Stunt Coordinator\", \"name\": \"Stuart Thorp\"}, {\"credit_id\": \"54959ef2c3a3680fc60027f2\", \"department\": \"Lighting\", \"gender\": 0, \"id\": 1401805, \"job\": \"Best Boy Electric\", \"name\": \"Giles Coburn\"}, {\"credit_id\": \"54959f07c3a3680fc60027f9\", \"department\": \"Camera\", \"gender\": 2, \"id\": 1401806, \"job\": \"Still Photographer\", \"name\": \"Mark Fellman\"}, {\"credit_id\": \"54959f47c3a3681153002774\", \"department\": \"Lighting\", \"gender\": 0, \"id\": 1401807, \"job\": \"Lighting Technician\", \"name\": \"Scott Sprague\"}, {\"credit_id\": \"54959f8cc3a36831b8001df2\", \"department\": \"Visual Effects\", \"gender\": 0, \"id\": 1401808, \"job\": \"Animation Director\", \"name\": \"Jeremy Hollobon\"}, {\"credit_id\": \"54959fa0c3a36831b8001dfb\", \"department\": \"Visual Effects\", \"gender\": 0, \"id\": 1401809, \"job\": \"Animation Director\", \"name\": \"Orlando Meunier\"}, {\"credit_id\": \"54959fb6c3a3686af3003f54\", \"department\": \"Visual Effects\", \"gender\": 0, \"id\": 1401810, \"job\": \"Animation Director\", \"name\": \"Taisuke Tanimura\"}, {\"credit_id\": \"54959fd2c3a36831b8001e02\", \"department\": \"Costume & Make-Up\", \"gender\": 0, \"id\": 1401812, \"job\": \"Set Costumer\", \"name\": \"Lilia Mishel Acevedo\"}, {\"credit_id\": \"54959ff9c3a3686ae300440c\", \"department\": \"Costume & Make-Up\", \"gender\": 0, \"id\": 1401814, \"job\": \"Set Costumer\", \"name\": \"Alejandro M. Hernandez\"}, {\"credit_id\": \"5495a0ddc3a3686ae10046fe\", \"department\": \"Editing\", \"gender\": 0, \"id\": 1401815, \"job\": \"Digital Intermediate\", \"name\": \"Marvin Hall\"}, {\"credit_id\": \"5495a1f7c3a3686ae3004443\", \"department\": \"Production\", \"gender\": 0, \"id\": 1401816, \"job\": \"Publicist\", \"name\": \"Judy Alley\"}, {\"credit_id\": \"5592b29fc3a36869d100002f\", \"department\": \"Crew\", \"gender\": 0, \"id\": 1418381, \"job\": \"CG Supervisor\", \"name\": \"Mike Perry\"}, {\"credit_id\": \"5592b23a9251415df8001081\", \"department\": \"Crew\", \"gender\": 0, \"id\": 1426854, \"job\": \"CG Supervisor\", \"name\": \"Andrew Morley\"}, {\"credit_id\": \"55491e1192514104c40002d8\", \"department\": \"Art\", \"gender\": 0, \"id\": 1438901, \"job\": \"Conceptual Design\", \"name\": \"Seth Engstrom\"}, {\"credit_id\": \"5525d5809251417276002b06\", \"department\": \"Crew\", \"gender\": 0, \"id\": 1447362, \"job\": \"Visual Effects Art Director\", \"name\": \"Eric Oliver\"}, {\"credit_id\": \"554427ca925141586500312a\", \"department\": \"Visual Effects\", \"gender\": 0, \"id\": 1447503, \"job\": \"Modeling\", \"name\": \"Matsune Suzuki\"}, {\"credit_id\": \"551906889251415aab001c88\", \"department\": \"Art\", \"gender\": 0, \"id\": 1447524, \"job\": \"Art Department Manager\", \"name\": \"Paul Tobin\"}, {\"credit_id\": \"5592af8492514152cc0010de\", \"department\": \"Costume & Make-Up\", \"gender\": 0, \"id\": 1452643, \"job\": \"Hairstylist\", \"name\": \"Roxane Griffin\"}, {\"credit_id\": \"553d3c109251415852001318\", \"department\": \"Lighting\", \"gender\": 0, \"id\": 1453938, \"job\": \"Lighting Artist\", \"name\": \"Arun Ram-Mohan\"}, {\"credit_id\": \"5592af4692514152d5001355\", \"department\": \"Costume & Make-Up\", \"gender\": 0, \"id\": 1457305, \"job\": \"Makeup Artist\", \"name\": \"Georgia Lockhart-Adams\"}, {\"credit_id\": \"5592b2eac3a36877470012a5\", \"department\": \"Crew\", \"gender\": 0, \"id\": 1466035, \"job\": \"CG Supervisor\", \"name\": \"Thrain Shadbolt\"}, {\"credit_id\": \"5592b032c3a36877450015f1\", \"department\": \"Crew\", \"gender\": 0, \"id\": 1483220, \"job\": \"CG Supervisor\", \"name\": \"Brad Alexander\"}, {\"credit_id\": \"5592b05592514152d80012f6\", \"department\": \"Crew\", \"gender\": 0, \"id\": 1483221, \"job\": \"CG Supervisor\", \"name\": \"Shadi Almassizadeh\"}, {\"credit_id\": \"5592b090c3a36877570010b5\", \"department\": \"Crew\", \"gender\": 0, \"id\": 1483222, \"job\": \"CG Supervisor\", \"name\": \"Simon Clutterbuck\"}, {\"credit_id\": \"5592b0dbc3a368774b00112c\", \"department\": \"Crew\", \"gender\": 0, \"id\": 1483223, \"job\": \"CG Supervisor\", \"name\": \"Graeme Demmocks\"}, {\"credit_id\": \"5592b0fe92514152db0010c1\", \"department\": \"Crew\", \"gender\": 0, \"id\": 1483224, \"job\": \"CG Supervisor\", \"name\": \"Adrian Fernandes\"}, {\"credit_id\": \"5592b11f9251415df8001059\", \"department\": \"Crew\", \"gender\": 0, \"id\": 1483225, \"job\": \"CG Supervisor\", \"name\": \"Mitch Gates\"}, {\"credit_id\": \"5592b15dc3a3687745001645\", \"department\": \"Crew\", \"gender\": 0, \"id\": 1483226, \"job\": \"CG Supervisor\", \"name\": \"Jerry Kung\"}, {\"credit_id\": \"5592b18e925141645a0004ae\", \"department\": \"Crew\", \"gender\": 0, \"id\": 1483227, \"job\": \"CG Supervisor\", \"name\": \"Andy Lomas\"}, {\"credit_id\": \"5592b1bfc3a368775d0010e7\", \"department\": \"Crew\", \"gender\": 0, \"id\": 1483228, \"job\": \"CG Supervisor\", \"name\": \"Sebastian Marino\"}, {\"credit_id\": \"5592b2049251415df8001078\", \"department\": \"Crew\", \"gender\": 0, \"id\": 1483229, \"job\": \"CG Supervisor\", \"name\": \"Matthias Menz\"}, {\"credit_id\": \"5592b27b92514152d800136a\", \"department\": \"Crew\", \"gender\": 0, \"id\": 1483230, \"job\": \"CG Supervisor\", \"name\": \"Sergei Nevshupov\"}, {\"credit_id\": \"5592b2c3c3a36869e800003c\", \"department\": \"Crew\", \"gender\": 0, \"id\": 1483231, \"job\": \"CG Supervisor\", \"name\": \"Philippe Rebours\"}, {\"credit_id\": \"5592b317c3a36877470012af\", \"department\": \"Crew\", \"gender\": 0, \"id\": 1483232, \"job\": \"CG Supervisor\", \"name\": \"Michael Takarangi\"}, {\"credit_id\": \"5592b345c3a36877470012bb\", \"department\": \"Crew\", \"gender\": 0, \"id\": 1483233, \"job\": \"CG Supervisor\", \"name\": \"David Weitzberg\"}, {\"credit_id\": \"5592b37cc3a368775100113b\", \"department\": \"Crew\", \"gender\": 0, \"id\": 1483234, \"job\": \"CG Supervisor\", \"name\": \"Ben White\"}, {\"credit_id\": \"573c8e2f9251413f5d000094\", \"department\": \"Crew\", \"gender\": 1, \"id\": 1621932, \"job\": \"Stunts\", \"name\": \"Min Windle\"}]'"
      ]
     },
     "execution_count": 14,
     "metadata": {},
     "output_type": "execute_result"
    }
   ],
   "source": [
    "movies['crew'].iloc[0] # we only need the director of the movie"
   ]
  },
  {
   "cell_type": "code",
   "execution_count": 15,
   "id": "980ef90d",
   "metadata": {},
   "outputs": [],
   "source": [
    "def director(obj):\n",
    "    L = []\n",
    "    for i in ast.literal_eval(obj):\n",
    "        if i['job']=='Director': #as we only need the director from the crew coloumn\n",
    "            L.append(i['name'])\n",
    "            break\n",
    "    return L"
   ]
  },
  {
   "cell_type": "code",
   "execution_count": 16,
   "id": "b662ceff",
   "metadata": {},
   "outputs": [],
   "source": [
    "movies['crew']=movies['crew'].apply(director)"
   ]
  },
  {
   "cell_type": "code",
   "execution_count": 17,
   "id": "20406c60",
   "metadata": {},
   "outputs": [
    {
     "data": {
      "text/html": [
       "<div>\n",
       "<style scoped>\n",
       "    .dataframe tbody tr th:only-of-type {\n",
       "        vertical-align: middle;\n",
       "    }\n",
       "\n",
       "    .dataframe tbody tr th {\n",
       "        vertical-align: top;\n",
       "    }\n",
       "\n",
       "    .dataframe thead th {\n",
       "        text-align: right;\n",
       "    }\n",
       "</style>\n",
       "<table border=\"1\" class=\"dataframe\">\n",
       "  <thead>\n",
       "    <tr style=\"text-align: right;\">\n",
       "      <th></th>\n",
       "      <th>id</th>\n",
       "      <th>title</th>\n",
       "      <th>overview</th>\n",
       "      <th>keywords</th>\n",
       "      <th>genres</th>\n",
       "      <th>cast</th>\n",
       "      <th>crew</th>\n",
       "    </tr>\n",
       "  </thead>\n",
       "  <tbody>\n",
       "    <tr>\n",
       "      <th>0</th>\n",
       "      <td>19995</td>\n",
       "      <td>Avatar</td>\n",
       "      <td>In the 22nd century, a paraplegic Marine is di...</td>\n",
       "      <td>[culture clash, future, space war, space colon...</td>\n",
       "      <td>[Action, Adventure, Fantasy, Science Fiction]</td>\n",
       "      <td>[Sam Worthington, Zoe Saldana, Sigourney Weaver]</td>\n",
       "      <td>[James Cameron]</td>\n",
       "    </tr>\n",
       "    <tr>\n",
       "      <th>1</th>\n",
       "      <td>285</td>\n",
       "      <td>Pirates of the Caribbean: At World's End</td>\n",
       "      <td>Captain Barbossa, long believed to be dead, ha...</td>\n",
       "      <td>[ocean, drug abuse, exotic island, east india ...</td>\n",
       "      <td>[Adventure, Fantasy, Action]</td>\n",
       "      <td>[Johnny Depp, Orlando Bloom, Keira Knightley]</td>\n",
       "      <td>[Gore Verbinski]</td>\n",
       "    </tr>\n",
       "    <tr>\n",
       "      <th>2</th>\n",
       "      <td>206647</td>\n",
       "      <td>Spectre</td>\n",
       "      <td>A cryptic message from Bond’s past sends him o...</td>\n",
       "      <td>[spy, based on novel, secret agent, sequel, mi...</td>\n",
       "      <td>[Action, Adventure, Crime]</td>\n",
       "      <td>[Daniel Craig, Christoph Waltz, Léa Seydoux]</td>\n",
       "      <td>[Sam Mendes]</td>\n",
       "    </tr>\n",
       "    <tr>\n",
       "      <th>3</th>\n",
       "      <td>49026</td>\n",
       "      <td>The Dark Knight Rises</td>\n",
       "      <td>Following the death of District Attorney Harve...</td>\n",
       "      <td>[dc comics, crime fighter, terrorist, secret i...</td>\n",
       "      <td>[Action, Crime, Drama, Thriller]</td>\n",
       "      <td>[Christian Bale, Michael Caine, Gary Oldman]</td>\n",
       "      <td>[Christopher Nolan]</td>\n",
       "    </tr>\n",
       "    <tr>\n",
       "      <th>4</th>\n",
       "      <td>49529</td>\n",
       "      <td>John Carter</td>\n",
       "      <td>John Carter is a war-weary, former military ca...</td>\n",
       "      <td>[based on novel, mars, medallion, space travel...</td>\n",
       "      <td>[Action, Adventure, Science Fiction]</td>\n",
       "      <td>[Taylor Kitsch, Lynn Collins, Samantha Morton]</td>\n",
       "      <td>[Andrew Stanton]</td>\n",
       "    </tr>\n",
       "  </tbody>\n",
       "</table>\n",
       "</div>"
      ],
      "text/plain": [
       "       id                                     title  \\\n",
       "0   19995                                    Avatar   \n",
       "1     285  Pirates of the Caribbean: At World's End   \n",
       "2  206647                                   Spectre   \n",
       "3   49026                     The Dark Knight Rises   \n",
       "4   49529                               John Carter   \n",
       "\n",
       "                                            overview  \\\n",
       "0  In the 22nd century, a paraplegic Marine is di...   \n",
       "1  Captain Barbossa, long believed to be dead, ha...   \n",
       "2  A cryptic message from Bond’s past sends him o...   \n",
       "3  Following the death of District Attorney Harve...   \n",
       "4  John Carter is a war-weary, former military ca...   \n",
       "\n",
       "                                            keywords  \\\n",
       "0  [culture clash, future, space war, space colon...   \n",
       "1  [ocean, drug abuse, exotic island, east india ...   \n",
       "2  [spy, based on novel, secret agent, sequel, mi...   \n",
       "3  [dc comics, crime fighter, terrorist, secret i...   \n",
       "4  [based on novel, mars, medallion, space travel...   \n",
       "\n",
       "                                          genres  \\\n",
       "0  [Action, Adventure, Fantasy, Science Fiction]   \n",
       "1                   [Adventure, Fantasy, Action]   \n",
       "2                     [Action, Adventure, Crime]   \n",
       "3               [Action, Crime, Drama, Thriller]   \n",
       "4           [Action, Adventure, Science Fiction]   \n",
       "\n",
       "                                               cast                 crew  \n",
       "0  [Sam Worthington, Zoe Saldana, Sigourney Weaver]      [James Cameron]  \n",
       "1     [Johnny Depp, Orlando Bloom, Keira Knightley]     [Gore Verbinski]  \n",
       "2      [Daniel Craig, Christoph Waltz, Léa Seydoux]         [Sam Mendes]  \n",
       "3      [Christian Bale, Michael Caine, Gary Oldman]  [Christopher Nolan]  \n",
       "4    [Taylor Kitsch, Lynn Collins, Samantha Morton]     [Andrew Stanton]  "
      ]
     },
     "execution_count": 17,
     "metadata": {},
     "output_type": "execute_result"
    }
   ],
   "source": [
    "movies.head()"
   ]
  },
  {
   "cell_type": "code",
   "execution_count": 18,
   "id": "69b2a972",
   "metadata": {},
   "outputs": [],
   "source": [
    "# As all other coloumns are in list, convert overview coloumn from string to list for easier processing\n",
    "\n",
    "movies['overview']=movies['overview'].apply(lambda x:x.split()) # lambda function takes x input and coverts it to list"
   ]
  },
  {
   "cell_type": "code",
   "execution_count": 19,
   "id": "daec2103",
   "metadata": {},
   "outputs": [
    {
     "data": {
      "text/html": [
       "<div>\n",
       "<style scoped>\n",
       "    .dataframe tbody tr th:only-of-type {\n",
       "        vertical-align: middle;\n",
       "    }\n",
       "\n",
       "    .dataframe tbody tr th {\n",
       "        vertical-align: top;\n",
       "    }\n",
       "\n",
       "    .dataframe thead th {\n",
       "        text-align: right;\n",
       "    }\n",
       "</style>\n",
       "<table border=\"1\" class=\"dataframe\">\n",
       "  <thead>\n",
       "    <tr style=\"text-align: right;\">\n",
       "      <th></th>\n",
       "      <th>id</th>\n",
       "      <th>title</th>\n",
       "      <th>overview</th>\n",
       "      <th>keywords</th>\n",
       "      <th>genres</th>\n",
       "      <th>cast</th>\n",
       "      <th>crew</th>\n",
       "    </tr>\n",
       "  </thead>\n",
       "  <tbody>\n",
       "    <tr>\n",
       "      <th>0</th>\n",
       "      <td>19995</td>\n",
       "      <td>Avatar</td>\n",
       "      <td>[In, the, 22nd, century,, a, paraplegic, Marin...</td>\n",
       "      <td>[culture clash, future, space war, space colon...</td>\n",
       "      <td>[Action, Adventure, Fantasy, Science Fiction]</td>\n",
       "      <td>[Sam Worthington, Zoe Saldana, Sigourney Weaver]</td>\n",
       "      <td>[James Cameron]</td>\n",
       "    </tr>\n",
       "    <tr>\n",
       "      <th>1</th>\n",
       "      <td>285</td>\n",
       "      <td>Pirates of the Caribbean: At World's End</td>\n",
       "      <td>[Captain, Barbossa,, long, believed, to, be, d...</td>\n",
       "      <td>[ocean, drug abuse, exotic island, east india ...</td>\n",
       "      <td>[Adventure, Fantasy, Action]</td>\n",
       "      <td>[Johnny Depp, Orlando Bloom, Keira Knightley]</td>\n",
       "      <td>[Gore Verbinski]</td>\n",
       "    </tr>\n",
       "    <tr>\n",
       "      <th>2</th>\n",
       "      <td>206647</td>\n",
       "      <td>Spectre</td>\n",
       "      <td>[A, cryptic, message, from, Bond’s, past, send...</td>\n",
       "      <td>[spy, based on novel, secret agent, sequel, mi...</td>\n",
       "      <td>[Action, Adventure, Crime]</td>\n",
       "      <td>[Daniel Craig, Christoph Waltz, Léa Seydoux]</td>\n",
       "      <td>[Sam Mendes]</td>\n",
       "    </tr>\n",
       "    <tr>\n",
       "      <th>3</th>\n",
       "      <td>49026</td>\n",
       "      <td>The Dark Knight Rises</td>\n",
       "      <td>[Following, the, death, of, District, Attorney...</td>\n",
       "      <td>[dc comics, crime fighter, terrorist, secret i...</td>\n",
       "      <td>[Action, Crime, Drama, Thriller]</td>\n",
       "      <td>[Christian Bale, Michael Caine, Gary Oldman]</td>\n",
       "      <td>[Christopher Nolan]</td>\n",
       "    </tr>\n",
       "    <tr>\n",
       "      <th>4</th>\n",
       "      <td>49529</td>\n",
       "      <td>John Carter</td>\n",
       "      <td>[John, Carter, is, a, war-weary,, former, mili...</td>\n",
       "      <td>[based on novel, mars, medallion, space travel...</td>\n",
       "      <td>[Action, Adventure, Science Fiction]</td>\n",
       "      <td>[Taylor Kitsch, Lynn Collins, Samantha Morton]</td>\n",
       "      <td>[Andrew Stanton]</td>\n",
       "    </tr>\n",
       "  </tbody>\n",
       "</table>\n",
       "</div>"
      ],
      "text/plain": [
       "       id                                     title  \\\n",
       "0   19995                                    Avatar   \n",
       "1     285  Pirates of the Caribbean: At World's End   \n",
       "2  206647                                   Spectre   \n",
       "3   49026                     The Dark Knight Rises   \n",
       "4   49529                               John Carter   \n",
       "\n",
       "                                            overview  \\\n",
       "0  [In, the, 22nd, century,, a, paraplegic, Marin...   \n",
       "1  [Captain, Barbossa,, long, believed, to, be, d...   \n",
       "2  [A, cryptic, message, from, Bond’s, past, send...   \n",
       "3  [Following, the, death, of, District, Attorney...   \n",
       "4  [John, Carter, is, a, war-weary,, former, mili...   \n",
       "\n",
       "                                            keywords  \\\n",
       "0  [culture clash, future, space war, space colon...   \n",
       "1  [ocean, drug abuse, exotic island, east india ...   \n",
       "2  [spy, based on novel, secret agent, sequel, mi...   \n",
       "3  [dc comics, crime fighter, terrorist, secret i...   \n",
       "4  [based on novel, mars, medallion, space travel...   \n",
       "\n",
       "                                          genres  \\\n",
       "0  [Action, Adventure, Fantasy, Science Fiction]   \n",
       "1                   [Adventure, Fantasy, Action]   \n",
       "2                     [Action, Adventure, Crime]   \n",
       "3               [Action, Crime, Drama, Thriller]   \n",
       "4           [Action, Adventure, Science Fiction]   \n",
       "\n",
       "                                               cast                 crew  \n",
       "0  [Sam Worthington, Zoe Saldana, Sigourney Weaver]      [James Cameron]  \n",
       "1     [Johnny Depp, Orlando Bloom, Keira Knightley]     [Gore Verbinski]  \n",
       "2      [Daniel Craig, Christoph Waltz, Léa Seydoux]         [Sam Mendes]  \n",
       "3      [Christian Bale, Michael Caine, Gary Oldman]  [Christopher Nolan]  \n",
       "4    [Taylor Kitsch, Lynn Collins, Samantha Morton]     [Andrew Stanton]  "
      ]
     },
     "execution_count": 19,
     "metadata": {},
     "output_type": "execute_result"
    }
   ],
   "source": [
    "movies.head()"
   ]
  },
  {
   "cell_type": "code",
   "execution_count": 20,
   "id": "cfd69334",
   "metadata": {},
   "outputs": [],
   "source": [
    "# we will join the spaces between all the attributes except id and title for avoiding confusion on the basis of names\n",
    "movies['genres']=movies['genres'].apply(lambda x:[i.replace(\" \",\"\") for i in x])\n",
    "movies['overview']=movies['overview'].apply(lambda x:[i.replace(\" \",\"\") for i in x])\n",
    "movies['keywords']=movies['keywords'].apply(lambda x:[i.replace(\" \",\"\") for i in x])\n",
    "movies['cast']=movies['cast'].apply(lambda x:[i.replace(\" \",\"\") for i in x])\n",
    "movies['crew']=movies['crew'].apply(lambda x:[i.replace(\" \",\"\") for i in x])"
   ]
  },
  {
   "cell_type": "code",
   "execution_count": 21,
   "id": "91be548e",
   "metadata": {},
   "outputs": [
    {
     "data": {
      "text/html": [
       "<div>\n",
       "<style scoped>\n",
       "    .dataframe tbody tr th:only-of-type {\n",
       "        vertical-align: middle;\n",
       "    }\n",
       "\n",
       "    .dataframe tbody tr th {\n",
       "        vertical-align: top;\n",
       "    }\n",
       "\n",
       "    .dataframe thead th {\n",
       "        text-align: right;\n",
       "    }\n",
       "</style>\n",
       "<table border=\"1\" class=\"dataframe\">\n",
       "  <thead>\n",
       "    <tr style=\"text-align: right;\">\n",
       "      <th></th>\n",
       "      <th>id</th>\n",
       "      <th>title</th>\n",
       "      <th>overview</th>\n",
       "      <th>keywords</th>\n",
       "      <th>genres</th>\n",
       "      <th>cast</th>\n",
       "      <th>crew</th>\n",
       "    </tr>\n",
       "  </thead>\n",
       "  <tbody>\n",
       "    <tr>\n",
       "      <th>0</th>\n",
       "      <td>19995</td>\n",
       "      <td>Avatar</td>\n",
       "      <td>[In, the, 22nd, century,, a, paraplegic, Marin...</td>\n",
       "      <td>[cultureclash, future, spacewar, spacecolony, ...</td>\n",
       "      <td>[Action, Adventure, Fantasy, ScienceFiction]</td>\n",
       "      <td>[SamWorthington, ZoeSaldana, SigourneyWeaver]</td>\n",
       "      <td>[JamesCameron]</td>\n",
       "    </tr>\n",
       "    <tr>\n",
       "      <th>1</th>\n",
       "      <td>285</td>\n",
       "      <td>Pirates of the Caribbean: At World's End</td>\n",
       "      <td>[Captain, Barbossa,, long, believed, to, be, d...</td>\n",
       "      <td>[ocean, drugabuse, exoticisland, eastindiatrad...</td>\n",
       "      <td>[Adventure, Fantasy, Action]</td>\n",
       "      <td>[JohnnyDepp, OrlandoBloom, KeiraKnightley]</td>\n",
       "      <td>[GoreVerbinski]</td>\n",
       "    </tr>\n",
       "    <tr>\n",
       "      <th>2</th>\n",
       "      <td>206647</td>\n",
       "      <td>Spectre</td>\n",
       "      <td>[A, cryptic, message, from, Bond’s, past, send...</td>\n",
       "      <td>[spy, basedonnovel, secretagent, sequel, mi6, ...</td>\n",
       "      <td>[Action, Adventure, Crime]</td>\n",
       "      <td>[DanielCraig, ChristophWaltz, LéaSeydoux]</td>\n",
       "      <td>[SamMendes]</td>\n",
       "    </tr>\n",
       "    <tr>\n",
       "      <th>3</th>\n",
       "      <td>49026</td>\n",
       "      <td>The Dark Knight Rises</td>\n",
       "      <td>[Following, the, death, of, District, Attorney...</td>\n",
       "      <td>[dccomics, crimefighter, terrorist, secretiden...</td>\n",
       "      <td>[Action, Crime, Drama, Thriller]</td>\n",
       "      <td>[ChristianBale, MichaelCaine, GaryOldman]</td>\n",
       "      <td>[ChristopherNolan]</td>\n",
       "    </tr>\n",
       "    <tr>\n",
       "      <th>4</th>\n",
       "      <td>49529</td>\n",
       "      <td>John Carter</td>\n",
       "      <td>[John, Carter, is, a, war-weary,, former, mili...</td>\n",
       "      <td>[basedonnovel, mars, medallion, spacetravel, p...</td>\n",
       "      <td>[Action, Adventure, ScienceFiction]</td>\n",
       "      <td>[TaylorKitsch, LynnCollins, SamanthaMorton]</td>\n",
       "      <td>[AndrewStanton]</td>\n",
       "    </tr>\n",
       "  </tbody>\n",
       "</table>\n",
       "</div>"
      ],
      "text/plain": [
       "       id                                     title  \\\n",
       "0   19995                                    Avatar   \n",
       "1     285  Pirates of the Caribbean: At World's End   \n",
       "2  206647                                   Spectre   \n",
       "3   49026                     The Dark Knight Rises   \n",
       "4   49529                               John Carter   \n",
       "\n",
       "                                            overview  \\\n",
       "0  [In, the, 22nd, century,, a, paraplegic, Marin...   \n",
       "1  [Captain, Barbossa,, long, believed, to, be, d...   \n",
       "2  [A, cryptic, message, from, Bond’s, past, send...   \n",
       "3  [Following, the, death, of, District, Attorney...   \n",
       "4  [John, Carter, is, a, war-weary,, former, mili...   \n",
       "\n",
       "                                            keywords  \\\n",
       "0  [cultureclash, future, spacewar, spacecolony, ...   \n",
       "1  [ocean, drugabuse, exoticisland, eastindiatrad...   \n",
       "2  [spy, basedonnovel, secretagent, sequel, mi6, ...   \n",
       "3  [dccomics, crimefighter, terrorist, secretiden...   \n",
       "4  [basedonnovel, mars, medallion, spacetravel, p...   \n",
       "\n",
       "                                         genres  \\\n",
       "0  [Action, Adventure, Fantasy, ScienceFiction]   \n",
       "1                  [Adventure, Fantasy, Action]   \n",
       "2                    [Action, Adventure, Crime]   \n",
       "3              [Action, Crime, Drama, Thriller]   \n",
       "4           [Action, Adventure, ScienceFiction]   \n",
       "\n",
       "                                            cast                crew  \n",
       "0  [SamWorthington, ZoeSaldana, SigourneyWeaver]      [JamesCameron]  \n",
       "1     [JohnnyDepp, OrlandoBloom, KeiraKnightley]     [GoreVerbinski]  \n",
       "2      [DanielCraig, ChristophWaltz, LéaSeydoux]         [SamMendes]  \n",
       "3      [ChristianBale, MichaelCaine, GaryOldman]  [ChristopherNolan]  \n",
       "4    [TaylorKitsch, LynnCollins, SamanthaMorton]     [AndrewStanton]  "
      ]
     },
     "execution_count": 21,
     "metadata": {},
     "output_type": "execute_result"
    }
   ],
   "source": [
    "movies.head()"
   ]
  },
  {
   "cell_type": "code",
   "execution_count": 22,
   "id": "d4c96ee7",
   "metadata": {},
   "outputs": [
    {
     "data": {
      "text/html": [
       "<div>\n",
       "<style scoped>\n",
       "    .dataframe tbody tr th:only-of-type {\n",
       "        vertical-align: middle;\n",
       "    }\n",
       "\n",
       "    .dataframe tbody tr th {\n",
       "        vertical-align: top;\n",
       "    }\n",
       "\n",
       "    .dataframe thead th {\n",
       "        text-align: right;\n",
       "    }\n",
       "</style>\n",
       "<table border=\"1\" class=\"dataframe\">\n",
       "  <thead>\n",
       "    <tr style=\"text-align: right;\">\n",
       "      <th></th>\n",
       "      <th>id</th>\n",
       "      <th>title</th>\n",
       "      <th>overview</th>\n",
       "      <th>keywords</th>\n",
       "      <th>genres</th>\n",
       "      <th>cast</th>\n",
       "      <th>crew</th>\n",
       "      <th>tags</th>\n",
       "    </tr>\n",
       "  </thead>\n",
       "  <tbody>\n",
       "    <tr>\n",
       "      <th>0</th>\n",
       "      <td>19995</td>\n",
       "      <td>Avatar</td>\n",
       "      <td>[In, the, 22nd, century,, a, paraplegic, Marin...</td>\n",
       "      <td>[cultureclash, future, spacewar, spacecolony, ...</td>\n",
       "      <td>[Action, Adventure, Fantasy, ScienceFiction]</td>\n",
       "      <td>[SamWorthington, ZoeSaldana, SigourneyWeaver]</td>\n",
       "      <td>[JamesCameron]</td>\n",
       "      <td>[Action, Adventure, Fantasy, ScienceFiction, I...</td>\n",
       "    </tr>\n",
       "    <tr>\n",
       "      <th>1</th>\n",
       "      <td>285</td>\n",
       "      <td>Pirates of the Caribbean: At World's End</td>\n",
       "      <td>[Captain, Barbossa,, long, believed, to, be, d...</td>\n",
       "      <td>[ocean, drugabuse, exoticisland, eastindiatrad...</td>\n",
       "      <td>[Adventure, Fantasy, Action]</td>\n",
       "      <td>[JohnnyDepp, OrlandoBloom, KeiraKnightley]</td>\n",
       "      <td>[GoreVerbinski]</td>\n",
       "      <td>[Adventure, Fantasy, Action, Captain, Barbossa...</td>\n",
       "    </tr>\n",
       "    <tr>\n",
       "      <th>2</th>\n",
       "      <td>206647</td>\n",
       "      <td>Spectre</td>\n",
       "      <td>[A, cryptic, message, from, Bond’s, past, send...</td>\n",
       "      <td>[spy, basedonnovel, secretagent, sequel, mi6, ...</td>\n",
       "      <td>[Action, Adventure, Crime]</td>\n",
       "      <td>[DanielCraig, ChristophWaltz, LéaSeydoux]</td>\n",
       "      <td>[SamMendes]</td>\n",
       "      <td>[Action, Adventure, Crime, A, cryptic, message...</td>\n",
       "    </tr>\n",
       "    <tr>\n",
       "      <th>3</th>\n",
       "      <td>49026</td>\n",
       "      <td>The Dark Knight Rises</td>\n",
       "      <td>[Following, the, death, of, District, Attorney...</td>\n",
       "      <td>[dccomics, crimefighter, terrorist, secretiden...</td>\n",
       "      <td>[Action, Crime, Drama, Thriller]</td>\n",
       "      <td>[ChristianBale, MichaelCaine, GaryOldman]</td>\n",
       "      <td>[ChristopherNolan]</td>\n",
       "      <td>[Action, Crime, Drama, Thriller, Following, th...</td>\n",
       "    </tr>\n",
       "    <tr>\n",
       "      <th>4</th>\n",
       "      <td>49529</td>\n",
       "      <td>John Carter</td>\n",
       "      <td>[John, Carter, is, a, war-weary,, former, mili...</td>\n",
       "      <td>[basedonnovel, mars, medallion, spacetravel, p...</td>\n",
       "      <td>[Action, Adventure, ScienceFiction]</td>\n",
       "      <td>[TaylorKitsch, LynnCollins, SamanthaMorton]</td>\n",
       "      <td>[AndrewStanton]</td>\n",
       "      <td>[Action, Adventure, ScienceFiction, John, Cart...</td>\n",
       "    </tr>\n",
       "  </tbody>\n",
       "</table>\n",
       "</div>"
      ],
      "text/plain": [
       "       id                                     title  \\\n",
       "0   19995                                    Avatar   \n",
       "1     285  Pirates of the Caribbean: At World's End   \n",
       "2  206647                                   Spectre   \n",
       "3   49026                     The Dark Knight Rises   \n",
       "4   49529                               John Carter   \n",
       "\n",
       "                                            overview  \\\n",
       "0  [In, the, 22nd, century,, a, paraplegic, Marin...   \n",
       "1  [Captain, Barbossa,, long, believed, to, be, d...   \n",
       "2  [A, cryptic, message, from, Bond’s, past, send...   \n",
       "3  [Following, the, death, of, District, Attorney...   \n",
       "4  [John, Carter, is, a, war-weary,, former, mili...   \n",
       "\n",
       "                                            keywords  \\\n",
       "0  [cultureclash, future, spacewar, spacecolony, ...   \n",
       "1  [ocean, drugabuse, exoticisland, eastindiatrad...   \n",
       "2  [spy, basedonnovel, secretagent, sequel, mi6, ...   \n",
       "3  [dccomics, crimefighter, terrorist, secretiden...   \n",
       "4  [basedonnovel, mars, medallion, spacetravel, p...   \n",
       "\n",
       "                                         genres  \\\n",
       "0  [Action, Adventure, Fantasy, ScienceFiction]   \n",
       "1                  [Adventure, Fantasy, Action]   \n",
       "2                    [Action, Adventure, Crime]   \n",
       "3              [Action, Crime, Drama, Thriller]   \n",
       "4           [Action, Adventure, ScienceFiction]   \n",
       "\n",
       "                                            cast                crew  \\\n",
       "0  [SamWorthington, ZoeSaldana, SigourneyWeaver]      [JamesCameron]   \n",
       "1     [JohnnyDepp, OrlandoBloom, KeiraKnightley]     [GoreVerbinski]   \n",
       "2      [DanielCraig, ChristophWaltz, LéaSeydoux]         [SamMendes]   \n",
       "3      [ChristianBale, MichaelCaine, GaryOldman]  [ChristopherNolan]   \n",
       "4    [TaylorKitsch, LynnCollins, SamanthaMorton]     [AndrewStanton]   \n",
       "\n",
       "                                                tags  \n",
       "0  [Action, Adventure, Fantasy, ScienceFiction, I...  \n",
       "1  [Adventure, Fantasy, Action, Captain, Barbossa...  \n",
       "2  [Action, Adventure, Crime, A, cryptic, message...  \n",
       "3  [Action, Crime, Drama, Thriller, Following, th...  \n",
       "4  [Action, Adventure, ScienceFiction, John, Cart...  "
      ]
     },
     "execution_count": 22,
     "metadata": {},
     "output_type": "execute_result"
    }
   ],
   "source": [
    "# concatenate all 5 coloumns into a single coloumn \"tags\"\n",
    "movies['tags']=movies['genres']+movies['overview']+movies['keywords']+movies['cast']+movies['crew']\n",
    "movies.head()"
   ]
  },
  {
   "cell_type": "code",
   "execution_count": 23,
   "id": "4a972fb3",
   "metadata": {},
   "outputs": [
    {
     "data": {
      "text/html": [
       "<div>\n",
       "<style scoped>\n",
       "    .dataframe tbody tr th:only-of-type {\n",
       "        vertical-align: middle;\n",
       "    }\n",
       "\n",
       "    .dataframe tbody tr th {\n",
       "        vertical-align: top;\n",
       "    }\n",
       "\n",
       "    .dataframe thead th {\n",
       "        text-align: right;\n",
       "    }\n",
       "</style>\n",
       "<table border=\"1\" class=\"dataframe\">\n",
       "  <thead>\n",
       "    <tr style=\"text-align: right;\">\n",
       "      <th></th>\n",
       "      <th>id</th>\n",
       "      <th>title</th>\n",
       "      <th>tags</th>\n",
       "    </tr>\n",
       "  </thead>\n",
       "  <tbody>\n",
       "    <tr>\n",
       "      <th>0</th>\n",
       "      <td>19995</td>\n",
       "      <td>Avatar</td>\n",
       "      <td>[Action, Adventure, Fantasy, ScienceFiction, I...</td>\n",
       "    </tr>\n",
       "    <tr>\n",
       "      <th>1</th>\n",
       "      <td>285</td>\n",
       "      <td>Pirates of the Caribbean: At World's End</td>\n",
       "      <td>[Adventure, Fantasy, Action, Captain, Barbossa...</td>\n",
       "    </tr>\n",
       "    <tr>\n",
       "      <th>2</th>\n",
       "      <td>206647</td>\n",
       "      <td>Spectre</td>\n",
       "      <td>[Action, Adventure, Crime, A, cryptic, message...</td>\n",
       "    </tr>\n",
       "    <tr>\n",
       "      <th>3</th>\n",
       "      <td>49026</td>\n",
       "      <td>The Dark Knight Rises</td>\n",
       "      <td>[Action, Crime, Drama, Thriller, Following, th...</td>\n",
       "    </tr>\n",
       "    <tr>\n",
       "      <th>4</th>\n",
       "      <td>49529</td>\n",
       "      <td>John Carter</td>\n",
       "      <td>[Action, Adventure, ScienceFiction, John, Cart...</td>\n",
       "    </tr>\n",
       "  </tbody>\n",
       "</table>\n",
       "</div>"
      ],
      "text/plain": [
       "       id                                     title  \\\n",
       "0   19995                                    Avatar   \n",
       "1     285  Pirates of the Caribbean: At World's End   \n",
       "2  206647                                   Spectre   \n",
       "3   49026                     The Dark Knight Rises   \n",
       "4   49529                               John Carter   \n",
       "\n",
       "                                                tags  \n",
       "0  [Action, Adventure, Fantasy, ScienceFiction, I...  \n",
       "1  [Adventure, Fantasy, Action, Captain, Barbossa...  \n",
       "2  [Action, Adventure, Crime, A, cryptic, message...  \n",
       "3  [Action, Crime, Drama, Thriller, Following, th...  \n",
       "4  [Action, Adventure, ScienceFiction, John, Cart...  "
      ]
     },
     "execution_count": 23,
     "metadata": {},
     "output_type": "execute_result"
    }
   ],
   "source": [
    "# As we have concatenated all the coloumns into tags we do not need them individually so, update dataset\n",
    "movies1=movies[['id','title','tags']]\n",
    "movies1.head()"
   ]
  },
  {
   "cell_type": "code",
   "execution_count": 24,
   "id": "38146b3a",
   "metadata": {
    "scrolled": true
   },
   "outputs": [
    {
     "name": "stderr",
     "output_type": "stream",
     "text": [
      "C:\\Users\\Acer\\AppData\\Local\\Temp\\ipykernel_3104\\3724224147.py:2: SettingWithCopyWarning: \n",
      "A value is trying to be set on a copy of a slice from a DataFrame.\n",
      "Try using .loc[row_indexer,col_indexer] = value instead\n",
      "\n",
      "See the caveats in the documentation: https://pandas.pydata.org/pandas-docs/stable/user_guide/indexing.html#returning-a-view-versus-a-copy\n",
      "  movies1['tags']=movies1['tags'].apply(lambda x: \" \".join(x))\n"
     ]
    },
    {
     "data": {
      "text/html": [
       "<div>\n",
       "<style scoped>\n",
       "    .dataframe tbody tr th:only-of-type {\n",
       "        vertical-align: middle;\n",
       "    }\n",
       "\n",
       "    .dataframe tbody tr th {\n",
       "        vertical-align: top;\n",
       "    }\n",
       "\n",
       "    .dataframe thead th {\n",
       "        text-align: right;\n",
       "    }\n",
       "</style>\n",
       "<table border=\"1\" class=\"dataframe\">\n",
       "  <thead>\n",
       "    <tr style=\"text-align: right;\">\n",
       "      <th></th>\n",
       "      <th>id</th>\n",
       "      <th>title</th>\n",
       "      <th>tags</th>\n",
       "    </tr>\n",
       "  </thead>\n",
       "  <tbody>\n",
       "    <tr>\n",
       "      <th>0</th>\n",
       "      <td>19995</td>\n",
       "      <td>Avatar</td>\n",
       "      <td>Action Adventure Fantasy ScienceFiction In the...</td>\n",
       "    </tr>\n",
       "    <tr>\n",
       "      <th>1</th>\n",
       "      <td>285</td>\n",
       "      <td>Pirates of the Caribbean: At World's End</td>\n",
       "      <td>Adventure Fantasy Action Captain Barbossa, lon...</td>\n",
       "    </tr>\n",
       "    <tr>\n",
       "      <th>2</th>\n",
       "      <td>206647</td>\n",
       "      <td>Spectre</td>\n",
       "      <td>Action Adventure Crime A cryptic message from ...</td>\n",
       "    </tr>\n",
       "    <tr>\n",
       "      <th>3</th>\n",
       "      <td>49026</td>\n",
       "      <td>The Dark Knight Rises</td>\n",
       "      <td>Action Crime Drama Thriller Following the deat...</td>\n",
       "    </tr>\n",
       "    <tr>\n",
       "      <th>4</th>\n",
       "      <td>49529</td>\n",
       "      <td>John Carter</td>\n",
       "      <td>Action Adventure ScienceFiction John Carter is...</td>\n",
       "    </tr>\n",
       "  </tbody>\n",
       "</table>\n",
       "</div>"
      ],
      "text/plain": [
       "       id                                     title  \\\n",
       "0   19995                                    Avatar   \n",
       "1     285  Pirates of the Caribbean: At World's End   \n",
       "2  206647                                   Spectre   \n",
       "3   49026                     The Dark Knight Rises   \n",
       "4   49529                               John Carter   \n",
       "\n",
       "                                                tags  \n",
       "0  Action Adventure Fantasy ScienceFiction In the...  \n",
       "1  Adventure Fantasy Action Captain Barbossa, lon...  \n",
       "2  Action Adventure Crime A cryptic message from ...  \n",
       "3  Action Crime Drama Thriller Following the deat...  \n",
       "4  Action Adventure ScienceFiction John Carter is...  "
      ]
     },
     "execution_count": 24,
     "metadata": {},
     "output_type": "execute_result"
    }
   ],
   "source": [
    "#Convert tags to string\n",
    "movies1['tags']=movies1['tags'].apply(lambda x: \" \".join(x))\n",
    "movies1.head()"
   ]
  },
  {
   "cell_type": "code",
   "execution_count": 25,
   "id": "e51aa4fc",
   "metadata": {},
   "outputs": [
    {
     "data": {
      "text/plain": [
       "'Action Adventure Fantasy ScienceFiction In the 22nd century, a paraplegic Marine is dispatched to the moon Pandora on a unique mission, but becomes torn between following orders and protecting an alien civilization. cultureclash future spacewar spacecolony society spacetravel futuristic romance space alien tribe alienplanet cgi marine soldier battle loveaffair antiwar powerrelations mindandsoul 3d SamWorthington ZoeSaldana SigourneyWeaver JamesCameron'"
      ]
     },
     "execution_count": 25,
     "metadata": {},
     "output_type": "execute_result"
    }
   ],
   "source": [
    "movies1['tags'].iloc[0]"
   ]
  },
  {
   "cell_type": "code",
   "execution_count": 26,
   "id": "37490d8e",
   "metadata": {},
   "outputs": [
    {
     "name": "stderr",
     "output_type": "stream",
     "text": [
      "C:\\Users\\Acer\\AppData\\Local\\Temp\\ipykernel_3104\\2718806425.py:2: SettingWithCopyWarning: \n",
      "A value is trying to be set on a copy of a slice from a DataFrame.\n",
      "Try using .loc[row_indexer,col_indexer] = value instead\n",
      "\n",
      "See the caveats in the documentation: https://pandas.pydata.org/pandas-docs/stable/user_guide/indexing.html#returning-a-view-versus-a-copy\n",
      "  movies1['tags']=movies1['tags'].apply(lambda x: x.lower())\n"
     ]
    }
   ],
   "source": [
    "#Covert tags coloumn into lower case as it is recommended\n",
    "movies1['tags']=movies1['tags'].apply(lambda x: x.lower())\n"
   ]
  },
  {
   "cell_type": "code",
   "execution_count": 27,
   "id": "8966fb75",
   "metadata": {},
   "outputs": [
    {
     "data": {
      "text/html": [
       "<div>\n",
       "<style scoped>\n",
       "    .dataframe tbody tr th:only-of-type {\n",
       "        vertical-align: middle;\n",
       "    }\n",
       "\n",
       "    .dataframe tbody tr th {\n",
       "        vertical-align: top;\n",
       "    }\n",
       "\n",
       "    .dataframe thead th {\n",
       "        text-align: right;\n",
       "    }\n",
       "</style>\n",
       "<table border=\"1\" class=\"dataframe\">\n",
       "  <thead>\n",
       "    <tr style=\"text-align: right;\">\n",
       "      <th></th>\n",
       "      <th>id</th>\n",
       "      <th>title</th>\n",
       "      <th>tags</th>\n",
       "    </tr>\n",
       "  </thead>\n",
       "  <tbody>\n",
       "    <tr>\n",
       "      <th>0</th>\n",
       "      <td>19995</td>\n",
       "      <td>Avatar</td>\n",
       "      <td>action adventure fantasy sciencefiction in the...</td>\n",
       "    </tr>\n",
       "    <tr>\n",
       "      <th>1</th>\n",
       "      <td>285</td>\n",
       "      <td>Pirates of the Caribbean: At World's End</td>\n",
       "      <td>adventure fantasy action captain barbossa, lon...</td>\n",
       "    </tr>\n",
       "  </tbody>\n",
       "</table>\n",
       "</div>"
      ],
      "text/plain": [
       "      id                                     title  \\\n",
       "0  19995                                    Avatar   \n",
       "1    285  Pirates of the Caribbean: At World's End   \n",
       "\n",
       "                                                tags  \n",
       "0  action adventure fantasy sciencefiction in the...  \n",
       "1  adventure fantasy action captain barbossa, lon...  "
      ]
     },
     "execution_count": 27,
     "metadata": {},
     "output_type": "execute_result"
    }
   ],
   "source": [
    "movies1.head(2)"
   ]
  },
  {
   "cell_type": "code",
   "execution_count": 28,
   "id": "0768bc14",
   "metadata": {},
   "outputs": [
    {
     "data": {
      "text/plain": [
       "\"adventure fantasy action captain barbossa, long believed to be dead, has come back to life and is headed to the edge of the earth with will turner and elizabeth swann. but nothing is quite as it seems. ocean drugabuse exoticisland eastindiatradingcompany loveofone'slife traitor shipwreck strongwoman ship alliance calypso afterlife fighter pirate swashbuckler aftercreditsstinger johnnydepp orlandobloom keiraknightley goreverbinski\""
      ]
     },
     "execution_count": 28,
     "metadata": {},
     "output_type": "execute_result"
    }
   ],
   "source": [
    "movies1['tags'].iloc[1]"
   ]
  },
  {
   "cell_type": "code",
   "execution_count": 29,
   "id": "296fc60e",
   "metadata": {},
   "outputs": [],
   "source": [
    "# convert the tags coloumn into an vector"
   ]
  },
  {
   "cell_type": "code",
   "execution_count": 30,
   "id": "993b27d8",
   "metadata": {},
   "outputs": [],
   "source": [
    "vectorizer=TfidfVectorizer()\n",
    "tag_vectors=vectorizer.fit_transform(movies1['tags']).toarray() #transforms into numerical value"
   ]
  },
  {
   "cell_type": "code",
   "execution_count": 31,
   "id": "466e8080",
   "metadata": {},
   "outputs": [
    {
     "name": "stdout",
     "output_type": "stream",
     "text": [
      "[[0. 0. 0. ... 0. 0. 0.]\n",
      " [0. 0. 0. ... 0. 0. 0.]\n",
      " [0. 0. 0. ... 0. 0. 0.]\n",
      " ...\n",
      " [0. 0. 0. ... 0. 0. 0.]\n",
      " [0. 0. 0. ... 0. 0. 0.]\n",
      " [0. 0. 0. ... 0. 0. 0.]]\n"
     ]
    }
   ],
   "source": [
    "print(tag_vectors)"
   ]
  },
  {
   "cell_type": "code",
   "execution_count": 32,
   "id": "14259148",
   "metadata": {},
   "outputs": [
    {
     "name": "stdout",
     "output_type": "stream",
     "text": [
      "35611\n"
     ]
    }
   ],
   "source": [
    "print(len(vectorizer.get_feature_names_out()))"
   ]
  },
  {
   "cell_type": "code",
   "execution_count": 33,
   "id": "36a851f6",
   "metadata": {},
   "outputs": [],
   "source": [
    "# Deriving similarity between vectors(movies) by angle between them\n",
    "similarity=cosine_similarity(tag_vectors)"
   ]
  },
  {
   "cell_type": "code",
   "execution_count": 34,
   "id": "ad8eb11e",
   "metadata": {},
   "outputs": [
    {
     "data": {
      "text/plain": [
       "array([[1.        , 0.02830149, 0.01718286, ..., 0.02063096, 0.01344477,\n",
       "        0.0072699 ],\n",
       "       [0.02830149, 1.        , 0.03134695, ..., 0.02802018, 0.0198414 ,\n",
       "        0.01200361],\n",
       "       [0.01718286, 0.03134695, 1.        , ..., 0.02927459, 0.01334713,\n",
       "        0.01309662],\n",
       "       ...,\n",
       "       [0.02063096, 0.02802018, 0.02927459, ..., 1.        , 0.04181678,\n",
       "        0.03079815],\n",
       "       [0.01344477, 0.0198414 , 0.01334713, ..., 0.04181678, 1.        ,\n",
       "        0.03931743],\n",
       "       [0.0072699 , 0.01200361, 0.01309662, ..., 0.03079815, 0.03931743,\n",
       "        1.        ]])"
      ]
     },
     "execution_count": 34,
     "metadata": {},
     "output_type": "execute_result"
    }
   ],
   "source": [
    "similarity #similarity with movie itself will be 1"
   ]
  },
  {
   "cell_type": "code",
   "execution_count": 35,
   "id": "0ab5516e",
   "metadata": {},
   "outputs": [],
   "source": [
    "#List of all the movies\n",
    "list_of_all_movies=movies['title'].tolist()"
   ]
  },
  {
   "cell_type": "code",
   "execution_count": 36,
   "id": "c8aaea2f",
   "metadata": {},
   "outputs": [
    {
     "name": "stdout",
     "output_type": "stream",
     "text": [
      "['Avatar', \"Pirates of the Caribbean: At World's End\", 'Spectre', 'The Dark Knight Rises', 'John Carter', 'Spider-Man 3', 'Tangled', 'Avengers: Age of Ultron', 'Harry Potter and the Half-Blood Prince', 'Batman v Superman: Dawn of Justice', 'Superman Returns', 'Quantum of Solace', \"Pirates of the Caribbean: Dead Man's Chest\", 'The Lone Ranger', 'Man of Steel', 'The Chronicles of Narnia: Prince Caspian', 'The Avengers', 'Pirates of the Caribbean: On Stranger Tides', 'Men in Black 3', 'The Hobbit: The Battle of the Five Armies', 'The Amazing Spider-Man', 'Robin Hood', 'The Hobbit: The Desolation of Smaug', 'The Golden Compass', 'King Kong', 'Titanic', 'Captain America: Civil War', 'Battleship', 'Jurassic World', 'Skyfall', 'Spider-Man 2', 'Iron Man 3', 'Alice in Wonderland', 'X-Men: The Last Stand', 'Monsters University', 'Transformers: Revenge of the Fallen', 'Transformers: Age of Extinction', 'Oz: The Great and Powerful', 'The Amazing Spider-Man 2', 'TRON: Legacy', 'Cars 2', 'Green Lantern', 'Toy Story 3', 'Terminator Salvation', 'Furious 7', 'World War Z', 'X-Men: Days of Future Past', 'Star Trek Into Darkness', 'Jack the Giant Slayer', 'The Great Gatsby', 'Prince of Persia: The Sands of Time', 'Pacific Rim', 'Transformers: Dark of the Moon', 'Indiana Jones and the Kingdom of the Crystal Skull', 'The Good Dinosaur', 'Brave', 'Star Trek Beyond', 'WALL·E', 'Rush Hour 3', '2012', 'A Christmas Carol', 'Jupiter Ascending', 'The Legend of Tarzan', 'The Chronicles of Narnia: The Lion, the Witch and the Wardrobe', 'X-Men: Apocalypse', 'The Dark Knight', 'Up', 'Monsters vs Aliens', 'Iron Man', 'Hugo', 'Wild Wild West', 'The Mummy: Tomb of the Dragon Emperor', 'Suicide Squad', 'Evan Almighty', 'Edge of Tomorrow', 'Waterworld', 'G.I. Joe: The Rise of Cobra', 'Inside Out', 'The Jungle Book', 'Iron Man 2', 'Snow White and the Huntsman', 'Maleficent', 'Dawn of the Planet of the Apes', 'The Lovers', '47 Ronin', 'Captain America: The Winter Soldier', 'Shrek Forever After', 'Tomorrowland', 'Big Hero 6', 'Wreck-It Ralph', 'The Polar Express', 'Independence Day: Resurgence', 'How to Train Your Dragon', 'Terminator 3: Rise of the Machines', 'Guardians of the Galaxy', 'Interstellar', 'Inception', 'Shin Godzilla', 'The Hobbit: An Unexpected Journey', 'The Fast and the Furious', 'The Curious Case of Benjamin Button', 'X-Men: First Class', 'The Hunger Games: Mockingjay - Part 2', \"The Sorcerer's Apprentice\", 'Poseidon', 'Alice Through the Looking Glass', 'Shrek the Third', 'Warcraft', 'Terminator Genisys', 'The Chronicles of Narnia: The Voyage of the Dawn Treader', 'Pearl Harbor', 'Transformers', 'Alexander', 'Harry Potter and the Order of the Phoenix', 'Harry Potter and the Goblet of Fire', 'Hancock', 'I Am Legend', 'Charlie and the Chocolate Factory', 'Ratatouille', 'Batman Begins', 'Madagascar: Escape 2 Africa', 'Night at the Museum: Battle of the Smithsonian', 'X-Men Origins: Wolverine', 'The Matrix Revolutions', 'Frozen', 'The Matrix Reloaded', 'Thor: The Dark World', 'Mad Max: Fury Road', 'Angels & Demons', 'Thor', 'Bolt', 'G-Force', 'Wrath of the Titans', 'Dark Shadows', 'Mission: Impossible - Rogue Nation', 'The Wolfman', 'Bee Movie', 'Kung Fu Panda 2', 'The Last Airbender', 'Mission: Impossible III', 'White House Down', 'Mars Needs Moms', 'Flushed Away', 'Pan', 'Mr. Peabody & Sherman', 'Troy', \"Madagascar 3: Europe's Most Wanted\", 'Die Another Day', 'Ghostbusters', 'Armageddon', 'Men in Black II', 'Beowulf', 'Kung Fu Panda 3', 'Mission: Impossible - Ghost Protocol', 'Rise of the Guardians', 'Fun with Dick and Jane', 'The Last Samurai', 'Exodus: Gods and Kings', 'Star Trek', 'Spider-Man', 'How to Train Your Dragon 2', 'Gods of Egypt', 'Stealth', 'Watchmen', 'Lethal Weapon 4', 'Hulk', 'G.I. Joe: Retaliation', 'Sahara', 'Final Fantasy: The Spirits Within', 'Captain America: The First Avenger', 'The World Is Not Enough', 'Master and Commander: The Far Side of the World', 'The Twilight Saga: Breaking Dawn - Part 2', 'Happy Feet Two', 'The Incredible Hulk', 'The BFG', 'The Revenant', 'Turbo', 'Rango', 'Penguins of Madagascar', 'The Bourne Ultimatum', 'Kung Fu Panda', 'Ant-Man', 'The Hunger Games: Catching Fire', 'Home', 'War of the Worlds', 'Bad Boys II', 'Puss in Boots', 'Salt', 'Noah', 'The Adventures of Tintin', 'Harry Potter and the Prisoner of Azkaban', 'Australia', 'After Earth', 'Dinosaur', 'Night at the Museum: Secret of the Tomb', 'Megamind', \"Harry Potter and the Philosopher's Stone\", 'R.I.P.D.', 'Pirates of the Caribbean: The Curse of the Black Pearl', 'The Hunger Games: Mockingjay - Part 1', 'The Da Vinci Code', 'Rio 2', 'X2', 'Fast Five', 'Sherlock Holmes: A Game of Shadows', 'Clash of the Titans', 'Total Recall', 'The 13th Warrior', 'The Bourne Legacy', 'Batman & Robin', 'How the Grinch Stole Christmas', 'The Day After Tomorrow', 'Mission: Impossible II', 'The Perfect Storm', 'Fantastic 4: Rise of the Silver Surfer', 'Life of Pi', 'Ghost Rider', 'Jason Bourne', \"Charlie's Angels: Full Throttle\", 'Prometheus', 'Stuart Little 2', 'Elysium', 'The Chronicles of Riddick', 'RoboCop', 'Speed Racer', 'How Do You Know', 'Knight and Day', 'Oblivion', 'Star Wars: Episode III - Revenge of the Sith', 'Star Wars: Episode II - Attack of the Clones', 'Monsters, Inc.', 'The Wolverine', 'Star Wars: Episode I - The Phantom Menace', 'The Croods', 'Asterix at the Olympic Games', 'Windtalkers', \"The Huntsman: Winter's War\", 'Teenage Mutant Ninja Turtles', 'Gravity', \"Dante's Peak\", 'Teenage Mutant Ninja Turtles: Out of the Shadows', 'Fantastic Four', 'Night at the Museum', 'San Andreas', 'Tomorrow Never Dies', 'The Patriot', \"Ocean's Twelve\", 'Mr. & Mrs. Smith', 'Insurgent', 'The Aviator', \"Gulliver's Travels\", 'The Green Hornet', '300: Rise of an Empire', 'The Smurfs', 'Home on the Range', 'Allegiant', 'Real Steel', 'The Smurfs 2', 'Speed 2: Cruise Control', \"Ender's Game\", 'Live Free or Die Hard', 'The Lord of the Rings: The Fellowship of the Ring', 'Around the World in 80 Days', 'Ali', 'The Cat in the Hat', 'I, Robot', 'Kingdom of Heaven', 'Stuart Little', 'The Princess and the Frog', 'The Martian', 'The Island', 'Town & Country', 'Gone in Sixty Seconds', 'Gladiator', 'Minority Report', 'Harry Potter and the Chamber of Secrets', 'Casino Royale', 'Planet of the Apes', 'Terminator 2: Judgment Day', 'Public Enemies', 'American Gangster', 'True Lies', 'The Taking of Pelham 1 2 3', 'Little Fockers', 'The Other Guys', 'Eraser', 'Django Unchained', 'The Hunchback of Notre Dame', \"The Emperor's New Groove\", 'The Expendables 2', 'National Treasure', 'Eragon', 'Where the Wild Things Are', 'Epic', 'The Tourist', 'End of Days', 'Blood Diamond', 'The Wolf of Wall Street', 'Batman Forever', 'Starship Troopers', 'Cloud Atlas', \"Legend of the Guardians: The Owls of Ga'Hoole\", 'Catwoman', 'Hercules', 'Treasure Planet', 'Land of the Lost', 'The Expendables 3', 'Point Break', 'Son of the Mask', 'In the Heart of the Sea', 'The Adventures of Pluto Nash', 'Green Zone', 'The Peanuts Movie', 'The Spanish Prisoner', 'The Mummy Returns', 'Gangs of New York', 'The Flowers of War', \"Surf's Up\", 'The Stepford Wives', 'Black Hawk Down', 'The Campaign', 'The Fifth Element', 'Sex and the City 2', 'The Road to El Dorado', 'Ice Age: Continental Drift', 'Cinderella', 'The Lovely Bones', 'Finding Nemo', 'The Lord of the Rings: The Return of the King', 'The Lord of the Rings: The Two Towers', 'Seventh Son', 'Lara Croft: Tomb Raider', 'Transcendence', 'Jurassic Park III', 'Rise of the Planet of the Apes', 'The Spiderwick Chronicles', 'A Good Day to Die Hard', 'The Alamo', 'The Incredibles', 'Cutthroat Island', 'Percy Jackson & the Olympians: The Lightning Thief', 'Men in Black', 'Toy Story 2', 'Unstoppable', 'Rush Hour 2', 'What Lies Beneath', 'Cloudy with a Chance of Meatballs', 'Ice Age: Dawn of the Dinosaurs', 'The Secret Life of Walter Mitty', \"Charlie's Angels\", 'The Departed', 'Mulan', 'Tropic Thunder', 'The Girl with the Dragon Tattoo', 'Die Hard: With a Vengeance', 'Sherlock Holmes', 'Ben-Hur', 'Atlantis: The Lost Empire', 'Alvin and the Chipmunks: The Road Chip', 'Valkyrie', \"You Don't Mess with the Zohan\", 'Pixels', 'A.I. Artificial Intelligence', 'The Haunted Mansion', 'Contact', 'Hollow Man', 'The Interpreter', 'Percy Jackson: Sea of Monsters', 'Lara Croft Tomb Raider: The Cradle of Life', 'Now You See Me 2', 'The Saint', 'Spy Game', 'Mission to Mars', 'Rio', 'Bicentennial Man', 'Volcano', \"The Devil's Own\", 'K-19: The Widowmaker', 'Conan the Barbarian', 'Cinderella Man', 'The Nutcracker: The Untold Story', 'Seabiscuit', 'Twister', 'Cast Away', 'Happy Feet', 'The Bourne Supremacy', 'Air Force One', \"Ocean's Eleven\", 'The Three Musketeers', 'Hotel Transylvania', 'Enchanted', 'Safe House', '102 Dalmatians', 'Tower Heist', 'The Holiday', 'Enemy of the State', \"It's Complicated\", \"Ocean's Thirteen\", 'Open Season', 'Divergent', 'Enemy at the Gates', 'The Rundown', 'Last Action Hero', 'Memoirs of a Geisha', 'The Fast and the Furious: Tokyo Drift', 'Arthur Christmas', 'Meet Joe Black', 'Collateral Damage', 'All That Jazz', 'Mirror Mirror', 'Scott Pilgrim vs. the World', 'The Core', 'Nutty Professor II: The Klumps', 'Scooby-Doo', 'Dredd', 'Click', 'Creepshow', 'Cats & Dogs 2 : The Revenge of Kitty Galore', 'Jumper', 'Hellboy II: The Golden Army', 'Zodiac', 'The 6th Day', 'Bruce Almighty', 'The Expendables', 'Mission: Impossible', 'The Hunger Games', 'The Hangover Part II', 'Batman Returns', 'Over the Hedge', 'Lilo & Stitch', \"Charlotte's Web\", 'Deep Impact', 'RED 2', 'The Longest Yard', 'Alvin and the Chipmunks: Chipwrecked', 'Grown Ups 2', 'Get Smart', \"Something's Gotta Give\", 'Shutter Island', 'Four Christmases', 'Robots', 'Face/Off', 'Bedtime Stories', 'Road to Perdition', 'Just Go with It', 'Con Air', 'Eagle Eye', 'Cold Mountain', 'The Book of Eli', 'Flubber', 'The Haunting', 'Space Jam', 'The Pink Panther', 'The Day the Earth Stood Still', 'Conspiracy Theory', 'Fury', 'Six Days Seven Nights', 'Yogi Bear', 'Spirit: Stallion of the Cimarron', 'Zookeeper', 'Lost in Space', 'The Manchurian Candidate', 'Déjà Vu', 'Hotel Transylvania 2', 'Fantasia 2000', 'The Time Machine', 'Mighty Joe Young', 'Swordfish', 'The Legend of Zorro', 'What Dreams May Come', 'Little Nicky', 'The Brothers Grimm', 'Mars Attacks!', 'Evolution', 'The Edge', 'Surrogates', 'Thirteen Days', 'Daylight', 'Walking With Dinosaurs', 'Battlefield Earth', 'Looney Tunes: Back in Action', 'Nine', 'Timeline', 'The Postman', 'Babe: Pig in the City', 'The Last Witch Hunter', 'Red Planet', 'Arthur and the Invisibles', 'Oceans', 'A Sound of Thunder', 'Pompeii', 'Top Cat Begins', 'A Beautiful Mind', 'The Lion King', 'Journey 2: The Mysterious Island', 'Cloudy with a Chance of Meatballs 2', 'Red Dragon', 'Hidalgo', 'Jack and Jill', '2 Fast 2 Furious', 'The Little Prince', 'The Invasion', 'The Adventures of Rocky & Bullwinkle', 'The Secret Life of Pets', 'The League of Extraordinary Gentlemen', 'Despicable Me 2', 'Independence Day', 'The Lost World: Jurassic Park', 'Madagascar', 'Children of Men', 'X-Men', 'Wanted', 'The Rock', 'Ice Age: The Meltdown', '50 First Dates', 'Hairspray', 'Exorcist: The Beginning', 'Inspector Gadget', 'Now You See Me', 'Grown Ups', 'The Terminal', 'Hotel for Dogs', 'Vertical Limit', \"Charlie Wilson's War\", 'Shark Tale', 'Dreamgirls', 'Be Cool', 'Munich', 'Tears of the Sun', 'Killers', 'The Man from U.N.C.L.E.', 'Spanglish', 'Monster House', 'Bandits', 'First Knight', 'Anna and the King', 'Immortals', 'Hostage', 'Titan A.E.', 'Hollywood Homicide', 'Soldier', 'Carriers', 'Monkeybone', 'Flight of the Phoenix', 'Unbreakable', 'Minions', 'Sucker Punch', 'Snake Eyes', 'Sphere', 'The Angry Birds Movie', \"Fool's Gold\", 'Funny People', 'The Kingdom', 'Talladega Nights: The Ballad of Ricky Bobby', 'Dr. Dolittle 2', 'Braveheart', 'Jarhead', 'The Simpsons Movie', 'The Majestic', 'Driven', 'Two Brothers', 'The Village', 'Doctor Dolittle', 'Signs', 'Shrek 2', 'Cars', 'Runaway Bride', 'xXx', 'The SpongeBob Movie: Sponge Out of Water', 'Ransom', 'Inglourious Basterds', 'Hook', 'Die Hard 2', 'S.W.A.T.', 'Vanilla Sky', 'Lady in the Water', 'AVP: Alien vs. Predator', 'Alvin and the Chipmunks: The Squeakquel', 'We Were Soldiers', 'Olympus Has Fallen', 'Star Trek: Insurrection', 'Battle: Los Angeles', 'Big Fish', 'Wolf', 'War Horse', 'The Monuments Men', 'The Abyss', 'Wall Street: Money Never Sleeps', 'Dracula Untold', 'The Siege', 'Stardust', 'Seven Years in Tibet', 'The Dilemma', 'Bad Company', 'Doom', 'I Spy', 'Underworld: Awakening', 'Rock of Ages', \"Hart's War\", 'Killer Elite', 'Rollerball', 'Ballistic: Ecks vs. Sever', 'Hard Rain', 'Osmosis Jones', \"Legends of Oz: Dorothy's Return\", 'Blackhat', 'Sky Captain and the World of Tomorrow', 'Basic Instinct 2', 'Escape Plan', 'The Legend of Hercules', 'The Sum of All Fears', 'The Twilight Saga: Eclipse', 'The Score', 'Despicable Me', 'Money Train', 'Ted 2', 'Agora', 'Mystery Men', 'Hall Pass', 'The Insider', 'The Finest Hours', 'Body of Lies', 'Dinner for Schmucks', 'Abraham Lincoln: Vampire Hunter', 'Entrapment', 'The X Files', 'The Last Legion', 'Saving Private Ryan', 'Need for Speed', 'What Women Want', 'Ice Age', 'Dreamcatcher', 'Lincoln', 'The Matrix', 'Apollo 13', 'The Santa Clause 2', 'Les Misérables', \"You've Got Mail\", 'Step Brothers', 'The Mask of Zorro', 'Due Date', 'Unbroken', 'Space Cowboys', 'Cliffhanger', 'Broken Arrow', 'The Kid', 'World Trade Center', 'Mona Lisa Smile', 'The Dictator', 'Eyes Wide Shut', 'Annie', 'Focus', 'This Means War', 'Blade: Trinity', 'Red Dawn', 'Primary Colors', 'Resident Evil: Retribution', 'Death Race', 'The Long Kiss Goodnight', 'Proof of Life', 'Zathura: A Space Adventure', 'Fight Club', 'We Are Marshall', 'Hudson Hawk', 'Lucky Numbers', 'I, Frankenstein', 'Oliver Twist', 'Elektra', 'Sin City: A Dame to Kill For', 'Random Hearts', 'Everest', 'Perfume: The Story of a Murderer', 'Austin Powers in Goldmember', 'Astro Boy', 'Jurassic Park', 'Wyatt Earp', 'Clear and Present Danger', 'Dragon Blade', 'Little Man', 'U-571', 'The American President', 'The Love Guru', '3000 Miles to Graceland', 'The Hateful Eight', 'Blades of Glory', 'Hop', '300', 'Meet the Fockers', 'Marley & Me', 'The Green Mile', 'Wild Hogs', 'Chicken Little', 'Gone Girl', 'The Bourne Identity', 'GoldenEye', \"The General's Daughter\", 'The Truman Show', 'The Prince of Egypt', 'Daddy Day Care', '2 Guns', 'Cats & Dogs', 'The Italian Job', 'Two Weeks Notice', 'Antz', 'Couples Retreat', 'Days of Thunder', 'Cheaper by the Dozen 2', 'Maze Runner: The Scorch Trials', 'Eat Pray Love', 'The Family Man', 'RED', 'Any Given Sunday', 'The Horse Whisperer', 'Collateral', 'The Scorpion King', 'Ladder 49', 'Jack Reacher', 'Deep Blue Sea', 'This Is It', 'Contagion', 'Kangaroo Jack', 'Coraline', 'The Happening', 'Man on Fire', 'The Shaggy Dog', 'Starsky & Hutch', 'Jingle All the Way', 'Hellboy', 'A Civil Action', 'ParaNorman', 'The Jackal', 'Paycheck', 'Up Close & Personal', 'The Tale of Despereaux', 'The Tuxedo', 'Under Siege 2: Dark Territory', 'Jack Ryan: Shadow Recruit', 'Joy', 'London Has Fallen', 'Alien: Resurrection', 'Shooter', 'The Boxtrolls', 'Practical Magic', 'The Lego Movie', 'Miss Congeniality 2: Armed and Fabulous', 'Reign of Fire', 'Gangster Squad', 'Year One', 'Invictus', 'State of Play', 'Duplicity', 'My Favorite Martian', 'The Sentinel', 'Planet 51', 'Star Trek: Nemesis', 'Intolerable Cruelty', 'Trouble with the Curve', 'Edge of Darkness', 'The Relic', 'Analyze That', 'Righteous Kill', 'Mercury Rising', 'The Soloist', 'The Legend of Bagger Vance', 'Almost Famous', 'Garfield: A Tail of Two Kitties', 'xXx: State of the Union', 'Priest', 'Sinbad: Legend of the Seven Seas', 'Event Horizon', 'Dragonfly', 'The Black Dahlia', 'Flyboys', 'The Last Castle', 'Supernova', \"Winter's Tale\", 'The Mortal Instruments: City of Bones', 'Meet Dave', 'Dark Water', 'Edtv', 'Inkheart', 'The Spirit', 'Mortdecai', 'In the Name of the King: A Dungeon Siege Tale', 'Beyond Borders', 'The Monkey King 2', 'The Great Raid', 'Deadpool', 'Holy Man', 'American Sniper', 'Goosebumps', 'Just Like Heaven', 'The Flintstones in Viva Rock Vegas', 'Rambo III', 'Leatherheads', 'The Ridiculous 6', 'Did You Hear About the Morgans?', 'The Internship', 'Resident Evil: Afterlife', 'Red Tails', \"The Devil's Advocate\", \"That's My Boy\", 'DragonHeart', 'After the Sunset', 'Ghost Rider: Spirit of Vengeance', \"Captain Corelli's Mandolin\", 'The Pacifier', 'Walking Tall', 'Forrest Gump', 'Alvin and the Chipmunks', 'Meet the Parents', 'Pocahontas', 'Superman', 'The Nutty Professor', 'Hitch', 'George of the Jungle', 'American Wedding', 'Captain Phillips', 'Date Night', 'Casper', 'The Equalizer', 'Maid in Manhattan', 'Crimson Tide', 'The Pursuit of Happyness', 'Flightplan', 'Disclosure', 'City of Angels', 'Kill Bill: Vol. 1', 'Bowfinger', 'Kill Bill: Vol. 2', 'Tango & Cash', 'Death Becomes Her', 'Shanghai Noon', 'Executive Decision', \"Mr. Popper's Penguins\", 'The Forbidden Kingdom', 'Free Birds', 'Alien³', 'Evita', 'Ronin', 'The Ghost and the Darkness', 'Paddington', 'The Watch', 'The Hunted', 'Instinct', 'Stuck on You', 'Semi-Pro', 'The Pirates! In an Adventure with Scientists!', 'Changeling', 'Chain Reaction', 'The Fan', 'The Phantom of the Opera', 'Elizabeth: The Golden Age', 'Æon Flux', 'Gods and Generals', 'Turbulence', 'Imagine That', 'Muppets Most Wanted', 'Thunderbirds', 'Burlesque', 'A Very Long Engagement', 'Lolita', 'D-Tox', 'Blade II', 'Seven Pounds', 'Bullet to the Head', 'The Godfather: Part III', 'Elizabethtown', 'You, Me and Dupree', 'Superman II', 'Gigli', \"All the King's Men\", 'Shaft', 'Anastasia', 'Moulin Rouge!', 'Domestic Disturbance', 'Black Mass', 'Flags of Our Fathers', 'Law Abiding Citizen', 'Grindhouse', 'Beloved', 'Lucky You', 'Catch Me If You Can', 'Zero Dark Thirty', 'The Break-Up', 'Mamma Mia!', \"Valentine's Day\", 'The Dukes of Hazzard', 'The Thin Red Line', 'The Change-Up', 'Man on the Moon', 'Casino', 'From Paris with Love', 'Bulletproof Monk', 'Me, Myself & Irene', 'Barnyard', 'Deck the Halls', 'The Twilight Saga: New Moon', 'Shrek', 'The Adjustment Bureau', 'Robin Hood: Prince of Thieves', 'Jerry Maguire', 'Ted', 'As Good as It Gets', 'Patch Adams', 'Anchorman 2: The Legend Continues', 'Mr. Deeds', 'Super 8', 'Erin Brockovich', 'How to Lose a Guy in 10 Days', '22 Jump Street', 'Interview with the Vampire', 'Yes Man', 'Central Intelligence', 'Stepmom', \"Daddy's Home\", 'Into the Woods', 'Inside Man', 'Payback', 'Congo', 'We Bought a Zoo', 'Knowing', 'Failure to Launch', 'The Ring Two', 'Crazy, Stupid, Love.', 'Garfield', 'Christmas with the Kranks', 'Moneyball', 'Outbreak', 'Non-Stop', 'Race to Witch Mountain', 'V for Vendetta', 'Shanghai Knights', 'Curious George', 'Herbie Fully Loaded', \"Don't Say a Word\", 'Hansel & Gretel: Witch Hunters', 'Unfaithful', 'I Am Number Four', 'Syriana', '13 Hours: The Secret Soldiers of Benghazi', 'The Book of Life', 'Firewall', 'Absolute Power', 'G.I. Jane', 'The Game', 'Silent Hill', 'The Replacements', 'American Reunion', 'The Negotiator', 'Into the Storm', 'Beverly Hills Cop III', 'Gremlins 2: The New Batch', 'The Judge', 'The Peacemaker', 'Resident Evil: Apocalypse', 'Bridget Jones: The Edge of Reason', 'Out of Time', 'On Deadly Ground', 'The Adventures of Sharkboy and Lavagirl', 'The Beach', 'Raising Helen', 'Ninja Assassin', 'For Love of the Game', 'Striptease', 'Marmaduke', 'Hereafter', 'Murder by Numbers', 'Assassins', 'Hannibal Rising', 'The Story of Us', 'The Host', 'The Host', 'The Host', 'The Host', 'Basic', 'Blood Work', 'The International', 'Escape from L.A.', 'The Iron Giant', 'The Life Aquatic with Steve Zissou', 'Free State of Jones', 'The Life of David Gale', 'Man of the House', 'Run All Night', 'Eastern Promises', 'Into the Blue', 'The Messenger: The Story of Joan of Arc', 'Your Highness', 'Dream House', 'Mad City', \"Baby's Day Out\", 'The Scarlet Letter', 'Fair Game', 'Domino', 'Jade', 'Gamer', 'Beautiful Creatures', 'Death to Smoochy', 'Zoolander 2', 'The Big Bounce', 'What Planet Are You From?', 'Drive Angry', 'Street Fighter: The Legend of Chun-Li', 'The One', 'The Adventures of Ford Fairlane', 'The Boat That Rocked', 'Traffic', 'Indiana Jones and the Last Crusade', 'Anna Karenina', 'Chappie', 'The Bone Collector', 'Panic Room', 'The Tooth Fairy', 'Three Kings', 'Child 44', 'Rat Race', 'K-PAX', 'Kate & Leopold', 'Bedazzled', 'The Cotton Club', '3:10 to Yuma', 'Taken 3', 'Out of Sight', 'The Cable Guy', 'Earth', 'Dick Tracy', 'The Thomas Crown Affair', 'Riding in Cars with Boys', 'First Blood', 'Solaris', \"Happily N'Ever After\", 'Mary Reilly', \"My Best Friend's Wedding\", \"America's Sweethearts\", 'Insomnia', 'Star Trek: First Contact', 'Jonah Hex', 'Courage Under Fire', 'Liar Liar', 'The Infiltrator', 'Inchon', 'The Flintstones', 'Taken 2', 'Scary Movie 3', 'Miss Congeniality', 'Journey to the Center of the Earth', 'The Princess Diaries 2: Royal Engagement', 'The Pelican Brief', 'The Client', 'The Bucket List', 'Patriot Games', 'Monster-in-Law', 'Prisoners', 'Training Day', 'Galaxy Quest', 'Scary Movie 2', 'The Muppets', 'Blade', 'Coach Carter', 'Changing Lanes', 'Anaconda', 'Coyote Ugly', 'Love Actually', \"A Bug's Life\", 'From Hell', 'The Specialist', 'Tin Cup', 'Yours, Mine and Ours', 'Kicking & Screaming', \"The Hitchhiker's Guide to the Galaxy\", 'Fat Albert', 'Resident Evil: Extinction', 'Blended', 'Last Holiday', 'The River Wild', 'The Indian in the Cupboard', 'Savages', 'Cellular', 'Johnny English', 'The Ant Bully', 'Dune', 'Across the Universe', 'Revolutionary Road', '16 Blocks', 'Babylon A.D.', 'The Glimmer Man', 'Multiplicity', 'Aliens in the Attic', 'The Pledge', 'The Producers', 'The Phantom', 'All the Pretty Horses', 'Nixon', 'The Ghost Writer', 'Deep Rising', 'Miracle at St. Anna', 'Curse of the Golden Flower', 'Bangkok Dangerous', 'Big Trouble', 'Love in the Time of Cholera', 'Shadow Conspiracy', 'Johnny English Reborn', 'Foodfight!', 'Argo', 'The Fugitive', 'The Bounty Hunter', 'Sleepers', 'Rambo: First Blood Part II', 'The Juror', 'Pinocchio', \"Heaven's Gate\", 'Underworld: Evolution', 'Victor Frankenstein', 'Finding Forrester', '28 Days', 'Unleashed', 'The Sweetest Thing', 'The Firm', 'Charlie St. Cloud', 'The Mechanic', '21 Jump Street', 'Notting Hill', 'Chicken Run', 'Along Came Polly', 'Boomerang', 'The Heat', 'Cleopatra', 'Here Comes the Boom', 'High Crimes', 'The Mirror Has Two Faces', 'The Mothman Prophecies', 'Brüno', 'Licence to Kill', 'Red Riding Hood', '15 Minutes', 'Super Mario Bros.', 'Lord of War', 'Hero', 'One for the Money', 'The Interview', \"The Warrior's Way\", 'Micmacs', '8 Mile', 'Why I Did (Not) Eat My Father', \"A Knight's Tale\", 'The Medallion', 'The Sixth Sense', 'Man on a Ledge', 'The Big Year', 'The Karate Kid', 'American Hustle', 'The Proposal', 'Double Jeopardy', 'Back to the Future Part II', 'Lucy', 'Fifty Shades of Grey', 'Spy Kids 3-D: Game Over', 'A Time to Kill', 'Cheaper by the Dozen', 'Lone Survivor', 'A League of Their Own', 'The Conjuring 2', 'The Social Network', \"He's Just Not That Into You\", 'Scary Movie 4', 'Scream 3', 'Back to the Future Part III', 'Get Hard', 'Dracula', 'Julie & Julia', '42', 'The Talented Mr. Ripley', 'Dumb and Dumber To', 'Eight Below', 'The Intern', 'Ride Along 2', 'The Last of the Mohicans', 'Ray', 'Sin City', 'Vantage Point', 'I Love You, Man', 'Shallow Hal', 'JFK', \"Big Momma's House 2\", 'The Mexican', '17 Again', 'The Other Woman', 'The Final Destination', 'Bridge of Spies', 'Behind Enemy Lines', 'Get Him to the Greek', 'Shall We Dance?', 'Small Soldiers', 'Spawn', 'The Count of Monte Cristo', 'The Lincoln Lawyer', 'Unknown', 'The Prestige', 'Horrible Bosses 2', 'Escape from Planet Earth', 'Apocalypto', 'The Living Daylights', 'Predators', 'Legal Eagles', 'Secret Window', 'The Lake House', 'The Skeleton Key', 'The Odd Life of Timothy Green', 'Made of Honor', 'Jersey Boys', 'The Rainmaker', 'Gothika', 'Amistad', 'Medicine Man', 'Aliens vs Predator: Requiem', 'Ri¢hie Ri¢h', 'Autumn in New York', 'Music and Lyrics', 'Paul', 'The Guilt Trip', 'Scream 4', '8MM', 'The Doors', 'Sex Tape', 'Hanging Up', 'Final Destination 5', 'Mickey Blue Eyes', 'Pay It Forward', 'Fever Pitch', 'Drillbit Taylor', 'A Million Ways to Die in the West', 'The Shadow', 'Extremely Loud & Incredibly Close', 'Morning Glory', \"Get Rich or Die Tryin'\", 'The Art of War', 'Rent', 'Bless the Child', 'The Out-of-Towners', 'The Island of Dr. Moreau', 'The Musketeer', 'The Other Boleyn Girl', 'Sweet November', 'The Reaping', 'Mean Streets', 'Renaissance Man', 'Colombiana', 'Quest for Camelot', 'City By The Sea', 'At First Sight', 'Torque', 'City Hall', 'Showgirls', 'Marie Antoinette', 'Kiss of Death', 'Get Carter', 'The Impossible', 'Ishtar', 'Fantastic Mr. Fox', 'Life or Something Like It', 'Memoirs of an Invisible Man', 'Amélie', 'New York Minute', 'Alfie', 'Big Miracle', 'The Deep End of the Ocean', 'FearDotCom', \"Cirque du Freak: The Vampire's Assistant\", 'Duplex', 'Soul Men', 'Raise the Titanic', 'Universal Soldier: The Return', 'Pandorum', 'Impostor', 'Extreme Ops', 'Just Visiting', 'Sunshine', 'A Thousand Words', 'Delgo', 'The Gunman', 'Stormbreaker', 'Disturbia', 'Hackers', 'The Hunting Party', 'The Hudsucker Proxy', 'The Warlords', 'Nomad: The Warrior', 'Snowpiercer', 'A Monster in Paris', 'The Last Shot', 'The Crow', 'Baahubali: The Beginning', \"The Time Traveler's Wife\", 'Because I Said So', 'Frankenweenie', 'Serenity', 'Against the Ropes', 'Superman III', 'Grudge Match', 'Red Cliff', 'Sweet Home Alabama', 'The Ugly Truth', 'Sgt. Bilko', 'Spy Kids 2: The Island of Lost Dreams', 'Star Trek: Generations', 'The Grandmaster', 'Water for Elephants', \"Dragon Nest: Warriors' Dawn\", 'The Hurricane', 'Enough', 'Heartbreakers', 'Paul Blart: Mall Cop 2', 'Angel Eyes', 'Joe Somebody', 'The Ninth Gate', 'Extreme Measures', 'Rock Star', 'Precious', 'White Squall', 'The Thing', 'Riddick', 'Switchback', 'Texas Rangers', 'City of Ember', 'The Master', 'Virgin Territory', 'The Express', 'The 5th Wave', 'Creed', 'The Town', \"What to Expect When You're Expecting\", 'Burn After Reading', \"Nim's Island\", 'Rush', 'Magnolia', 'Cop Out', 'How to Be Single', 'Dolphin Tale', 'Twilight', 'John Q', 'Blue Streak', \"We're the Millers\", 'The Inhabited Island', 'Breakdown', 'Never Say Never Again', 'Hot Tub Time Machine', 'Dolphin Tale 2', 'Reindeer Games', 'A Man Apart', 'Aloha', 'Ghosts of Mississippi', 'Snow Falling on Cedars', 'The Rite', 'Gattaca', \"Isn't She Great\", 'Space Chimps', 'Head of State', 'The Hangover', 'Ip Man 3', 'Austin Powers: The Spy Who Shagged Me', 'Batman', 'Batman', 'Batman', 'Batman', 'There Be Dragons', 'Lethal Weapon 3', 'The Blind Side', 'Spy Kids', 'Horrible Bosses', 'True Grit', 'The Devil Wears Prada', 'Star Trek: The Motion Picture', 'Identity Thief', 'Cape Fear', '21', 'Trainwreck', 'Guess Who', 'The English Patient', 'L.A. Confidential', 'Sky High', 'In & Out', 'Species', 'A Nightmare on Elm Street', 'The Cell', 'The Man in the Iron Mask', 'Secretariat', 'TMNT', 'Radio', 'Friends with Benefits', 'Neighbors 2: Sorority Rising', 'Saving Mr. Banks', 'Malcolm X', 'This Is 40', 'Old Dogs', 'Underworld: Rise of the Lycans', 'License to Wed', 'The Benchwarmers', 'Must Love Dogs', 'Donnie Brasco', 'Resident Evil', 'Poltergeist', 'The Ladykillers', 'Max Payne', 'In Time', 'The Back-Up Plan', 'Something Borrowed', 'Black Knight', 'The Bad News Bears', 'Street Fighter', 'The Pianist', 'The Nativity Story', 'House of Wax', 'Closer', 'J. Edgar', 'Mirrors', 'Queen of the Damned', 'Predator 2', 'Untraceable', 'Blast from the Past', 'Flash Gordon', 'Jersey Girl', 'Alex Cross', 'Midnight in the Garden of Good and Evil', 'Heist', 'Nanny McPhee and the Big Bang', 'Hoffa', 'The X Files: I Want to Believe', 'Ella Enchanted', 'Concussion', 'Abduction', 'Valiant', 'Wonder Boys', 'Superhero Movie', 'Broken City', 'Cursed', 'Premium Rush', 'Hot Pursuit', 'The Four Feathers', 'Parker', 'Wimbledon', 'Furry Vengeance', 'Bait', 'Krull', 'Lions for Lambs', 'Flight of the Intruder', 'Walk Hard: The Dewey Cox Story', 'The Shipping News', 'American Outlaws', 'The Young Victoria', 'Whiteout', 'The Tree of Life', 'Knock Off', 'Sabotage', 'The Order', 'Punisher: War Zone', 'Zoom', 'The Walk', 'Warriors of Virtue', 'A Good Year', 'Radio Flyer', 'Bound by Honor', \"Smilla's Sense of Snow\", 'Femme Fatale', 'Lion of the Desert', 'The Horseman on the Roof', 'Ride with the Devil', 'Biutiful', 'Bandidas', 'Black Water Transit', 'The Maze Runner', 'Unfinished Business', 'The Age of Innocence', 'The Fountain', 'Chill Factor', 'Stolen', 'Ponyo', 'The Longest Ride', \"The Astronaut's Wife\", 'I Dreamed of Africa', 'Playing for Keeps', 'Mandela: Long Walk to Freedom', 'Reds', 'A Few Good Men', 'Exit Wounds', \"Big Momma's House\", 'Thunder and the House of Magic', 'The Darkest Hour', 'Step Up Revolution', 'Snakes on a Plane', 'The Watcher', 'The Punisher', 'Goal!: The Dream Begins', 'Safe', 'Pushing Tin', 'Return of the Jedi', 'Doomsday', 'The Reader', 'Wanderlust', 'Elf', 'Phenomenon', 'Snow Dogs', 'Scrooged', 'Nacho Libre', 'Bridesmaids', 'This Is the End', 'Stigmata', 'Men of Honor', 'Takers', 'The Big Wedding', 'Big Mommas: Like Father, Like Son', 'Source Code', 'Alive', 'The Number 23', 'The Young and Prodigious T.S. Spivet', '1941', 'Dreamer: Inspired By a True Story', 'A History of Violence', 'Transporter 2', 'The Quick and the Dead', 'Laws of Attraction', 'Bringing Out the Dead', 'Repo Men', 'Dragon Wars: D-War', 'Bogus', 'The Incredible Burt Wonderstone', \"Cats Don't Dance\", 'Cradle Will Rock', 'The Good German', 'George and the Dragon', 'Apocalypse Now', 'Going the Distance', \"Mr. Holland's Opus\", 'Criminal', 'Out of Africa', 'Flight', 'Moonraker', 'The Grand Budapest Hotel', 'Hearts in Atlantis', 'Arachnophobia', 'Frequency', 'Vacation', 'Get Shorty', 'Chicago', 'Big Daddy', 'American Pie 2', 'Toy Story', 'Speed', 'The Vow', 'Extraordinary Measures', 'Remember the Titans', 'The Hunt for Red October', 'The Butler', 'DodgeBall: A True Underdog Story', 'The Addams Family', 'Ace Ventura: When Nature Calls', 'The Princess Diaries', 'The First Wives Club', 'Se7en', 'District 9', 'The SpongeBob SquarePants Movie', 'Mystic River', 'Million Dollar Baby', 'Analyze This', 'The Notebook', '27 Dresses', 'Hannah Montana: The Movie', 'Rugrats in Paris: The Movie', 'The Prince of Tides', 'Legends of the Fall', 'Up in the Air', 'About Schmidt', 'Warm Bodies', 'Looper', 'Down to Earth', 'Babe', 'Hope Springs', 'Forgetting Sarah Marshall', 'Four Brothers', 'Baby Mama', 'Hope Floats', 'Bride Wars', 'Without a Paddle', '13 Going on 30', 'Midnight in Paris', 'The Nut Job', 'Blow', 'Message in a Bottle', 'Star Trek V: The Final Frontier', 'Like Mike', 'The Naked Gun 33⅓: The Final Insult', 'A View to a Kill', 'The Curse of the Were-Rabbit', 'P.S. I Love You', 'Racing Stripes', 'Atonement', 'Letters to Juliet', 'Black Rain', 'The Three Stooges', 'Corpse Bride', 'Glory Road', 'Sicario', 'Southpaw', 'Drag Me to Hell', 'The Age of Adaline', 'Secondhand Lions', 'Step Up 3D', 'Blue Crush', 'Stranger Than Fiction', '30 Days of Night', 'The Cabin in the Woods', 'Meet the Spartans', 'Midnight Run', 'The Running Man', 'Little Shop of Horrors', 'Hanna', 'Mortal Kombat: Annihilation', 'Larry Crowne', 'Carrie', 'Take the Lead', 'Gridiron Gang', \"What's the Worst That Could Happen?\", '9', 'Side Effects', 'The Prince & Me', 'Winnie the Pooh', 'Dumb and Dumberer: When Harry Met Lloyd', 'Bulworth', 'Get on Up', 'One True Thing', 'Virtuosity', 'My Super Ex-Girlfriend', 'Deliver Us from Evil', 'Sanctum', 'Little Black Book', 'The Five-Year Engagement', 'Mr. 3000', 'The Next Three Days', 'Ultraviolet', 'Assault on Precinct 13', 'The Replacement Killers', 'Fled', 'Eight Legged Freaks', 'Love & Other Drugs', '88 Minutes', 'North Country', 'The Whole Ten Yards', 'Splice', 'Howard the Duck', 'Pride and Glory', 'The Cave', 'Alex & Emma', 'Wicker Park', 'Fright Night', 'The New World', 'Wing Commander', 'In Dreams', 'Dragonball Evolution', 'The Last Stand', 'Godsend', 'Chasing Liberty', 'Hoodwinked Too! Hood VS. Evil', 'An Unfinished Life', 'The Imaginarium of Doctor Parnassus', \"Barney's Version\", 'Runner Runner', 'Antitrust', 'Glory', 'Once Upon a Time in America', 'Dead Man Down', 'The Merchant of Venice', 'The Good Thief', 'Supercross', 'Miss Potter', 'The Promise', 'DOA: Dead or Alive', 'The Assassination of Jesse James by the Coward Robert Ford', '1911', 'Little Nicholas', 'Wild Card', 'Machine Gun Preacher', 'Animals United', 'Goodbye Bafana', 'United Passions', 'Grace of Monaco', 'Savva. Heart of the Warrior', \"Ripley's Game\", 'Sausage Party', 'Pitch Perfect 2', 'Walk the Line', 'Keeping the Faith', 'The Borrowers', 'Frost/Nixon', 'Confessions of a Dangerous Mind', 'Serving Sara', 'The Boss', 'Cry Freedom', 'Mumford', 'Seed of Chucky', 'The Jacket', 'Aladdin', 'Straight Outta Compton', 'Indiana Jones and the Temple of Doom', 'The Rugrats Movie', 'Along Came a Spider', 'Florence Foster Jenkins', 'Once Upon a Time in Mexico', 'Die Hard', 'Role Models', 'The Big Short', 'Taking Woodstock', 'Miracle', 'Dawn of the Dead', 'The Wedding Planner', 'Space Pirate Captain Harlock', 'The Royal Tenenbaums', 'Identity', 'Last Vegas', 'For Your Eyes Only', 'Serendipity', 'Timecop', 'Zoolander', 'Safe Haven', 'Hocus Pocus', 'No Reservations', 'Kick-Ass', '30 Minutes or Less', 'Dracula 2000', 'Alexander and the Terrible, Horrible, No Good, Very Bad Day', 'Pride & Prejudice', 'Blade Runner', 'Rob Roy', '3 Days to Kill', 'We Own the Night', 'Lost Souls', 'Winged Migration', 'Just My Luck', 'Mystery, Alaska', 'The Spy Next Door', 'A Simple Wish', 'Ghosts of Mars', 'Our Brand Is Crisis', 'Pride and Prejudice and Zombies', 'Kundun', 'How to Lose Friends & Alienate People', 'Kick-Ass 2', 'Alatriste', 'Brick Mansions', 'Octopussy', 'Knocked Up', \"My Sister's Keeper\", 'Welcome Home Roscoe Jenkins', 'A Passage to India', 'Notes on a Scandal', 'Rendition', 'Star Trek VI: The Undiscovered Country', 'Divine Secrets of the Ya-Ya Sisterhood', 'Kiss the Girls', 'The Blues Brothers', 'The Sisterhood of the Traveling Pants 2', 'Joyful Noise', 'About a Boy', 'Lake Placid', 'Lucky Number Slevin', 'The Right Stuff', 'Anonymous', 'The NeverEnding Story', 'Dark City', 'The Duchess', 'Return to Oz', 'The Newton Boys', 'Case 39', 'Suspect Zero', 'Martian Child', 'Spy Kids: All the Time in the World', 'Money Monster', 'The 51st State', 'Flawless', 'Mindhunters', 'What Just Happened', 'The Statement', 'The Magic Flute', 'Paul Blart: Mall Cop', 'Freaky Friday', 'The 40 Year Old Virgin', 'Shakespeare in Love', 'A Walk Among the Tombstones', 'Kindergarten Cop', 'Pineapple Express', 'Ever After: A Cinderella Story', 'Open Range', 'Flatliners', 'A Bridge Too Far', 'Red Eye', 'Final Destination 2', 'O Brother, Where Art Thou?', 'Legion', 'Pain & Gain', 'In Good Company', 'Clockstoppers', 'Silverado', 'Brothers', 'Agent Cody Banks 2: Destination London', \"New Year's Eve\", 'Original Sin', 'The Raven', 'Welcome to Mooseport', 'Highlander: The Final Dimension', 'Blood and Wine', 'Snow White: A Tale of Terror', 'The Curse of the Jade Scorpion', 'Accidental Love', 'Flipper', 'Self/less', 'The Constant Gardener', 'The Passion of the Christ', 'Mrs. Doubtfire', 'Rain Man', 'Gran Torino', 'W.', 'Taken', 'The Best of Me', 'The Bodyguard', \"Schindler's List\", 'The Help', 'The Fifth Estate', 'Scooby-Doo 2: Monsters Unleashed', 'Forbidden Kingdom', 'Freddy vs. Jason', 'The Face of an Angel', 'Jimmy Neutron: Boy Genius', 'Cloverfield', 'Teenage Mutant Ninja Turtles II: The Secret of the Ooze', 'The Untouchables', 'No Country for Old Men', 'Ride Along', \"Bridget Jones's Diary\", 'Chocolat', 'Legally Blonde 2: Red, White & Blonde', 'Parental Guidance', 'No Strings Attached', 'Tombstone', 'Romeo Must Die', 'The Omen', 'Final Destination 3', 'The Lucky One', 'Bridge to Terabithia', 'Finding Neverland', 'A Madea Christmas', 'The Grey', 'Hide and Seek', 'Anchorman: The Legend of Ron Burgundy', 'GoodFellas', 'Agent Cody Banks', 'Nanny McPhee', 'Scarface', 'Nothing to Lose', 'The Last Emperor', 'Contraband', 'Money Talks', 'There Will Be Blood', 'The Wild Thornberrys Movie', 'Rugrats Go Wild', 'Undercover Brother', 'The Sisterhood of the Traveling Pants', 'Kiss of the Dragon', 'The House Bunny', 'Beauty Shop', 'Million Dollar Arm', 'The Giver', 'What a Girl Wants', 'Jeepers Creepers 2', 'Good Luck Chuck', 'Cradle 2 the Grave', 'The Hours', \"She's the Man\", \"Mr. Bean's Holiday\", 'Anacondas: The Hunt for the Blood Orchid', 'Blood Ties', 'August Rush', 'Elizabeth', 'Bride of Chucky', 'Tora! Tora! Tora!', 'Spice World', 'The Sitter', 'Dance Flick', 'The Shawshank Redemption', 'Crocodile Dundee in Los Angeles', 'Kingpin', 'The Gambler', 'August: Osage County', 'Ice Princess', 'A Lot Like Love', 'Eddie the Eagle', 'He Got Game', 'Don Juan DeMarco', 'Dear John', 'The Losers', \"Don't Be Afraid of the Dark\", 'War', 'Punch-Drunk Love', 'EuroTrip', 'Half Past Dead', 'Unaccompanied Minors', 'Bright Lights, Big City', 'The Adventures of Pinocchio', 'The Greatest Game Ever Played', 'The Box', 'The Ruins', 'The Next Best Thing', 'My Soul to Take', 'The Girl Next Door', 'Maximum Risk', 'Stealing Harvard', 'Legend', 'Hot Rod', 'Shark Night', \"Angela's Ashes\", 'Draft Day', 'Lifeforce', 'The Conspirator', 'Lords of Dogtown', 'The 33', 'Big Trouble in Little China', 'Fly Me to the Moon', 'Warrior', 'Michael Collins', 'Gettysburg', 'Stop-Loss', 'Abandon', 'Brokedown Palace', 'The Possession', 'Mrs. Winterbourne', 'Straw Dogs', 'The Hoax', 'Stone Cold', 'The Road', 'Sheena', 'Underclassman', \"Say It Isn't So\", \"The World's Fastest Indian\", 'Tank Girl', \"King's Ransom\", 'Blindness', 'BloodRayne', 'Carnage', 'Where the Truth Lies', 'Cirque du Soleil: Worlds Away', 'Without Limits', 'Me and Orson Welles', 'The Best Offer', 'The Bad Lieutenant: Port of Call - New Orleans', \"A Turtle's Tale: Sammy's Adventures\", 'Little White Lies', 'Love Ranch', \"The True Story of Puss 'n Boots\", 'Space Dogs', 'The Counselor', 'Ironclad', 'Waterloo', 'Kung Fu Jungle', 'Red Sky', 'Dangerous Liaisons', 'On the Road', 'Star Trek IV: The Voyage Home', 'Rocky Balboa', 'Scream 2', 'Jane Got a Gun', 'Think Like a Man Too', 'The Whole Nine Yards', 'Footloose', 'Old School', 'The Fisher King', 'I Still Know What You Did Last Summer', 'Return to Me', 'Zack and Miri Make a Porno', 'Nurse Betty', 'The Men Who Stare at Goats', 'Double Take', 'Girl, Interrupted', 'Win a Date with Tad Hamilton!', 'Muppets from Space', 'The Wiz', 'Ready to Rumble', 'Play It to the Bone', \"I Don't Know How She Does It\", 'Piranha 3D', 'Beyond the Sea', 'Meet the Deedles', 'The Thief and the Cobbler', 'The Bridge of San Luis Rey', 'Faster', \"Howl's Moving Castle\", 'Zombieland', 'The Waterboy', 'The Empire Strikes Back', 'Bad Boys', 'The Naked Gun 2½: The Smell of Fear', 'Final Destination', 'The Ides of March', 'Pitch Black', 'Someone Like You...', 'Her', 'Joy Ride', 'The Adventurer: The Curse of the Midas Box', 'Anywhere But Here', 'The Crew', 'Haywire', 'Jaws: The Revenge', \"Marvin's Room\", 'The Longshots', 'The End of the Affair', 'Harley Davidson and the Marlboro Man', 'In the Valley of Elah', 'Coco Before Chanel', 'Forsaken', 'Cheri', 'Vanity Fair', 'Bodyguards and Assassins', '1408', 'Spaceballs', 'The Water Diviner', 'Ghost', \"There's Something About Mary\", 'The Santa Clause', 'The Rookie', 'The Game Plan', 'The Bridges of Madison County', 'The Animal', 'Gandhi', 'The Hundred-Foot Journey', 'The Net', 'I Am Sam', 'Son of God', 'Underworld', 'Derailed', 'The Informant!', 'Shadowlands', 'Deuce Bigalow: European Gigolo', 'Delivery Man', 'Our Kind of Traitor', 'Saving Silverman', 'Diary of a Wimpy Kid: Dog Days', 'Summer of Sam', 'Jay and Silent Bob Strike Back', 'The Glass House', 'Hail, Caesar!', 'Josie and the Pussycats', 'Homefront', 'The Little Vampire', 'I Heart Huckabees', 'RoboCop 3', 'Megiddo: The Omega Code 2', 'Darling Lili', 'Dudley Do-Right', 'The Transporter Refueled', 'The Libertine', 'Black Book', 'Joyeux Noël', 'Hit & Run', 'Mad Money', 'Before I Go to Sleep', 'Sorcerer', 'Stone', 'Moliere', 'Out of the Furnace', 'Michael Clayton', 'My Fellow Americans', 'Arlington Road', 'Underdogs', 'To Rome with Love', 'Firefox', 'South Park: Bigger, Longer & Uncut', 'Death at a Funeral', 'Teenage Mutant Ninja Turtles III', 'Hardball', 'Silver Linings Playbook', 'Freedom Writers', 'For Colored Girls', 'The Transporter', 'Never Back Down', 'The Rage: Carrie 2', 'Away We Go', 'Swing Vote', 'Moonlight Mile', 'Tinker Tailor Soldier Spy', 'Molly', 'The Beaver', 'The Best Little Whorehouse in Texas', 'eXistenZ', 'Raiders of the Lost Ark', 'Home Alone 2: Lost in New York', 'Close Encounters of the Third Kind', 'Pulse', 'Beverly Hills Cop II', 'Bringing Down the House', 'The Silence of the Lambs', \"Wayne's World\", 'Jackass 3D', 'Jaws 2', 'Beverly Hills Chihuahua', 'The Conjuring', 'Are We There Yet?', 'Tammy', 'School of Rock', 'Mortal Kombat', 'White Chicks', 'The Descendants', 'Holes', 'The Last Song', '12 Years a Slave', 'Drumline', 'Why Did I Get Married Too?', 'Edward Scissorhands', 'Me Before You', \"Madea's Witness Protection\", 'The French Connection', 'Bad Moms', 'Date Movie', 'Return to Never Land', 'Selma', 'The Jungle Book 2', 'Boogeyman', 'Premonition', 'The Tigger Movie', 'Orphan', 'Max', 'Epic Movie', 'Spotlight', 'Lakeview Terrace', 'The Grudge 2', 'How Stella Got Her Groove Back', \"Bill & Ted's Bogus Journey\", 'Man of the Year', 'The Black Hole', 'The American', 'Selena', 'Vampires Suck', 'Babel', 'This Is Where I Leave You', 'Doubt', 'Team America: World Police', 'Texas Chainsaw 3D', 'Copycat', 'Scary Movie 5', 'Paint Your Wagon', 'Milk', 'Risen', 'Ghost Ship', 'A Very Harold & Kumar Christmas', 'Wild Things', 'The Stepfather', 'The Debt', 'High Fidelity', 'One Missed Call', 'Eye for an Eye', 'The Bank Job', 'Eternal Sunshine of the Spotless Mind', 'You Again', 'Street Kings', \"The World's End\", 'Nancy Drew', 'Daybreakers', \"She's Out of My League\", 'Monte Carlo', 'Stay Alive', 'Quigley Down Under', 'Alpha and Omega', 'The Covenant', 'Stick It', 'Shorts', 'To Die For', 'Nerve', 'Appaloosa', 'Vampires', 'Psycho', \"My Best Friend's Girl\", 'Endless Love', 'Georgia Rule', 'Under the Rainbow', 'Ladyhawke', 'Simon Birch', 'Reign Over Me', 'Into the Wild', 'School for Scoundrels', 'Silent Hill: Revelation 3D', 'From Dusk Till Dawn', \"Pooh's Heffalump Movie\", 'Home for the Holidays', 'Kung Fu Hustle', 'The Country Bears', 'The Kite Runner', '21 Grams', 'Paparazzi', 'A Guy Thing', 'Loser', 'Capitalism: A Love Story', 'The Greatest Story Ever Told', 'Secret in Their Eyes', 'Disaster Movie', 'Armored', 'The Man Who Knew Too Little', \"What's Your Number?\", 'Lockout', 'Envy', 'Crank: High Voltage', 'Bullets Over Broadway', 'One Night with the King', 'The Quiet American', 'The Weather Man', 'Undisputed', 'Ghost Town', '12 Rounds', 'Let Me In', '3 Ninjas Kick Back', 'Be Kind Rewind', 'Mrs Henderson Presents', 'Triple 9', 'Deconstructing Harry', 'Three to Tango', 'Burnt', \"We're No Angels\", 'Everyone Says I Love You', 'Death Sentence', \"Everybody's Fine\", 'Superbabies: Baby Geniuses 2', 'The Man', 'Code Name: The Cleaner', 'Connie and Carla', 'Sweet Charity', 'Inherent Vice', 'Doogal', 'Battle of the Year', 'An American Carol', 'Machete Kills', 'Willard', 'Strange Wilderness', 'Topsy-Turvy', 'Little Boy', 'A Dangerous Method', 'A Scanner Darkly', 'Chasing Mavericks', 'Alone in the Dark', 'Bandslam', 'Birth', 'A Most Violent Year', 'Passchendaele', 'Flash of Genius', \"I'm Not There.\", 'The Cold Light of Day', 'The Brothers Bloom', 'Synecdoche, New York', 'Princess Mononoke', 'Bon voyage', \"Can't Stop the Music\", 'The Proposition', 'My All American', 'Marci X', 'Equilibrium', 'The Children of Huang Shi', 'The Yards', 'The Oogieloves in the Big Balloon Adventure', 'By the Sea', 'Steamboy', 'The Game of Their Lives', 'All Good Things', 'Rapa Nui', 'CJ7', 'The Visitors II: The Corridors of Time', 'Dylan Dog: Dead of Night', 'People I Know', 'The Tempest', 'Regression', 'Three Kingdoms: Resurrection of the Dragon', 'Butterfly on a Wheel', 'Zambezia', 'Ramanujan', 'Dwegons', 'Hands of Stone', 'Survivor', 'The Frozen Ground', 'The Painted Veil', 'The Baader Meinhof Complex', 'Dances with Wolves', 'Bad Teacher', 'Sea of Love', 'A Cinderella Story', 'Scream', 'Thir13en Ghosts', 'The Shining', 'Back to the Future', 'House on Haunted Hill', 'I Can Do Bad All By Myself', 'Fight Valley', 'The Switch', 'Just Married', \"The Devil's Double\", 'Thomas and the Magic Railroad', 'The Crazies', 'Spirited Away', 'Firestorm', 'The Bounty', 'The Book Thief', 'Sex Drive', 'Leap Year', 'The Fall of the Roman Empire', 'Take Me Home Tonight', \"Won't Back Down\", 'The Nutcracker', 'Kansas City', 'Indignation', 'The Amityville Horror', 'Adaptation.', 'Land of the Dead', 'Out of Inferno', 'Fear and Loathing in Las Vegas', 'The Invention of Lying', 'Neighbors', 'The Mask', 'Big', 'Borat: Cultural Learnings of America for Make Benefit Glorious Nation of Kazakhstan', 'Legally Blonde', 'Star Trek III: The Search for Spock', 'The Exorcism of Emily Rose', 'Deuce Bigalow: Male Gigolo', 'Left Behind', 'The Family Stone', 'Barbershop 2:  Back in Business', 'Bad Santa', 'Austin Powers: International Man of Mystery', 'My Big Fat Greek Wedding 2', 'Diary of a Wimpy Kid: Rodrick Rules', 'Predator', 'Amadeus', 'Prom Night', 'Mean Girls', 'Under the Tuscan Sun', 'Gosford Park', 'Peggy Sue Got Married', 'Birdman', 'Blue Jasmine', 'United 93', 'Honey', 'Spy Hard', 'The Fog', 'Soul Surfer', 'Catch-22', 'Observe and Report', 'Conan the Destroyer', 'Raging Bull', 'Love Happens', 'Young Sherlock Holmes', 'Fame', '127 Hours', 'Small Time Crooks', 'Center Stage', 'Love the Coopers', 'Catch That Kid', 'Life as a House', 'Steve Jobs', 'I Love You, Beth Cooper', 'Youth in Revolt', 'The Legend of the Lone Ranger', 'The Tailor of Panama', 'Blow Out', 'Getaway', 'The Ice Storm', 'And So It Goes', 'Troop Beverly Hills', 'Being Julia', 'Nine 1/2 Weeks', 'Dragonslayer', 'The Last Station', 'Ed Wood', 'Labor Day', 'Mongol: The Rise of Genghis Khan', 'RockNRolla', 'Megaforce', 'Hamlet', \"Mao's Last Dancer\", 'Midnight Special', 'Anything Else', 'The Railway Man', 'The White Ribbon', 'Restoration', 'The Wraith', 'Salton Sea', 'Metallica: Through the Never', 'The Informers', 'Carlos', 'I Come with the Rain', \"One Man's Hero\", 'Day of the Dead', 'I Am Wrath', 'Renaissance', 'Red Sonja', 'Red Lights', 'Superbad', 'Madea Goes to Jail', 'Wolves', 'Step Up 2: The Streets', 'Hoodwinked!', 'Hotel Rwanda', 'Hitman', 'Black Nativity', 'The Prince', 'City of Ghosts', 'The Others', 'Aliens', 'My Fair Lady', 'I Know What You Did Last Summer', \"Let's Be Cops\", 'Sideways', 'Beerfest', 'Halloween', 'Good Boy!', 'The Best Man Holiday', \"Smokin' Aces\", 'Saw: The Final Chapter', '40 Days and 40 Nights', 'A Night at the Roxbury', 'Beastly', 'The Hills Have Eyes', 'Dickie Roberts: Former Child Star', 'McFarland, USA', 'Lottery Ticket', 'ATL', 'Pitch Perfect', 'Summer Catch', 'A Simple Plan', 'They', 'Larry the Cable Guy: Health Inspector', 'The Adventures of Elmo in Grouchland', \"Brooklyn's Finest\", '55 Days at Peking', 'Evil Dead', 'My Life in Ruins', 'American Dreamz', 'Superman IV: The Quest for Peace', 'How She Move', 'Running Scared', 'Bobby Jones: Stroke of Genius', 'Shanghai Surprise', 'The Illusionist', 'Roar', 'Veronica Guerin', 'Escobar: Paradise Lost', 'Southland Tales', 'Dragon Hunters', 'Damnation Alley', 'The Apparition', 'My Girl', 'Fur: An Imaginary Portrait of Diane Arbus', 'Wall Street', 'Sense and Sensibility', 'Becoming Jane', 'Sydney White', 'House of Sand and Fog', 'Dead Poets Society', 'Dumb and Dumber', 'When Harry Met Sally...', 'The Verdict', 'Road Trip', 'Varsity Blues', 'The Artist', 'The Unborn', 'Moonrise Kingdom', 'The Texas Chainsaw Massacre: The Beginning', 'The Young Messiah', 'The Master of Disguise', \"Pan's Labyrinth\", 'See Spot Run', 'Baby Boy', 'The Roommate', 'Joe Dirt', 'Double Impact', 'Hot Fuzz', 'The Women', 'Vicky Cristina Barcelona', 'Arn: The Knight Templar', 'Boys and Girls', 'White Oleander', \"Jennifer's Body\", 'Drowning Mona', 'Radio Days', 'Remember Me', 'How to Deal', 'My Stepmother is an Alien', 'Philadelphia', 'The Thirteenth Floor', 'The Cookout', 'Meteor', 'Duets', 'Hollywood Ending', 'Detroit Rock City', 'Highlander', 'Things We Lost in the Fire', 'Steel', 'The Immigrant', 'The White Countess', 'Trance', 'Soul Plane', 'Welcome to the Sticks', 'Good', 'Enter the Void', 'Vamps', \"Hachi: A Dog's Tale\", 'Zulu', 'The Homesman', 'Juwanna Mann', 'Ararat', 'Madison', 'Slow Burn', 'Wasabi', 'Slither', 'Beverly Hills Cop', 'Home Alone', 'Three Men and a Baby', 'Tootsie', 'Top Gun', 'Crouching Tiger, Hidden Dragon', 'American Beauty', \"The King's Speech\", 'Twins', 'The Yellow Handkerchief', 'The Color Purple', 'Tidal Wave', 'The Imitation Game', 'Private Benjamin', \"Coal Miner's Daughter\", 'Diary of a Wimpy Kid', 'Mama', \"National Lampoon's Vacation\", 'Bad Grandpa', 'The Queen', 'Beetlejuice', 'Why Did I Get Married?', 'Little Women', 'The Woman in Black', 'When a Stranger Calls', 'Big Fat Liar', 'The Deer Hunter', 'Wag the Dog', 'The Lizzie McGuire Movie', 'Snitch', 'Krampus', 'The Faculty', \"What's Love Got to Do with It\", 'Cop Land', 'Not Another Teen Movie', 'End of Watch', 'The Skulls', 'The Theory of Everything', \"Malibu's Most Wanted\", 'Where the Heart Is', 'Lawrence of Arabia', 'Halloween II', 'Wild', 'The Last House on the Left', 'The Wedding Date', 'Halloween: Resurrection', 'The Princess Bride', 'The Great Debaters', 'Drive', 'Confessions of a Teenage Drama Queen', 'The Object of My Affection', '28 Weeks Later', 'When the Game Stands Tall', 'Because of Winn-Dixie', 'Love & Basketball', 'Grosse Pointe Blank', 'All About Steve', 'Book of Shadows: Blair Witch 2', 'The Craft', 'Match Point', 'Ramona and Beezus', 'The Remains of the Day', 'Boogie Nights', 'Nowhere to Run', 'Flicka', 'The Hills Have Eyes 2', 'Urban Legends: Final Cut', 'Tuck Everlasting', 'The Marine', 'Keanu', 'Country Strong', 'Disturbing Behavior', 'The Place Beyond the Pines', 'The November Man', 'Eye of the Beholder', 'The Hurt Locker', 'Firestarter', 'Killing Them Softly', 'A Most Wanted Man', 'Freddy Got Fingered', \"VeggieTales: The Pirates Who Don't Do Anything\", 'U2 3D', 'Highlander: Endgame', 'Idlewild', 'One Day', 'Whip It', 'Knockaround Guys', 'Confidence', 'The Muse', 'De-Lovely', 'New York Stories', \"Barney's Great Adventure\", 'The Man with the Iron Fists', 'Home Fries', 'Here On Earth', 'Brazil', 'Raise Your Voice', 'The Big Lebowski', 'Black Snake Moan', 'Dark Blue', 'A Mighty Heart', 'Whatever It Takes', 'Boat Trip', 'The Importance of Being Earnest', 'The Love Letter', 'Hoot', 'In Bruges', 'Peeples', 'The Rocker', 'Post Grad', 'Promised Land', 'Whatever Works', 'The In Crowd', 'The Three Burials of Melquiades Estrada', 'Jakob the Liar', 'Kiss Kiss Bang Bang', 'Idle Hands', 'Mulholland Drive', 'Blood and Chocolate', 'You Will Meet a Tall Dark Stranger', 'Never Let Me Go', 'The Company', 'Transsiberian', 'The Clan of the Cave Bear', 'Crazy in Alabama', 'Funny Games', 'Listening', \"Felicia's Journey\", 'Metropolis', 'District B13', \"Things to Do in Denver When You're Dead\", 'The Assassin', 'Buffalo Soldiers', 'The Return', 'Ong Bak 2', 'Centurion', 'Silent Trigger', 'The Midnight Meat Train', 'Winnie Mandela', 'The Son of No One', \"All The Queen's Men\", 'The Good Night', 'Bathory: Countess of Blood', 'Khumba', 'Automata', 'Dungeons & Dragons: Wrath of the Dragon God', 'Shinjuku Incident', 'Pandaemonium', 'Groundhog Day', 'Magic Mike XXL', 'Romeo + Juliet', \"Sarah's Key\", 'Freedom', 'Unforgiven', 'Manderlay', 'Slumdog Millionaire', 'Fatal Attraction', 'Pretty Woman', 'Crocodile Dundee II', 'Broken Horses', 'Born on the Fourth of July', 'Cool Runnings', 'My Bloody Valentine', 'Stomp the Yard', 'The Spy Who Loved Me', 'Urban Legend', 'Good Deeds', 'White Fang', 'Superstar', 'The Iron Lady', 'Jonah: A VeggieTales Movie', 'Poetic Justice', 'All About the Benjamins', 'Vampire in Brooklyn', 'Exorcist II: The Heretic', 'An American Haunting', \"My Boss's Daughter\", 'A Perfect Getaway', 'Our Family Wedding', 'Dead Man on Campus', 'Tea with Mussolini', 'Thinner', 'New York, New York', 'Crooklyn', 'I Think I Love My Wife', 'Jason X', 'Bobby', 'Head Over Heels', 'Fun Size', 'The Diving Bell and the Butterfly', 'Little Children', 'Gossip', 'A Walk on the Moon', 'Catch a Fire', 'Soul Survivors', 'Jefferson in Paris', 'Easy Virtue', 'Caravans', 'Mr. Turner', 'Wild Grass', 'Amen.', 'Reign of Assassins', 'The Lucky Ones', 'Margaret', 'Stan Helsing', 'Flipped', 'Brokeback Mountain', 'Clueless', 'Far from Heaven', 'Hot Tub Time Machine 2', 'Quills', 'Seven Psychopaths', \"The Caveman's Valentine\", 'Downfall', 'The Sea Inside', 'Under the Skin', 'Good Morning, Vietnam', 'The Last Godfather', 'Justin Bieber: Never Say Never', 'Black Swan', 'The Godfather: Part II', 'Save the Last Dance', 'A Nightmare on Elm Street 4: The Dream Master', 'Miracles from Heaven', 'Dude, Where’s My Car?', 'Young Guns', 'St. Vincent', 'About Last Night', '10 Things I Hate About You', 'The New Guy', \"National Lampoon's Loaded Weapon 1\", 'The Shallows', 'The Butterfly Effect', 'Snow Day', 'This Christmas', 'Baby Geniuses', 'The Big Hit', 'Harriet the Spy', \"Child's Play 2\", 'No Good Deed', 'The Mist', 'Ex Machina', 'Being John Malkovich', 'Two Can Play That Game', 'Earth to Echo', 'Crazy/Beautiful', 'Letters from Iwo Jima', 'The Astronaut Farmer', 'Woo', 'Room', 'Dirty Work', 'Serial Mom', 'Dick', 'Light It Up', '54', 'Bubble Boy', 'Birthday Girl', '21 & Over', \"Paris, je t'aime\", 'Resurrecting the Champ', 'Admission', 'The Widow of Saint-Pierre', 'Chloe', 'Faithful', 'Find Me Guilty', 'The Perks of Being a Wallflower', 'Excessive Force', 'Infamous', 'The Claim', 'The Vatican Tapes', 'Attack the Block', 'In the Land of Blood and Honey', 'The Call', 'Operation Chromite', 'The Crocodile Hunter: Collision Course', 'I Love You Phillip Morris', 'Quest for Fire', 'Antwone Fisher', \"The Emperor's Club\", 'True Romance', 'Womb', 'Glengarry Glen Ross', 'The Killer Inside Me', 'Cat People', 'Sorority Row', 'The Prisoner of Zenda', 'Lars and the Real Girl', 'The Boy in the Striped Pyjamas', 'Dancer in the Dark', 'Oscar and Lucinda', 'The Funeral', 'Solitary Man', 'Machete', 'Casino Jack', 'The Land Before Time', 'Tae Guk Gi: The Brotherhood of War', 'The Perfect Game', 'The Exorcist', 'Jaws', 'American Pie', 'Ernest & Celestine', 'The Golden Child', 'Think Like a Man', 'Barbershop', 'Star Trek II: The Wrath of Khan', 'Ace Ventura: Pet Detective', 'WarGames', 'Witness', 'Act of Valor', 'Step Up', 'Beavis and Butt-Head Do America', 'Jackie Brown', 'Harold & Kumar Escape from Guantanamo Bay', 'Chronicle', 'Yentl', 'Time Bandits', 'Crossroads', 'Project X', 'Patton', 'One Hour Photo', 'Quarantine', 'The Eye', 'Johnson Family Vacation', 'How High', 'The Muppet Christmas Carol', 'Frida', 'Katy Perry: Part of Me', 'The Fault in Our Stars', 'Rounders', 'Top Five', 'Prophecy', 'Stir of Echoes', 'Philomena', 'The Upside of Anger', 'The Boys from Brazil', 'Aquamarine', 'Paper Towns', \"My Baby's Daddy\", 'Nebraska', 'Tales from the Crypt: Demon Knight', \"Max Keeble's Big Move\", 'Young Adult', 'Crank', \"Def Jam's How to Be a Player\", 'Living Out Loud', 'Just Wright', 'Rachel Getting Married', 'The Postman Always Rings Twice', 'Girl with a Pearl Earring', 'Das Boot', 'Sorority Boys', 'About Time', 'House of Flying Daggers', 'Arbitrage', 'Project Almanac', 'Cadillac Records', 'Screwed', 'Fortress', 'For Your Consideration', 'Celebrity', 'Running with Scissors', 'From Justin to Kelly', 'Girl 6', 'In the Cut', 'Two Lovers', 'Last Orders', 'The Pursuit of D.B. Cooper', 'Ravenous', 'Charlie Bartlett', 'The Great Beauty', 'The Dangerous Lives of Altar Boys', 'Stoker', '2046', 'Married Life', 'Duma', 'Ondine', 'Brother', 'Welcome to Collinwood', 'Critical Care', 'The Life Before Her Eyes', 'Darling Companion', 'Trade', 'Fateless', 'Breakfast of Champions', 'A Woman, a Gun and a Noodle Shop', 'Cypher', 'City of Life and Death', 'Legend of a Rabbit', 'Space Battleship Yamato', '5 Days of War', 'Triangle', '10 Days in a Madhouse', 'Heaven is for Real', 'Snatch', \"Dancin' It's On\", 'Pet Sematary', 'Madadayo', 'The Cry of the Owl', 'A Tale of Three Cities', 'Gremlins', 'Star Wars', 'Dirty Grandpa', 'Doctor Zhivago', 'Trash', 'High School Musical 3: Senior Year', 'The Fighter', 'Jackass Number Two', 'My Cousin Vinny', 'If I Stay', 'Drive Hard', 'Major League', \"St. Trinian's\", 'Phone Booth', 'A Walk to Remember', 'Dead Man Walking', 'Cruel Intentions', 'Saw VI', 'History of the World: Part I', 'The Secret Life of Bees', 'Corky Romano', 'Raising Cain', 'F.I.S.T.', 'Invaders from Mars', 'Brooklyn', 'Barry Lyndon', 'Out Cold', 'The Ladies Man', 'Quartet', 'Tomcats', 'Frailty', 'Woman in Gold', 'Kinsey', 'Army of Darkness', 'Slackers', \"What's Eating Gilbert Grape\", 'The Visual Bible: The Gospel of John', 'Vera Drake', 'The Guru', 'The Perez Family', 'Inside Llewyn Davis', 'O', 'Return to the Blue Lagoon', 'The Molly Maguires', 'Romance & Cigarettes', 'Copying Beethoven', 'Brighton Rock', 'Saw V', 'Machine Gun McCain', 'LOL', 'Jindabyne', 'Kabhi Alvida Naa Kehna', 'An Ideal Husband', 'The Last Days on Mars', 'Darkness', '2001: A Space Odyssey', 'E.T. the Extra-Terrestrial', 'In the Land of Women', 'The Blue Butterfly', 'There Goes My Baby', 'Housefull', 'September Dawn', 'For Greater Glory - The True Story of Cristiada', 'The Bélier Family', 'Good Will Hunting', 'Misconduct', 'Saw III', 'Stripes', 'Bring It On', 'The Purge: Election Year', \"She's All That\", 'Saw IV', 'White Noise', \"Madea's Family Reunion\", 'The Color of Money', 'The Longest Day', 'The Mighty Ducks', 'The Grudge', 'Happy Gilmore', 'Jeepers Creepers', \"Bill & Ted's Excellent Adventure\", 'Oliver!', 'The Best Exotic Marigold Hotel', \"Recess: School's Out\", 'Mad Max Beyond Thunderdome', 'Commando', 'The Boy', 'Devil', 'Friday After Next', 'Insidious: Chapter 3', 'The Last Dragon', 'The Lawnmower Man', \"Nick and Norah's Infinite Playlist\", 'Dogma', 'The Banger Sisters', 'Twilight Zone: The Movie', 'Road House', 'A Low Down Dirty Shame', 'Swimfan', 'Employee of the Month', \"Can't Hardly Wait\", 'The Outsiders', \"Pete's Dragon\", 'The Dead Zone', 'Sinister 2', 'Sparkle', 'Valentine', 'The Fourth Kind', 'A Prairie Home Companion', 'Sugar Hill', 'Invasion U.S.A.', 'Roll Bounce', 'Rushmore', 'Skyline', 'The Second Best Exotic Marigold Hotel', 'Kit Kittredge: An American Girl', 'The Perfect Man', \"Mo' Better Blues\", 'Kung Pow: Enter the Fist', 'Tremors', 'Wrong Turn', 'The Long Riders', 'The Corruptor', 'Mud', 'Reno 911!: Miami', 'One Direction: This Is Us', 'The Goods: Live Hard, Sell Hard', 'Hey Arnold! The Movie', 'My Week with Marilyn', 'The Matador', 'Love Jones', 'The Gift', 'End of the Spear', 'Get Over It', 'Office Space', 'Drop Dead Gorgeous', 'Big Eyes', 'Very Bad Things', 'Sleepover', 'Body Double', 'MacGruber', 'Dirty Pretty Things', 'Movie 43', 'Over Her Dead Body', 'Seeking a Friend for the End of the World', 'Cedar Rapids', 'American History X', 'The Collection', \"Teacher's Pet\", 'The Red Violin', 'The Straight Story', 'Deuces Wild', 'Bad Words', 'Run, Fatboy, Run', 'Heartbeeps', 'Black or White', 'On the Line', 'Rescue Dawn', 'Danny Collins', 'Jeff, Who Lives at Home', 'I Am Love', 'Atlas Shrugged Part II', 'Romeo Is Bleeding', 'The Limey', 'Crash', 'The House of Mirth', 'Malone', 'Peaceful Warrior', 'Bucky Larson: Born to Be a Star', 'Bamboozled', 'The Forest', 'Sphinx', \"While We're Young\", 'A Better Life', 'Spider', 'Gun Shy', 'Nicholas Nickleby', 'The Iceman', 'Krrish', 'Cecil B. Demented', 'Killer Joe', 'The Joneses', 'Owning Mahowny', 'The Brothers Solomon', 'My Blueberry Nights', 'Illuminata', 'Swept Away', 'War, Inc.', 'Shaolin Soccer', 'The Brown Bunny', 'The Swindle', 'Rosewater', 'The Chambermaid on the Titanic', 'Coriolanus', 'Imaginary Heroes', 'High Heels and Low Lifes', \"World's Greatest Dad\", 'Severance', 'Edmond', 'Welcome to the Rileys', 'Police Academy: Mission to Moscow', 'Blood Done Sign My Name', 'Cinco de Mayo: La Batalla', 'Elsa & Fred', 'An Alan Smithee Film: Burn, Hollywood, Burn', 'The Open Road', 'The Good Guy', 'Motherhood', 'Free Style', 'Strangerland', 'Janky Promoters', 'Blonde Ambition', 'The Oxford Murders', 'The Reef', 'Eulogy', 'White Noise 2: The Light', 'Beat the World', 'Fifty Dead Men Walking', 'Jungle Shuffle', 'Adam Resurrected', 'Of Horses and Men', \"It's a Wonderful Afterlife\", \"The Devil's Tomb\", 'Partition', 'Good Intentions', 'The Good, The Bad, The Weird', 'Nurse 3-D', 'Gunless', 'Adventureland', 'The Lost City', 'Next Friday', 'American Heist', 'You Only Live Twice', 'Plastic', 'Amour', 'Poltergeist III', 'Re-Kill', \"It's a Mad, Mad, Mad, Mad World\", 'Volver', 'Heavy Metal', 'Gentlemen Broncos', 'Richard III', 'Into the Grizzly Maze', 'Kites', 'Melancholia', 'Red Dog', 'Jab Tak Hai Jaan', 'Alien', 'The Texas Chain Saw Massacre', 'The Runaways', 'Fiddler on the Roof', 'Thunderball', 'Detention', 'Loose Cannons', 'Set It Off', 'The Best Man', \"Child's Play\", 'Sicko', 'The Purge: Anarchy', 'Down to You', 'Harold & Kumar Go to White Castle', 'The Contender', 'Boiler Room', 'Trading Places', 'Black Christmas', \"Breakin' All the Rules\", 'Henry V', 'The Savages', 'Chasing Papi', 'The Way of the Gun', 'Igby Goes Down', 'PCU', 'The Ultimate Gift', 'The Ice Pirates', 'Gracie', 'Trust the Man', 'Hamlet 2', 'Velvet Goldmine', 'The Wailing', 'Glee: The Concert Movie', 'The Legend of Suriyothai', 'Two Evil Eyes', 'Barbecue', 'All or Nothing', 'Princess Kaiulani', 'Opal Dream', 'Flame & Citron', 'Undiscovered', 'Red Riding: In the Year of Our Lord 1974', 'The Girl on the Train', 'Veronika Decides to Die', 'Crocodile Dundee', 'Ultramarines: A Warhammer 40,000 Movie', 'The I Inside', 'Beneath Hill 60', 'Polisse', 'Awake', 'Star Wars: Clone Wars: Volume 1', 'Skin Trade', 'The Lost Boys', 'Crazy Heart', 'The Rose', 'Baggage Claim', 'Barbarella', 'Shipwrecked', 'Election', 'The Namesake', 'The DUFF', 'Glitter', 'The Haunting in Connecticut 2: Ghosts of Georgia', 'Silmido', 'Bright Star', 'My Name Is Khan', 'All Is Lost', 'Limbo', 'Namastey London', 'The Wind That Shakes the Barley', 'Yeh Jawaani Hai Deewani', 'Quo Vadis', 'Repo! The Genetic Opera', 'Valley of the Wolves: Iraq', 'Pulp Fiction', 'The Muppet Movie', 'Nightcrawler', 'Club Dread', 'The Sound of Music', 'Splash', 'Little Miss Sunshine', 'Stand by Me', '28 Days Later', 'You Got Served', 'Escape from Alcatraz', 'Brown Sugar', 'A Thin Line Between Love and Hate', '50/50', 'Shutter', 'That Awkward Moment', 'Modern Problems', 'Kicks', 'Much Ado About Nothing', \"On Her Majesty's Secret Service\", 'New Nightmare', 'Drive Me Crazy', 'Akeelah and the Bee', 'Half Baked', 'New in Town', 'American Psycho', 'The Good Girl', 'Bon Cop Bad Cop', 'The Boondock Saints II: All Saints Day', 'The City of Your Final Destination', 'Enough Said', 'Easy A', 'The Inkwell', 'Shadow of the Vampire', 'Prom', 'The Pallbearer', 'Held Up', 'Woman on Top', 'Howards End', 'Anomalisa', 'Another Year', '8 Women', 'Showdown in Little Tokyo', 'Clay Pigeons', \"It's Kind of a Funny Story\", 'Made in Dagenham', 'When Did You Last See Your Father?', 'Prefontaine', 'The Wicked Lady', 'The Secret of Kells', 'Begin Again', 'Down in the Valley', 'Brooklyn Rules', 'Restless', 'The Singing Detective', 'The Land Girls', 'Fido', 'The Wendell Baker Story', 'Wild Target', 'Pathology', 'Wuthering Heights', '10th & Wolf', 'Dear Wendy', 'Aloft', 'Akira', 'The Death and Life of Bobby Z', 'The Rocket: The Legend of Rocket Richard', 'Swelter', 'My Lucky Star', 'Imagine Me & You', 'Mr. Church', 'Swimming Pool', 'Green Street Hooligans: Underground', 'The Blood of Heroes', 'Code of Honor', 'Driving Miss Daisy', 'Soul Food', 'Rumble in the Bronx', 'Far from Men', 'Thank You for Smoking', 'Hostel: Part II', 'An Education', 'Shopgirl', 'The Hotel New Hampshire', 'Narc', 'Men with Brooms', 'Witless Protection', 'The Work and the Glory', 'Extract', 'Masked and Anonymous', 'Betty Fisher and Other Stories', 'Code 46', 'Outside Bet', 'Albert Nobbs', 'Black November', 'Ta Ra Rum Pum', 'Persepolis', 'The Hole', 'The Wave', 'The Neon Demon', 'Harry Brown', 'The Omega Code', 'Juno', 'Pound of Flesh', 'Diamonds Are Forever', 'The Godfather', 'Flashdance', '(500) Days of Summer', 'The Piano', 'Magic Mike', 'Darkness Falls', 'Live and Let Die', 'My Dog Skip', 'Definitely, Maybe', 'Jumping the Broom', 'Good Night, and Good Luck.', 'Capote', 'Desperado', \"Logan's Run\", 'The Man with the Golden Gun', 'Action Jackson', 'The Descent', 'Michael Jordan to the Max', \"Devil's Due\", 'Flirting with Disaster', \"The Devil's Rejects\", 'Dope', 'In Too Deep', 'House of 1000 Corpses', 'Alien Zone', 'A Serious Man', 'Get Low', 'Warlock', 'Beyond the Lights', 'A Single Man', 'The Last Temptation of Christ', 'Outside Providence', 'Bride & Prejudice', 'Rabbit-Proof Fence', \"Who's Your Caddy?\", 'Split Second', 'The Other Side of Heaven', 'Veer-Zaara', 'Redbelt', 'Cyrus', 'A Dog Of Flanders', 'Auto Focus', 'Factory Girl', 'We Need to Talk About Kevin', 'The Christmas Candle', 'The Mighty Macs', \"Losin' It\", 'Mother and Child', 'March or Die', 'The Visitors', 'Somewhere', 'I Hope They Serve Beer in Hell', 'Chairman of the Board', 'Hesher', 'Dom Hemingway', 'Gerry', 'The Heart of Me', 'Freeheld', 'The Extra Man', 'Hard to Be a God', 'Ca$h', 'Wah-Wah', 'The Boondock Saints', 'Z Storm', 'Twixt', 'The Snow Queen', 'Alpha and Omega: The Legend of the Saw Tooth Cave', 'Pale Rider', 'Stargate: The Ark of Truth', 'Dazed and Confused', 'High School Musical 2', 'Two Lovers and a Bear', 'Criminal Activities', 'Aimee & Jaguar', 'The Chumscrubber', 'Shade', 'House at the End of the Street', 'Incendies', 'Remember Me, My Love', 'Perrier’s Bounty', 'Elite Squad', 'Annabelle', 'Bran Nue Dae', 'Boyz n the Hood', 'La Bamba', 'The Four Seasons', 'Dressed to Kill', 'The Adventures of Huck Finn', 'Go', 'Friends with Money', 'The Andromeda Strain', 'Bats', 'Nowhere in Africa', 'Shame', 'Layer Cake', 'The Work and the Glory II: American Zion', 'The East', 'A Home at the End of the World', 'Aberdeen', 'The Messenger', 'Tracker', 'Control', 'The Terminator', 'Good bye, Lenin!', 'The Damned United', 'The Return of the Living Dead', 'Mallrats', 'Grease', 'Platoon', 'Fahrenheit 9/11', 'Butch Cassidy and the Sundance Kid', 'Mary Poppins', 'Ordinary People', 'West Side Story', 'Caddyshack', 'The Brothers', 'The Wood', 'The Usual Suspects', 'A Nightmare on Elm Street 5: The Dream Child', 'National Lampoon’s Van Wilder', 'The Wrestler', 'Duel in the Sun', 'Best in Show', 'Escape from New York', 'School Daze', 'Daddy Day Camp', 'Mr. Nice Guy', 'A Mighty Wind', 'Mystic Pizza', 'Sliding Doors', 'Tales from the Hood', 'The Last King of Scotland', 'Halloween 5: The Revenge of Michael Myers', 'Bernie', 'Dolphins and Whales: Tribes of the Ocean', 'Pollock', '200 Cigarettes', 'The Words', 'Casa De Mi Padre', 'City Island', 'The Guard', 'College', 'The Virgin Suicides', 'Little Voice', 'Miss March', 'Wish I Was Here', 'Simply Irresistible', 'Hedwig and the Angry Inch', 'Only the Strong', 'Goddess of Love', 'Shattered Glass', 'Novocaine', 'The Business of Strangers', 'The Wild Bunch', 'The Wackness', 'The First Great Train Robbery', 'Morvern Callar', 'Beastmaster 2: Through the Portal of Time', 'The 5th Quarter', 'The Flower of Evil', 'The Greatest', 'Snow Flower and the Secret Fan', 'Come Early Morning', 'Lucky Break', 'Julia', 'Surfer, Dude', 'Lake of Fire', '11:14', 'Men of War', 'Don McKay', 'Deadfall', 'A Shine of Rainbows', 'The Hit List', 'Emma', 'Videodrome', 'The Spanish Apartment', 'Song One', 'Winter in Wartime', 'Freaky Deaky', 'The Train', 'Trade Of Innocents', 'The Protector', 'Stiff Upper Lips', 'Bend It Like Beckham', 'Sunshine State', 'Crossover', 'Khiladi 786', '[REC]²', 'Standing Ovation', 'The Sting', 'Chariots of Fire', 'Diary of a Mad Black Woman', 'Shine', 'Don Jon', 'High Plains Drifter', 'Ghost World', 'Iris', 'Galaxina', 'The Chorus', 'Mambo Italiano', 'Wonderland', 'Do the Right Thing', 'Harvard Man', 'Le Havre', 'Irreversible', 'R100', 'Rang De Basanti', 'Animals', 'Salvation Boulevard', 'The Ten', 'A Room for Romeo Brass', 'Headhunters', 'Grabbers', 'Saint Ralph', 'Miss Julie', 'Somewhere in Time', 'Dum Maaro Dum', 'Insidious: Chapter 2', 'Saw II', '10 Cloverfield Lane', 'Jackass: The Movie', 'Lights Out', 'Paranormal Activity 3', 'Ouija', 'A Nightmare on Elm Street 3: Dream Warriors', 'Instructions Not Included', 'Paranormal Activity 4', 'The Robe', 'The Return of the Pink Panther', \"Freddy's Dead: The Final Nightmare\", 'Monster', '20,000 Leagues Under the Sea', 'Paranormal Activity: The Marked Ones', 'The Elephant Man', 'Dallas Buyers Club', 'The Lazarus Effect', 'Memento', 'Oculus', 'Clerks II', 'Billy Elliot', 'The Way Way Back', 'House Party 2', 'The Man from Snowy River', \"Doug's 1st Movie\", 'The Apostle', 'Mommie Dearest', 'Our Idiot Brother', 'Race', 'The Players Club', 'As Above, So Below', 'Addicted', \"Eve's Bayou\", 'Still Alice', 'The Egyptian', 'Nighthawks', 'Friday the 13th Part VIII: Jason Takes Manhattan', 'My Big Fat Greek Wedding', 'Spring Breakers', 'Halloween: The Curse of Michael Myers', 'Y Tu Mamá También', 'Shaun of the Dead', 'The Haunting of Molly Hartley', 'Lone Star', 'Halloween 4: The Return of Michael Myers', \"April Fool's Day\", 'Diner', 'Lone Wolf McQuade', 'Apollo 18', 'Sunshine Cleaning', 'No Escape', 'The Beastmaster', 'Solomon and Sheba', 'Fifty Shades of Black', 'Not Easily Broken', 'A Farewell to Arms', 'The Perfect Match', 'Digimon: The Movie', 'Saved!', 'The Barbarian Invasions', 'Robin and Marian', 'The Forsaken', 'Force 10 from Navarone', 'UHF', \"Grandma's Boy\", 'Slums of Beverly Hills', 'Once Upon a Time in the West', 'Made', 'Moon', 'Keeping Up with the Steins', 'Sea Rex 3D: Journey to a Prehistoric World', 'The Sweet Hereafter', 'Of Gods and Men', 'Bottle Shock', 'Jekyll and Hyde ... Together Again', 'Heavenly Creatures', '90 Minutes in Heaven', 'Everything Must Go', 'Zero Effect', 'The Machinist', 'Light Sleeper', 'Kill the Messenger', 'Rabbit Hole', 'Party Monster', 'Green Room', 'The Oh in Ohio', 'Atlas Shrugged Part III: Who is John Galt?', 'Bottle Rocket', 'Albino Alligator', 'Gandhi, My Father', 'Standard Operating Procedure', 'Out of the Blue', 'Out of the Blue', 'Out of the Blue', 'Out of the Blue', 'Tucker and Dale vs Evil', 'Lovely, Still', 'Tycoon', 'Desert Blue', 'Decoys', 'The Visit', 'Redacted', 'Fascination', 'Area 51', 'Sleep Tight', 'The Cottage', 'Dead Like Me: Life After Death', 'Farce of the Penguins', 'Flying By', 'Rudderless', 'Henry & Me', 'Christmas Eve', 'We Have Your Husband', 'Dying of the Light', 'Born Of War', 'Capricorn One', \"Should've Been Romeo\", 'Running Forever', 'Yoga Hosers', 'Navy Seals vs. Zombies', 'I Served the King of England', 'Soul Kitchen', 'Sling Blade', 'The Awakening', 'Hostel', 'A Cock and Bull Story', 'Take Shelter', 'Lady in White', 'Driving Lessons', \"Let's Kill Ward's Wife\", 'The Texas Chainsaw Massacre 2', 'Pat Garrett & Billy the Kid', 'Only God Forgives', 'Camping Sauvage', 'Without Men', 'Dear Frankie', 'All Hat', 'The Names of Love', 'Treading Water', 'Savage Grace', 'Police Academy', 'The Blue Lagoon', 'Four Weddings and a Funeral', 'Fast Times at Ridgemont High', 'Moby Dick', '25th Hour', 'Bound', 'Requiem for a Dream', 'State Fair', 'Tango', 'Salvador', \"Moms' Night Out\", 'Donnie Darko', 'Saving Private Perez', 'Character', 'Spun', 'Life During Wartime', 'Sympathy for Lady Vengeance', \"Mozart's Sister\", 'Mean Machine', 'Exiled', 'Blackthorn', 'Lilya 4-ever', 'After.Life', 'Fugly', \"One Flew Over the Cuckoo's Nest\", \"R.L. Stine's Monsterville: The Cabinet of Souls\", 'Silent Movie', 'Airlift', 'Anne of Green Gables', 'Falcon Rising', 'The Sweeney', 'Sexy Beast', 'Easy Money', 'Whale Rider', 'Paa', 'Cargo', 'High School Musical', 'Love and Death on Long Island', 'Night Watch', 'The Crying Game', \"Porky's\", 'Survival of the Dead', 'Night of the Living Dead', 'Lost in Translation', 'Annie Hall', 'The Greatest Show on Earth', \"Monster's Ball\", 'Maggie', 'Leaving Las Vegas', 'Hansel and Gretel Get Baked', 'The Front Page', 'The Boy Next Door', 'Trapeze', 'The Kids Are All Right', 'They Live', 'The Great Escape', 'What the #$*! Do We (K)now!?', 'The Last Exorcism Part II', 'Boyhood', 'Scoop', 'The Wash', '3 Strikes', 'The Cooler', 'The Misfits', 'The Night Listener', 'The Jerky Boys', 'The Orphanage', 'A Haunted House 2', 'The Rules of Attraction', 'Topaz', \"Let's Go to Prison\", 'Four Rooms', 'Secretary', 'The Real Cancun', 'Talk Radio', 'Waiting for Guffman', 'Love Stinks', 'You Kill Me', 'Thumbsucker', 'Red State', 'Mirrormask', 'Samsara', 'The Barbarians', 'The Art of Getting By', 'Zipper', 'Poolhall Junkies', 'The Loss of Sexual Innocence', 'Holy Motors', 'Joe', 'Shooting Fish', 'Prison', 'Psycho Beach Party', 'The Big Tease', 'Guten Tag, Ramón', 'Trust', 'An Everlasting Piece', 'Among Giants', 'Adore', 'The Velocity of Gary', 'Mondays in the Sun', 'Stake Land', 'The Last Time I Committed Suicide', 'Futuro Beach', 'Another Happy Day', 'A Lonely Place to Die', 'Nothing', 'The Geographer Drank His Globe Away', '1776', 'Inescapable', \"Hell's Angels\", 'Purple Violets', 'The Veil', 'The Loved Ones', 'The Helpers', 'How to Fall in Love', 'The Perfect Wave', 'A Man for All Seasons', 'Network', 'Gone with the Wind', 'Desert Dancer', 'Major Dundee', 'Annie Get Your Gun', 'Four Lions', 'The House of Sand', 'Defendor', 'The Pirate', 'The Good Heart', 'The History Boys', 'Midnight Cowboy', 'The Full Monty', 'Airplane!', 'Chain of Command', 'Friday', 'Menace II Society', 'Creepshow 2', 'The Ballad of Cable Hogue', 'In Cold Blood', \"The Nun's Story\", 'Harper', 'Frenzy', 'The Witch', 'I Got the Hook Up', \"She's the One\", 'Gods and Monsters', 'The Secret in Their Eyes', 'Train', 'Evil Dead II', 'Pootie Tang', 'Sharknado', 'The Other Conquest', 'Troll Hunter', 'Ira & Abby', 'Winter Passing', 'D.E.B.S.', 'The Masked Saint', 'The Betrayed', 'Taxman', 'The Secret', '2:13', 'Batman: The Dark Knight Returns, Part 2', 'Time to Choose', 'In the Name of the King III', 'Wicked Blood', 'Stranded', 'Lords of London', 'High Anxiety', 'March of the Penguins', 'Margin Call', 'August', 'Choke', 'Whiplash', 'City of God', 'Human Traffic', 'To Write Love on Her Arms', 'The Dead Girl', 'The Hunt', 'A Christmas Story', 'Bella', 'Class of 1984', 'The Opposite Sex', 'Dreaming of Joseph Lees', 'The Class', \"Rosemary's Baby\", 'The Man Who Shot Liberty Valance', 'Adam', 'Maria Full of Grace', 'Beginners', 'Feast', 'Animal House', 'Goldfinger', 'Antiviral', \"It's a Wonderful Life\", 'Trainspotting', 'The Original Kings of Comedy', 'Paranormal Activity 2', 'Waking Ned', 'Bowling for Columbine', 'Coming Home', \"A Nightmare on Elm Street Part 2: Freddy's Revenge\", 'A Room with a View', 'The Purge', 'Sinister', 'Martin Lawrence Live: Runteldat', 'Cat on a Hot Tin Roof', 'Beneath the Planet of the Apes', 'Air Bud', 'Pokémon: Spell of the Unknown', 'Friday the 13th Part VI: Jason Lives', 'The Bridge on the River Kwai', 'Spaced Invaders', 'Family Plot', 'The Apartment', 'Jason Goes to Hell: The Final Friday', 'Torn Curtain', \"Dave Chappelle's Block Party\", 'Slow West', 'Krush Groove', 'Next Day Air', 'Elmer Gantry', 'Judgment at Nuremberg', \"Trippin'\", 'Red River', 'Phat Girlz', 'Before Midnight', 'Teen Wolf Too', 'Phantasm II', 'Woman Thou Art Loosed', 'Real Women Have Curves', 'Water', 'East Is East', 'Whipped', 'Kama Sutra - A Tale of Love', 'Please Give', 'Willy Wonka & the Chocolate Factory', 'Warlock: The Armageddon', '8 Heads in a Duffel Bag', 'Days of Heaven', 'Thirteen Conversations About One Thing', 'Jawbreaker', 'Basquiat', 'Frances Ha', 'Tsotsi', 'Happiness', 'DysFunktional Family', 'Tusk', 'Oldboy', 'Letters to God', 'Hobo with a Shotgun', 'Compadres', 'Freeway', \"Love's Abiding Joy\", 'Fish Tank', 'Damsels in Distress', 'Creature', 'Bachelorette', 'Brave New Girl', \"Tim and Eric's Billion Dollar Movie\", 'Summer Storm', 'Fort McCoy', 'Chain Letter', 'Just Looking', 'The Divide', 'The Eclipse', 'Demonic', 'My Big Fat Independent Movie', 'The Deported', 'Tanner Hall', 'Open Road', 'They Came Together', '30 Nights of Paranormal Activity With the Devil Inside the Girl With the Dragon Tattoo', 'Never Back Down 2: The Beatdown', 'Point Blank', 'Four Single Fathers', 'Enter the Dangerous Mind', 'Something Wicked', 'AWOL-72', 'Iguana', 'Chicago Overcoat', 'Barry Munday', 'Central Station', 'Pocketful of Miracles', 'Close Range', 'Boynton Beach Club', 'Amnesiac', 'Freakonomics', 'High Tension', 'Griff the Invisible', 'Unnatural', 'Hustle & Flow', 'Some Like It Hot', 'Friday the 13th Part VII: The New Blood', 'The Wizard of Oz', 'Young Frankenstein', 'Diary of the Dead', 'Lage Raho Munna Bhai', \"Ulee's Gold\", 'The Black Stallion', 'Sardaarji', 'Journey to Saturn', \"Donovan's Reef\", 'The Dress', 'A Guy Named Joe', 'Blazing Saddles', 'Friday the 13th: The Final Chapter', 'Ida', 'Maurice', 'Beer League', 'Riding Giants', 'Timecrimes', 'Silver Medalist', 'Timber Falls', \"Singin' in the Rain\", 'Fat, Sick & Nearly Dead', 'A Haunted House', \"2016: Obama's America\", 'That Thing You Do!', 'Halloween III: Season of the Witch', 'Escape from the Planet of the Apes', 'Hud', 'Kevin Hart: Let Me Explain', 'My Own Private Idaho', 'Garden State', 'Before Sunrise', 'Evil Words', \"Jesus' Son\", 'Saving Face', 'Brick Lane', 'Robot & Frank', 'My Life Without Me', 'The Spectacular Now', 'Religulous', 'Fuel', \"Valley of the Heart's Delight\", 'Eye of the Dolphin', '8: The Mormon Proposition', 'The Other End of the Line', 'Anatomy', 'Sleep Dealer', 'Super', 'Christmas Mail', 'Stung', 'Antibirth', 'Get on the Bus', 'Thr3e', 'Idiocracy', 'The Rise of the Krays', 'This Is England', 'U.F.O.', 'Bathing Beauty', 'Go for It!', 'Dancer, Texas Pop. 81', 'Show Boat', 'Redemption Road', 'The Calling', 'The Brave Little Toaster', 'Fantasia', '8 Days', 'Friday the 13th Part III', 'Friday the 13th: A New Beginning', 'The Last Sin Eater', 'Do You Believe?', 'Impact Point', 'The Valley of Decision', 'Eden', 'Chicken Tikka Masala', \"There's Always Woodstock\", 'Jack Brooks: Monster Slayer', 'The Best Years of Our Lives', 'Bully', 'Elling', 'Mi America', '[REC]', 'Lies in Plain Sight', 'Sharkskin', 'Containment', 'The Timber', 'From Russia with Love', 'The Toxic Avenger Part II', 'Sleeper', 'It Follows', 'Everything You Always Wanted to Know About Sex *But Were Afraid to Ask', 'To Kill a Mockingbird', 'Mad Max 2: The Road Warrior', 'The Legend of Drunken Master', \"Boys Don't Cry\", 'Silent House', 'The Lives of Others', 'Courageous', 'The Hustler', 'Boom Town', 'The Triplets of Belleville', 'Smoke Signals', 'American Splendor', 'Before Sunset', 'Amores perros', 'Thirteen', \"Gentleman's Agreement\", \"Winter's Bone\", 'Touching the Void', \"Alexander's Ragtime Band\", 'Me and You and Everyone We Know', 'Inside Job', 'We Are Your Friends', 'Ghost Dog: The Way of the Samurai', 'Harsh Times', 'Captive', 'Full Frontal', 'Witchboard', 'Shortbus', 'Waltz with Bashir', 'The Book of Mormon Movie, Volume 1: The Journey', 'No End in Sight', 'The Diary of a Teenage Girl', 'In the Shadow of the Moon', \"Meek's Cutoff\", 'Inside Deep Throat', 'Dinner Rush', 'Clockwatchers', 'The Virginity Hit', 'Subway', 'House of D', 'Teeth', 'Six-String Samurai', 'Hum To Mohabbat Karega', \"It's All Gone Pete Tong\", 'Saint John of Las Vegas', '24 7: Twenty Four Seven', 'Stonewall', 'Roadside Romeo', 'This Thing of Ours', 'The Lost Medallion: The Adventures of Billy Stone', 'The Last Five Years', 'The Missing Person', 'Return of the Living Dead 3', 'London', 'Sherrybaby', 'Circle', 'Eden Lake', 'Plush', 'Lesbian Vampire Killers', \"Gangster's Paradise: Jerusalema\", 'Freeze Frame', 'Grave Encounters', 'Stitches', 'Nine Dead', 'Bananas', 'Supercapitalist', 'Rockaway', 'The Lady from Shanghai', \"No Man's Land: The Rise of Reeker\", 'Highway', 'Small Apartments', 'Coffee Town', 'The Ghastly Love of Johnny X', 'All Is Bright', 'The Torture Chamber of Dr. Sadism', \"Straight A's\", 'A Funny Thing Happened on the Way to the Forum', 'Slacker Uprising', \"The Legend of Hell's Gate: An American Conspiracy\", 'The Walking Deceased', 'The Curse of Downers Grove', 'Shark Lake', \"River's Edge\", 'Northfork', 'The Marine 4: Moving Target', 'Buried', 'Submarine', 'The Square', 'One to Another', 'ABCD (Any Body Can Dance)', 'Man on Wire', 'Abandoned', 'Brotherly Love', 'The Last Exorcism', 'Nowhere Boy', 'A Streetcar Named Desire', 'Dr. Strangelove or: How I Learned to Stop Worrying and Love the Bomb', 'The Crime of Padre Amaro', 'Beasts of the Southern Wild', 'Battle for the Planet of the Apes', 'Songcatcher', 'Higher Ground', 'Vaalu', 'The Greatest Movie Ever Sold', 'Ed and His Dead Mother', 'Travellers and Magicians', \"Hang 'em High\", 'Deadline - U.S.A.', 'Sublime', \"A Beginner's Guide to Snuff\", 'Independence Daysaster', 'Dysfunctional Friends', 'Run Lola Run', 'May', 'Against the Wild', 'Under the Same Moon', 'Conquest of the Planet of the Apes', 'In the Bedroom', 'I Spit on Your Grave', 'Happy, Texas', 'My Summer of Love', 'The Lunchbox', 'Yes', \"You Can't Take It With You\", 'From Here to Eternity', 'She Wore a Yellow Ribbon', 'Grace Unplugged', 'Foolish', 'N-Secure', 'Caramel', 'Out of the Dark', 'The Bubble', 'The Conversation', 'Dil Jo Bhi Kahey...', 'Mississippi Mermaid', 'I Love Your Work', 'Cabin Fever', 'Waitress', 'Bloodsport', 'Mr. Smith Goes to Washington', 'Kids', 'The Squid and the Whale', 'Kissing Jessica Stein', 'Kickboxer: Vengeance', 'Spellbound', 'Exotica', \"Buffalo '66\", 'Insidious', 'Repo Man', 'Nine Queens', 'The Gatekeepers', 'The Ballad of Jack and Rose', 'The To Do List', 'Killing Zoe', 'The Believer', 'Snow Angels', 'Unsullied', 'Session 9', 'I Want Someone to Eat Cheese With', 'Mooz-lum', 'Hatchet', 'Modern Times', 'Stolen Summer', 'My Name Is Bruce', 'The Salon', 'Road Hard', 'Forty Shades of Blue', 'Amigo', 'Pontypool', 'Trucker', 'Me You and Five Bucks', 'The Lords of Salem', 'Housebound', 'Wal-Mart: The High Cost of Low Price', 'Fetching Cody', 'Last I Heard', 'Closer to the Moon', 'Mutant World', 'Growing Up Smith', 'Checkmate', '#Horror', 'Wind Walkers', 'Snow White and the Seven Dwarfs', 'The Holy Girl', 'Shalako', 'Incident at Loch Ness', 'The Dog Lover', 'GirlHouse', 'The Blue Room', 'House at the End of the Drive', 'Lock, Stock and Two Smoking Barrels', 'The Ballad of Gregorio Cortez', 'The Celebration', 'Trees Lounge', 'Journey from the Fall', 'The Basket', 'Eddie: The Sleepwalking Cannibal', 'Queen of the Mountains', 'Def-Con 4', 'The Hebrew Hammer', \"Neal 'n' Nikki\", 'The 41–Year–Old Virgin Who Knocked Up Sarah Marshall and Felt Superbad About It', 'Forget Me Not', 'Rebecca', 'Friday the 13th Part 2', 'The Lost Weekend', 'C.H.U.D.', 'Filly Brown', 'The Lion of Judah', 'Niagara', 'How Green Was My Valley', 'Da Sweet Blood of Jesus', 'Sex, Lies, and Videotape', 'Saw', 'Super Troopers', 'The Algerian', 'The Amazing Catfish', 'Monsoon Wedding', 'You Can Count on Me', 'The Trouble with Harry', \"But I'm a Cheerleader\", 'Home Run', 'Reservoir Dogs', 'The Blue Bird', 'The Good, the Bad and the Ugly', 'The Second Mother', 'Blue Like Jazz', 'Down & Out With The Dolls', 'Pink Ribbons, Inc.', 'Certifiably Jonathan', 'Desire', 'The Blade of Don Juan', 'Grand Theft Parsons', 'Extreme Movie', 'The Charge of the Light Brigade', 'Below Zero', 'Crowsnest', 'Airborne', 'Cotton Comes to Harlem', 'The Wicked Within', 'Bleeding Hearts', 'Waiting...', \"Dead Man's Shoes\", 'From a Whisper to a Scream', 'Sex With Strangers', \"Dracula: Pages from a Virgin's Diary\", 'Faith Like Potatoes', 'Beyond the Black Rainbow', 'The Raid', 'The Dead Undead', 'The Vatican Exorcisms', 'Casablanca', 'Lake Mungo', 'Rocket Singh: Salesman of the Year', 'Silent Running', 'Rocky', 'The Sleepwalker', 'Tom Jones', 'Unfriended', 'Taxi Driver', 'The Howling', 'Dr. No', 'Chernobyl Diaries', 'Hellraiser', \"God's Not Dead 2\", 'Cry_Wolf', 'Godzilla 2000', 'Blue Valentine', 'Transamerica', 'The Devil Inside', 'Beyond the Valley of the Dolls', 'Love Me Tender', 'An Inconvenient Truth', 'Sands of Iwo Jima', 'Shine a Light', 'The Green Inferno', 'Departure', 'The Sessions', 'Food, Inc.', 'October Baby', 'Next Stop Wonderland', 'The Skeleton Twins', 'Martha Marcy May Marlene', 'Obvious Child', 'Frozen River', '20 Feet from Stardom', 'Two Girls and a Guy', 'Walking and Talking', 'Who Killed the Electric Car?', 'The Broken Hearts Club: A Romantic Comedy', 'Bubba Ho-tep', 'Slam', 'Brigham City', 'Fiza', 'Orgazmo', 'All the Real Girls', 'Dream with the Fishes', 'Blue Car', 'Palo Alto', 'Ajami', 'Wristcutters: A Love Story', 'I Origins', 'The Battle of Shaker Heights', 'The Act of Killing', 'Taxi to the Dark Side', 'Once in a Lifetime: The Extraordinary Story of the New York Cosmos', 'Guiana 1838', 'Lisa Picard Is Famous', 'Antarctica: A Year on Ice', 'A LEGO Brickumentary', 'Hardflip', 'Chocolate: Deep Dark Secrets', 'The House of the Devil', 'The Perfect Host', 'Safe Men', 'Speedway Junky', 'The Last Big Thing', 'The Specials', '16 to Life', 'Alone With Her', 'Creative Control', 'Special', 'Sparkler', 'The Helix... Loaded', 'In Her Line of Fire', 'The Jimmy Show', 'Heli', 'Karachi se Lahore', 'Loving Annabelle', 'Hits', 'Jimmy and Judy', 'Frat Party', \"The Party's Over\", 'Proud', 'The Poker House', 'Childless', 'ZMD: Zombies of Mass Destruction', 'Snow White: A Deadly Summer', 'Hidden Away', 'My Last Day Without You', 'Steppin: The Movie', \"Doc Holliday's Revenge\", 'Black Rock', 'Truth or Dare', 'The Pet', 'Bang Bang Baby', 'Fear Clinic', 'Zombie Hunter', 'A Fine Step', 'Charly', 'Banshee Chapter', 'Ask Me Anything', 'And Then Came Love', 'On the Waterfront', 'L!fe Happens', '4 Months, 3 Weeks and 2 Days', 'The Horror Network Vol. 1', 'Hard Candy', 'The Quiet', 'Circumstance', 'Fruitvale Station', 'The Brass Teapot', 'Bambi', 'The Hammer', 'Latter Days', 'Elza', '1982', 'For a Good Time, Call...', 'Celeste & Jesse Forever', 'Time Changer', 'London to Brighton', 'American Hero', 'Windsor Drive', 'A Separation', 'Crying with Laughter', 'Welcome to the Dollhouse', 'Ruby in Paradise', 'Raising Victor Vargas', \"Pandora's Box\", 'Harrison Montgomery', 'Live-In Maid', 'Deterrence', 'The Mudge Boy', 'The Young Unknowns', 'Not Cool', 'Dead Snow', 'Saints and Soldiers', 'Vessel', 'American Graffiti', 'Iraq for Sale: The War Profiteers', 'Aqua Teen Hunger Force Colon Movie Film for Theaters', 'Safety Not Guaranteed', 'Kevin Hart: Laugh at My Pain', 'Kill List', 'The Innkeepers', 'The Conformist', 'Interview with the Assassin', 'Donkey Punch', 'All the Boys Love Mandy Lane', 'Bled', 'High Noon', 'Hoop Dreams', 'Rize', 'L.I.E.', 'The Sisterhood of Night', 'B-Girl', 'Half Nelson', 'Naturally Native', 'Hav Plenty', 'Adulterers', 'Escape from Tomorrow', 'Starsuckers', 'The Hadza:  Last of the First', 'After', 'Treachery', 'Walter', 'Top Hat', 'The Blair Witch Project', 'Woodstock', 'The Kentucky Fried Movie', 'Mercy Streets', 'Carousel of Revenge', 'Broken Vessels', 'Water & Power', 'They Will Have to Kill Us First', 'Light from the Darkroom', 'The Country Doctor', \"The Maid's Room\", \"A Hard Day's Night\", 'The Harvest (La Cosecha)', 'Love Letters', 'Juliet and Alfa Romeo', 'Fireproof', 'Faith Connections', 'Benji', 'Open Water', 'High Road', 'Kingdom of the Spiders', 'Mad Hot Ballroom', 'The Station Agent', 'To Save A Life', 'Wordplay', 'Beyond the Mat', 'The Singles Ward', 'Osama', 'Sholem Aleichem: Laughing In The Darkness', 'Groove', 'The R.M.', 'Twin Falls Idaho', 'Mean Creek', 'Hurricane Streets', 'Never Again', 'Civil Brand', 'Lonesome Jim', 'Drinking Buddies', 'Deceptive Practice: The Mysteries and Mentors of Ricky Jay', 'Seven Samurai', 'The Other Dream Team', 'Johnny Suede', 'Finishing The Game', 'Rubber', 'Kiss the Bride', 'The Slaughter Rule', 'Monsters', 'The Californians', 'The Living Wake', 'Detention of the Dead', 'Crazy Stone', 'Scott Walker: 30 Century Man', 'Everything Put Together', 'Good Kill', 'The Outrageous Sophie Tucker', 'Now Is Good', 'Girls Gone Dead', 'America Is Still the Place', 'Subconscious', 'Enter Nowhere', 'El Rey de Najayo', 'Fight to the Finish', \"Alleluia! The Devil's Carnival\", 'The Sound and the Shadow', 'Rodeo Girl', 'Born to Fly: Elizabeth Streb vs. Gravity', 'The Little Ponderosa Zoo', 'The Toxic Avenger', 'Straight Out of Brooklyn', 'Bloody Sunday', 'Diamond Ruff', 'Conversations with Other Women', 'Poultrygeist: Night of the Chicken Dead', 'Mutual Friends', '42nd Street', 'Rise of the Entrepreneur: The Search for a Better Way', 'Metropolitan', 'As It Is in Heaven', 'Roadside', 'Napoleon Dynamite', 'Blue Ruin', 'Paranormal Activity', 'Dogtown and Z-Boys', 'Monty Python and the Holy Grail', 'Quinceañera', 'Gory Gory Hallelujah', 'Tarnation', 'I Want Your Money', 'Love in the Time of Monsters', 'The Beyond', 'What Happens in Vegas', 'The Dark Hours', 'My Beautiful Laundrette', 'Fabled', 'Show Me', 'Cries and Whispers', 'Intolerance', 'Trekkies', 'The Broadway Melody', 'The Evil Dead', 'Maniac', 'Censored Voices', 'Murderball', 'American Ninja 2: The Confrontation', '51 Birch Street', 'Rotor DR1', '12 Angry Men', 'My Dog Tulip', 'It Happened One Night', 'Dogtooth', 'Tupac: Resurrection', 'Tumbleweeds', 'The Prophecy', \"When the Cat's Away\", 'Pieces of April', 'The Big Swap', 'Old Joy', 'Wendy and Lucy', '3 Backyards', 'Pierrot le Fou', 'Sisters in Law', 'Ayurveda: Art of Being', 'Nothing But a Man', 'First Love, Last Rites', 'Fighting Tommy Riley', 'Royal Kill', 'The Looking Glass', 'Death Race 2000', 'Locker 13', 'Midnight Cabaret', \"Anderson's Cross\", 'Bizarre', 'Graduation Day', 'Some Guy Who Kills People', 'Compliance', 'Chasing Amy', 'Lovely & Amazing', 'Death Calls', 'Better Luck Tomorrow', 'The Incredibly True Adventure of Two Girls In Love', 'Chuck & Buck', 'American Desi', \"Amidst the Devil's Wings\", 'Cube', 'Love and Other Catastrophes', 'I Married a Strange Person!', 'November', 'Like Crazy', 'Teeth and Blood', 'Sugar Town', 'The Motel', 'The Canyons', 'On the Outs', 'Shotgun Stories', 'Exam', 'The Sticky Fingers of Time', 'Sunday School Musical', 'Rust', 'Ink', 'The Christmas Bunny', 'Butterfly', 'UnDivided', 'The Frozen', 'Horse Camp', 'Give Me Shelter', 'The Big Parade', 'Little Big Top', 'Along the Roadside', 'Bronson', 'Western Religion', 'Burn', 'Urbania', 'The Stewardesses', 'The Beast from 20,000 Fathoms', 'Mad Max', 'Swingers', 'A Fistful of Dollars', 'She Done Him Wrong', 'Short Cut to Nirvana: Kumbh Mela', 'The Grace Card', 'Middle of Nowhere', 'Three', 'The Business of Fancydancing', 'Call + Response', 'Malevolence', 'Reality Show', 'Super Hybrid', 'Baghead', 'American Beast', 'The Case of the Grinning Cat', 'Ordet', 'Good Dick', 'The Man from Earth', 'The Trials Of Darryl Hunt', 'Samantha: An American Girl Holiday', 'Yesterday Was a Lie', 'Theresa Is a Mother', 'H.', 'Archaeology of a Woman', 'Children of Heaven', 'Weekend', \"She's Gotta Have It\", 'Butterfly Girl', 'The World Is Mine', 'Another Earth', \"Sweet Sweetback's Baadasssss Song\", 'Perfect Cowboy', 'Tadpole', 'Once', 'The Woman Chaser', 'The Horse Boy', 'When the Lights Went Out', 'Heroes of Dirt', 'A Charlie Brown Christmas', 'Antarctic Edge: 70° South', 'Aroused', 'Top Spin', 'Roger & Me', 'An American in Hollywood', 'Sound of My Voice', 'The Blood of My Brother: A Story of Death in Iraq', \"Your Sister's Sister\", \"A Dog's Breakfast\", 'The Married Woman', 'The Birth of a Nation', 'The Work and The Story', 'Facing the Giants', 'The Gallows', 'Eraserhead', 'Hollywood Shuffle', 'The Mighty', 'Penitentiary', 'The Lost Skeleton of Cadavra', \"Dude Where's My Dog?\", 'Cheap Thrills', 'Indie Game: The Movie', 'Straightheads', 'Open Secret', 'Echo Dr.', 'The Night Visitor', 'The Past Is a Grotesque Animal', 'Peace, Propaganda & the Promised Land', 'Pi', \"I Love You, Don't Touch Me!\", '20 Dates', 'Queen Crab', 'Super Size Me', 'The FP', 'Happy Christmas', \"The Brain That Wouldn't Die\", 'Tiger Orange', 'Supporting Characters', 'Absentia', 'The Brothers McMullen', 'The Dirties', 'Gabriela', 'Tiny Furniture', 'Hayride', 'The Naked Ape', 'Counting', 'The Call of Cthulhu', 'Bending Steel', 'The Signal', 'The Image Revolution', 'This Is Martin Bonner', 'A True Story', 'George Washington', 'Smiling Fish & Goat On Fire', 'Dawn of the Crescent Moon', 'Raymond Did It', 'The Last Waltz', 'Run, Hide, Die', 'The Exploding Girl', \"The Legend of God's Gun\", 'Mutual Appreciation', 'Her Cry: La Llorona Investigation', 'Down Terrace', 'Clerks', 'Pink Narcissus', 'Funny Ha Ha', 'In the Company of Men', 'Manito', 'Rampage', 'Slacker', 'Dutch Kills', 'Dry Spell', 'Flywheel', 'Backmask', 'The Puffy Chair', 'Stories of Our Lives', 'Breaking Upwards', 'All Superheroes Must Die', 'Pink Flamingos', 'Clean', 'The Circle', 'Tin Can Man', 'Cure', 'On The Downlow', 'Sanctuary: Quite a Conundrum', 'Bang', 'Primer', 'Cavite', 'El Mariachi', 'Newlyweds', 'Signed, Sealed, Delivered', 'Shanghai Calling', 'My Date with Drew']\n"
     ]
    }
   ],
   "source": [
    "print(list_of_all_movies)"
   ]
  },
  {
   "cell_type": "code",
   "execution_count": 37,
   "id": "37d24368",
   "metadata": {},
   "outputs": [
    {
     "name": "stdout",
     "output_type": "stream",
     "text": [
      "Yes\n"
     ]
    }
   ],
   "source": [
    "if \"Lights Out\" in list_of_all_movies:\n",
    "    print(\"Yes\")\n",
    "else:\n",
    "    print(\"No\")"
   ]
  },
  {
   "cell_type": "code",
   "execution_count": 38,
   "id": "35e071a6",
   "metadata": {},
   "outputs": [],
   "source": [
    "def recommend(movie):\n",
    "        movie_index= movies1[movies1['title']==movie].index[0]\n",
    "        distances=similarity[movie_index]  \n",
    "        movies_list=sorted(list(enumerate(distances)),reverse=True,key=lambda x:x[1])[1:6]\n",
    "        \n",
    "        for i in movies_list:\n",
    "            print(movies1.iloc[i[0]].title)\n",
    "               "
   ]
  },
  {
   "cell_type": "code",
   "execution_count": 39,
   "id": "5bfc1585",
   "metadata": {},
   "outputs": [
    {
     "name": "stdout",
     "output_type": "stream",
     "text": [
      "Enter your last seen movie:Inception\n",
      "Recommended movies:\n",
      "Don Jon\n",
      "Blood and Wine\n",
      "Looper\n",
      "Hesher\n",
      "Tinker Tailor Soldier Spy\n"
     ]
    }
   ],
   "source": [
    "movie=input(\"Enter your last seen movie:\")\n",
    "if movie in list_of_all_movies:\n",
    "    print(\"Recommended movies:\")\n",
    "    recommend(movie)\n",
    "else:\n",
    "    print(\"Try Another movie\")"
   ]
  },
  {
   "cell_type": "code",
   "execution_count": 41,
   "id": "e70ddef4",
   "metadata": {},
   "outputs": [],
   "source": [
    "pickle.dump(movies1,open('movies.pkl','wb'))"
   ]
  },
  {
   "cell_type": "code",
   "execution_count": 42,
   "id": "e6a97975",
   "metadata": {},
   "outputs": [],
   "source": [
    "pickle.dump(list_of_all_movies,open('movies_list.pkl','wb'))"
   ]
  },
  {
   "cell_type": "code",
   "execution_count": 43,
   "id": "9af21765",
   "metadata": {},
   "outputs": [],
   "source": [
    "pickle.dump(similarity,open('similarity.pkl','wb'))"
   ]
  },
  {
   "cell_type": "code",
   "execution_count": null,
   "id": "ce138162",
   "metadata": {},
   "outputs": [],
   "source": []
  }
 ],
 "metadata": {
  "kernelspec": {
   "display_name": "Python 3 (ipykernel)",
   "language": "python",
   "name": "python3"
  },
  "language_info": {
   "codemirror_mode": {
    "name": "ipython",
    "version": 3
   },
   "file_extension": ".py",
   "mimetype": "text/x-python",
   "name": "python",
   "nbconvert_exporter": "python",
   "pygments_lexer": "ipython3",
   "version": "3.11.5"
  }
 },
 "nbformat": 4,
 "nbformat_minor": 5
}
